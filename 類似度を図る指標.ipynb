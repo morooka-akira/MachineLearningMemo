{
 "cells": [
  {
   "cell_type": "markdown",
   "metadata": {},
   "source": [
    "代表的な類似度\n",
    "-------------\n",
    "- ピアソンの相関係数(Pearson Product-moment Correlation Coefficient)\n",
    "    - いわゆる相関係数とよばれるものはこのピアソンの相関係数を指すことがおおい\n",
    "- コサイン類似度(Cosine Similarity)\n",
    "- ジャッカード係数(Jaccard Index, Jaccard Simialarity Coeffiecient)"
   ]
  },
  {
   "cell_type": "markdown",
   "metadata": {},
   "source": [
    "ピアソンの相関係数\n",
    "----------------"
   ]
  },
  {
   "cell_type": "code",
   "execution_count": 18,
   "metadata": {},
   "outputs": [
    {
     "name": "stdout",
     "output_type": "stream",
     "text": [
      "[-2. -3.  0.  2.  3.]\n"
     ]
    },
    {
     "data": {
      "text/plain": [
       "0.8770580193070292"
      ]
     },
     "execution_count": 18,
     "metadata": {},
     "output_type": "execute_result"
    }
   ],
   "source": [
    "import numpy as np\n",
    "def pearson_coefficient(u, v):\n",
    "    u_diff = u - np.mean(u)\n",
    "    v_diff = v - np.mean(v)\n",
    "    numerator = np.dot(u_diff, v_diff) # 分子\n",
    "    denominator = np.sqrt(sum(u_diff **2)) * np.sqrt(sum(v_diff **2)) #分母\n",
    "    return numerator / denominator\n",
    "  \n",
    "u = [1, 0 , 3, 5,  6]\n",
    "v = [0, 0 , 2, 3,  2]\n",
    "v2 = [0, 0 , 2, 0,  0]\n",
    "pearson_coefficient(u, v) # uとvは似ているユーザーといえる"
   ]
  },
  {
   "cell_type": "code",
   "execution_count": 6,
   "metadata": {},
   "outputs": [
    {
     "data": {
      "text/plain": [
       "0.8770580193070292"
      ]
     },
     "execution_count": 6,
     "metadata": {},
     "output_type": "execute_result"
    }
   ],
   "source": [
    "# SciPyを使うと以下のように算出できる\n",
    "from scipy.spatial.distance import correlation\n",
    "\n",
    "1 - correlation(u, v)"
   ]
  },
  {
   "cell_type": "markdown",
   "metadata": {},
   "source": [
    "コサイン類似度\n",
    "--------------------\n",
    "- テキスト文章間の距離を算出するときによく利用する\n",
    "- 0から1までの値を取る"
   ]
  },
  {
   "cell_type": "code",
   "execution_count": 26,
   "metadata": {},
   "outputs": [
    {
     "data": {
      "text/plain": [
       "0.35603449745815596"
      ]
     },
     "execution_count": 26,
     "metadata": {},
     "output_type": "execute_result"
    }
   ],
   "source": [
    "import numpy as np\n",
    "\n",
    "def cosine_similarity(u, v):\n",
    "    return np.dot(u, v) / (np.sqrt(sum(u**2)) * np.sqrt(sum(v**2)))\n",
    "\n",
    "u = [1, 0 , 3, 5,  6]\n",
    "v = [0, 0 , 2, 3,  2]\n",
    "v2 = [0, 0 , 2, 0,  0]\n",
    "cosine_similarity(np.array(u), np.array(v2)) "
   ]
  },
  {
   "cell_type": "code",
   "execution_count": 13,
   "metadata": {},
   "outputs": [
    {
     "data": {
      "text/plain": [
       "0.9498615431306161"
      ]
     },
     "execution_count": 13,
     "metadata": {},
     "output_type": "execute_result"
    }
   ],
   "source": [
    "# SciPyを使うと以下のように算出できる\n",
    "from scipy.spatial.distance import cosine\n",
    "\n",
    "1 - cosine(u, v)"
   ]
  },
  {
   "cell_type": "markdown",
   "metadata": {},
   "source": [
    "ジャッカード係数\n",
    "---------------------\n",
    "- 集合間の距離を計算することができる\n",
    "- 0から1までの値をとる"
   ]
  },
  {
   "cell_type": "code",
   "execution_count": 30,
   "metadata": {},
   "outputs": [
    {
     "data": {
      "text/plain": [
       "-3.0"
      ]
     },
     "execution_count": 30,
     "metadata": {},
     "output_type": "execute_result"
    }
   ],
   "source": [
    "import numpy as np\n",
    "\n",
    "def jaccard_simialarity_coeffiecient(u, v):\n",
    "    return np.dot(u, v) / (sum(np.absolute(u)) + sum(np.absolute(v)) - np.dot(u, v))\n",
    "\n",
    "u = [1, 0 , 3, 5,  6]\n",
    "v = [0, 0 , 2, 3,  2]\n",
    "v2 = [0, 0 , 2, 0,  0]\n",
    "jaccard_simialarity_coeffiecient(np.array(u), np.array(v)) "
   ]
  },
  {
   "cell_type": "code",
   "execution_count": 35,
   "metadata": {},
   "outputs": [
    {
     "data": {
      "text/plain": [
       "0.0"
      ]
     },
     "execution_count": 35,
     "metadata": {},
     "output_type": "execute_result"
    }
   ],
   "source": [
    "# SciPyを使うと以下のように算出できる\n",
    "from scipy.spatial.distance import jaccard\n",
    "\n",
    "1 - jaccard(u, v)"
   ]
  }
 ],
 "metadata": {
  "kernelspec": {
   "display_name": "Python 3",
   "language": "python",
   "name": "python3"
  },
  "language_info": {
   "codemirror_mode": {
    "name": "ipython",
    "version": 3
   },
   "file_extension": ".py",
   "mimetype": "text/x-python",
   "name": "python",
   "nbconvert_exporter": "python",
   "pygments_lexer": "ipython3",
   "version": "3.6.0"
  }
 },
 "nbformat": 4,
 "nbformat_minor": 2
}
