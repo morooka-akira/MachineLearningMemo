{
 "cells": [
  {
   "cell_type": "markdown",
   "metadata": {},
   "source": [
    "# ニューラルネットワークの学習"
   ]
  },
  {
   "cell_type": "markdown",
   "metadata": {},
   "source": [
    "データ駆動\n",
    "---\n",
    "- ニューラルネットワークはデータが全てデータからパターンを探す\n",
    "- 特徴量とは、入力データから本質的なデータを的確に抽出できるように設計された変換器を指す\n",
    "    - 従来の機械学習の多くは、特徴量に何を使用するかは人の手で行っている\n",
    "- ニューラルネットワークでは特徴量の抽出も機械が学習する"
   ]
  },
  {
   "cell_type": "markdown",
   "metadata": {},
   "source": [
    "損失関数(loss function)\n",
    "---\n",
    "- 性能の悪さを示す指標\n",
    "- 現在のニューラルネットワークは教師データに対してどれだけ適合していないかを指す\n",
    "\n",
    "[2乗和誤差(mean squared error)]\n",
    "---\n",
    "- 最も有名な損失関数\n",
    "- 2つの　数字の誤差を2乗して和を出す\n",
    "\n",
    "$\\displaystyle\n",
    "E = \\frac{1}{2}\\sum_k(yk - tk)^{2}\n",
    "$"
   ]
  },
  {
   "cell_type": "code",
   "execution_count": 5,
   "metadata": {},
   "outputs": [],
   "source": [
    "import numpy as np\n",
    "def mean_squared_error(y, t):\n",
    "    return 0.5 * np.sum((y - t) ** 2)"
   ]
  },
  {
   "cell_type": "code",
   "execution_count": 6,
   "metadata": {},
   "outputs": [
    {
     "data": {
      "text/plain": [
       "0.09750000000000003"
      ]
     },
     "execution_count": 6,
     "metadata": {},
     "output_type": "execute_result"
    }
   ],
   "source": [
    "# 例: 0~9までの数字を分類するモデルの出力と教師データ\n",
    "# 出力(2の確率が0.6)\n",
    "y = [0.1, 0.05, 0.6, 0.0, 0.05, 0.1, 0.0, 0.1, 0.0, 0.0]\n",
    "# 正解ラベル(2を正解とする)\n",
    "t = [0, 0, 1, 0, 0, 0, 0, 0, 0, 0]\n",
    "mean_squared_error(np.array(y), np.array(t))"
   ]
  },
  {
   "cell_type": "code",
   "execution_count": 7,
   "metadata": {},
   "outputs": [
    {
     "data": {
      "text/plain": [
       "0.5975"
      ]
     },
     "execution_count": 7,
     "metadata": {},
     "output_type": "execute_result"
    }
   ],
   "source": [
    "# 正解ラベル(7を正解とする)\n",
    "y2 = [0.1, 0.05, 0.1, 0.0, 0.05, 0.1, 0.0, 0.6, 0.0, 0.0]\n",
    "# 正解ラベル(2を正解とする)\n",
    "t2 = [0, 0, 1, 0, 0, 0, 0, 0, 0, 0]\n",
    "mean_squared_error(np.array(y2), np.array(t2))"
   ]
  },
  {
   "cell_type": "markdown",
   "metadata": {},
   "source": [
    "[交差エントロピー誤差]\n",
    "---\n",
    "\n",
    "$\\displaystyle\n",
    "E = -\\sum_{k}t_k\\log y_{k}\n",
    "$\n",
    "\n",
    "- tが正解ラベル、yが出力\n",
    "- t log y の合計なのでyがon-hot表現であれば、正解ラベルだけが計算される\n"
   ]
  }
 ],
 "metadata": {
  "kernelspec": {
   "display_name": "Python 3",
   "language": "python",
   "name": "python3"
  },
  "language_info": {
   "codemirror_mode": {
    "name": "ipython",
    "version": 3
   },
   "file_extension": ".py",
   "mimetype": "text/x-python",
   "name": "python",
   "nbconvert_exporter": "python",
   "pygments_lexer": "ipython3",
   "version": "3.6.0"
  }
 },
 "nbformat": 4,
 "nbformat_minor": 2
}
