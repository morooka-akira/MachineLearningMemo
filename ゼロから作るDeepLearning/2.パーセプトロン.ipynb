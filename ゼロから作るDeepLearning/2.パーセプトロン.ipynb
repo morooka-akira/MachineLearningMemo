{
 "cells": [
  {
   "cell_type": "markdown",
   "metadata": {},
   "source": [
    "# パーセプトロン"
   ]
  },
  {
   "cell_type": "markdown",
   "metadata": {},
   "source": [
    "![２入力パーセプトロン](../files/perceptron.png)"
   ]
  },
  {
   "cell_type": "markdown",
   "metadata": {},
   "source": [
    "$ y = \\begin{eqnarray}\n",
    "\\left\\{\n",
    "\\begin{array}{l}\n",
    "0 (w_1x_1 + w_2x_2 \\le \\theta) \\\\ \n",
    "1 (w_1x_1 + w_2x_2 > \\theta) \\\\ \n",
    "\\end{array}\n",
    "\\right.\n",
    "\\end{eqnarray} $"
   ]
  },
  {
   "cell_type": "markdown",
   "metadata": {},
   "source": [
    "- xに重み(w)を掛けたものの合計をyとして識別器にかける\n",
    "- yがある一定のしきい値(θ)を超えたら1を出力し超えない場合は0を出力する"
   ]
  }
 ],
 "metadata": {
  "kernelspec": {
   "display_name": "Python 3",
   "language": "python",
   "name": "python3"
  },
  "language_info": {
   "codemirror_mode": {
    "name": "ipython",
    "version": 3
   },
   "file_extension": ".py",
   "mimetype": "text/x-python",
   "name": "python",
   "nbconvert_exporter": "python",
   "pygments_lexer": "ipython3",
   "version": "3.6.0"
  }
 },
 "nbformat": 4,
 "nbformat_minor": 2
}
