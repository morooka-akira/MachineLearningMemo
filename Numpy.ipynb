{
 "cells": [
  {
   "cell_type": "markdown",
   "metadata": {},
   "source": [
    "参考\n",
    "----------\n",
    "* [ベクトルの内積や行列の積を求めるnumpy.dot関数の使い方](https://deepage.net/features/numpy-dot.html)"
   ]
  },
  {
   "cell_type": "markdown",
   "metadata": {},
   "source": [
    "### ベクトルの内積(dot)\n",
    "* ベクトルの内積とは各要素の積を全て足し合わせたもの\n",
    "* あるベクトルa([1, 2, 3])とベクトルb([2, 3, 4])があった場合は以下になる\n",
    "* `(a[0] * b [0]) + (a[1] * b [1]) + (a[2] * b [2])` = `(1 * 2) + (2 * 3) + (3 * 4)` = 20"
   ]
  },
  {
   "cell_type": "code",
   "execution_count": 2,
   "metadata": {},
   "outputs": [
    {
     "data": {
      "text/plain": [
       "20"
      ]
     },
     "execution_count": 2,
     "metadata": {},
     "output_type": "execute_result"
    }
   ],
   "source": [
    "import numpy as np\n",
    "\n",
    "a = [1,2,3]\n",
    "b = [2,3,4]\n",
    "\n",
    "np.dot(a, b)"
   ]
  },
  {
   "cell_type": "markdown",
   "metadata": {},
   "source": [
    "### 行列の内積(dot)\n",
    "* 左側の行と右側の列の要素の積を足し合わせる\n",
    "* ある行列a[[1,2,3]]、ある行列b=[[2],[3],[4]]があった場合は以下となる\n",
    "* (a[0][0] * b[0][0]) +  (a[0][1] * b[1][0]) + (a[0][1] * b[1][0]) + (a[0][2] * b[2][0]) = `(1 * 2) + (2 * 3) + (3 * 4)` = [[20]]\n",
    "* 左側の行列(上でいうと行列a)の列数と右側(上でいうと行列b)の行列の行数が合っていないとエラーになる"
   ]
  },
  {
   "cell_type": "code",
   "execution_count": 16,
   "metadata": {},
   "outputs": [
    {
     "data": {
      "text/plain": [
       "array([[20]])"
      ]
     },
     "execution_count": 16,
     "metadata": {},
     "output_type": "execute_result"
    }
   ],
   "source": [
    "import numpy as np\n",
    "\n",
    "a = [[1, 2, 3]]\n",
    "b = [\n",
    "    [2],\n",
    "    [3],\n",
    "    [4]\n",
    " ]\n",
    "\n",
    "np.dot(a, b)"
   ]
  },
  {
   "cell_type": "code",
   "execution_count": 20,
   "metadata": {},
   "outputs": [
    {
     "data": {
      "text/plain": [
       "array([[20],\n",
       "       [20]])"
      ]
     },
     "execution_count": 20,
     "metadata": {},
     "output_type": "execute_result"
    }
   ],
   "source": [
    "import numpy as np\n",
    "\n",
    "a = [[1, 2, 3], [1, 2, 3]]\n",
    "b = [\n",
    "    [2],\n",
    "    [3],\n",
    "    [4]\n",
    " ]\n",
    "\n",
    "np.dot(a, b)"
   ]
  },
  {
   "cell_type": "markdown",
   "metadata": {
    "collapsed": true
   },
   "source": [
    "Exp 指数関数\n",
    "----------------\n",
    "* numpy.exp(x) は e の x 乗を返す\n",
    "* eは、自然対数の底(大体2.7位)"
   ]
  },
  {
   "cell_type": "code",
   "execution_count": 1,
   "metadata": {},
   "outputs": [
    {
     "data": {
      "text/plain": [
       "array([  7.3890561 ,  20.08553692,  54.59815003])"
      ]
     },
     "execution_count": 1,
     "metadata": {},
     "output_type": "execute_result"
    }
   ],
   "source": [
    "import numpy as np\n",
    "\n",
    "a = [2, 3, 4]\n",
    "np.exp(a)"
   ]
  },
  {
   "cell_type": "code",
   "execution_count": null,
   "metadata": {
    "collapsed": true
   },
   "outputs": [],
   "source": [
    "log 対数関数\n",
    "--------------------\n",
    "* numpy.log(x) は、　"
   ]
  },
  {
   "cell_type": "markdown",
   "metadata": {},
   "source": [
    "linspace\n",
    "--------------------\n",
    "\n",
    "* 等差数列を生成する関数"
   ]
  },
  {
   "cell_type": "markdown",
   "metadata": {},
   "source": [
    "clip\n",
    "-------------\n",
    "* 範囲内に値を収めることができる"
   ]
  }
 ],
 "metadata": {
  "kernelspec": {
   "display_name": "Python 3",
   "language": "python",
   "name": "python3"
  },
  "language_info": {
   "codemirror_mode": {
    "name": "ipython",
    "version": 3
   },
   "file_extension": ".py",
   "mimetype": "text/x-python",
   "name": "python",
   "nbconvert_exporter": "python",
   "pygments_lexer": "ipython3",
   "version": "3.6.1"
  }
 },
 "nbformat": 4,
 "nbformat_minor": 2
}
