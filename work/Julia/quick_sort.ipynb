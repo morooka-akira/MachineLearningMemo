{
 "cells": [
  {
   "cell_type": "code",
   "execution_count": 133,
   "metadata": {},
   "outputs": [
    {
     "data": {
      "text/plain": [
       "quick_sort2 (generic function with 1 method)"
      ]
     },
     "execution_count": 133,
     "metadata": {},
     "output_type": "execute_result"
    }
   ],
   "source": [
    "function quick_sort(a)\n",
    "    # 値が1つ以下の場合はソートする必要がないためそのまま返す\n",
    "    if length(a) < 2\n",
    "        return a\n",
    "    else\n",
    "        #pivot = rand(a)\n",
    "        #rest = [n for n in a if n != pivot]\n",
    "        pivot = a[1]\n",
    "        rest = a[2:end]\n",
    "        less = [n for n in rest if n <= pivot]\n",
    "        greater = [n for n in rest if n > pivot]\n",
    "        return [quick_sort(less);pivot;quick_sort(greater)]\n",
    "    end\n",
    "end\n",
    "    \n",
    "function quick_sort2(a)\n",
    "    # 値が1つ以下の場合はソートする必要がないためそのまま返す\n",
    "    if length(a) < 2\n",
    "        return a\n",
    "    else\n",
    "        # orderが平均になるようにランダムでpivotを抽出する\n",
    "        pivot = rand(a)\n",
    "        rest = [n for n in a if n != pivot]\n",
    "        less = [n for n in rest if n <= pivot]\n",
    "        greater = [n for n in rest if n > pivot]\n",
    "        return [quick_sort(less);pivot;quick_sort(greater)]\n",
    "    end\n",
    "end"
   ]
  },
  {
   "cell_type": "code",
   "execution_count": null,
   "metadata": {},
   "outputs": [],
   "source": [
    "a = rand(Int, 100000)\n",
    "@time quick_sort(a)\n",
    "@time quick_sort2(a)"
   ]
  }
 ],
 "metadata": {
  "kernelspec": {
   "display_name": "Julia 1.1.0",
   "language": "julia",
   "name": "julia-1.1"
  },
  "language_info": {
   "file_extension": ".jl",
   "mimetype": "application/julia",
   "name": "julia",
   "version": "1.1.0"
  }
 },
 "nbformat": 4,
 "nbformat_minor": 2
}
