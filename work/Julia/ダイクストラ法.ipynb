{
 "cells": [
  {
   "cell_type": "code",
   "execution_count": 110,
   "metadata": {},
   "outputs": [
    {
     "data": {
      "text/plain": [
       "Dict{Any,Any} with 0 entries"
      ]
     },
     "execution_count": 110,
     "metadata": {},
     "output_type": "execute_result"
    }
   ],
   "source": [
    "graph = Dict()\n",
    "graph[\"start\"] = Dict(\"a\" => 6, \"b\" => 2)\n",
    "graph[\"a\"] = Dict()\n",
    "graph[\"a\"][\"fin\"] = 1\n",
    "graph[\"b\"] = Dict()\n",
    "graph[\"b\"][\"a\"] = 3\n",
    "graph[\"b\"][\"fin\"] = 5\n",
    "graph[\"fin\"] = Dict()"
   ]
  },
  {
   "cell_type": "code",
   "execution_count": 111,
   "metadata": {},
   "outputs": [
    {
     "data": {
      "text/plain": [
       "Inf"
      ]
     },
     "execution_count": 111,
     "metadata": {},
     "output_type": "execute_result"
    }
   ],
   "source": [
    "costs = Dict()\n",
    "costs[\"a\"] = 6\n",
    "costs[\"b\"] = 2\n",
    "costs[\"fin\"] = Inf"
   ]
  },
  {
   "cell_type": "code",
   "execution_count": 112,
   "metadata": {},
   "outputs": [],
   "source": [
    "parents = Dict()\n",
    "parents[\"a\"] = \"start\"\n",
    "parents[\"b\"] = \"start\"\n",
    "parents[\"fin\"] = nothing"
   ]
  },
  {
   "cell_type": "code",
   "execution_count": 113,
   "metadata": {},
   "outputs": [
    {
     "data": {
      "text/plain": [
       "0-element Array{Any,1}"
      ]
     },
     "execution_count": 113,
     "metadata": {},
     "output_type": "execute_result"
    }
   ],
   "source": [
    "processed = []"
   ]
  },
  {
   "cell_type": "code",
   "execution_count": 114,
   "metadata": {},
   "outputs": [
    {
     "data": {
      "text/plain": [
       "find_lowest_cost_node (generic function with 2 methods)"
      ]
     },
     "execution_count": 114,
     "metadata": {},
     "output_type": "execute_result"
    }
   ],
   "source": [
    "function find_lowest_cost_node(costs, processed)\n",
    "    lowest_cost = Inf\n",
    "    lowest_cost_node = nothing\n",
    "    for (node, cost) in costs\n",
    "        is_process = in(node, processed)\n",
    "        if cost < lowest_cost && !is_process\n",
    "            lowest_cost = cost\n",
    "            lowest_cost_node = node\n",
    "        end\n",
    "    end\n",
    "    lowest_cost_node\n",
    "end"
   ]
  },
  {
   "cell_type": "code",
   "execution_count": 126,
   "metadata": {},
   "outputs": [],
   "source": [
    "function dijkstra(graph, costs, parents, processed)\n",
    "    # コストが一番小さいノードを探す\n",
    "    node = find_lowest_cost_node(costs, processed)\n",
    "    while node != nothing\n",
    "        cost = costs[node]\n",
    "        # 隣接ノードのコストをチェック\n",
    "        neighbors = graph[node]\n",
    "        for n in keys(neighbors)\n",
    "            new_cost = cost + neighbors[n]\n",
    "            # 現在のコストより小さければコストと親ノードを更新\n",
    "            if costs[n] > new_cost\n",
    "                costs[n] = new_cost\n",
    "                parents[n] = node\n",
    "            end\n",
    "        end\n",
    "        push!(processed, node)\n",
    "        node = find_lowest_cost_node(costs, processed)\n",
    "    end\n",
    "end\n",
    "dijkstra(graph, costs, parents, processed)"
   ]
  },
  {
   "cell_type": "code",
   "execution_count": 125,
   "metadata": {},
   "outputs": [
    {
     "name": "stdout",
     "output_type": "stream",
     "text": [
      "fin => a => b => start"
     ]
    }
   ],
   "source": [
    "print(\"fin => \")\n",
    "node = parents[\"fin\"]\n",
    "while node != \"start\"\n",
    "    print(node, \" => \")\n",
    "    node = parents[node]\n",
    "end\n",
    "print(\"start\")"
   ]
  },
  {
   "cell_type": "code",
   "execution_count": null,
   "metadata": {},
   "outputs": [],
   "source": []
  }
 ],
 "metadata": {
  "kernelspec": {
   "display_name": "Julia 1.1.0",
   "language": "julia",
   "name": "julia-1.1"
  },
  "language_info": {
   "file_extension": ".jl",
   "mimetype": "application/julia",
   "name": "julia",
   "version": "1.1.0"
  }
 },
 "nbformat": 4,
 "nbformat_minor": 2
}
