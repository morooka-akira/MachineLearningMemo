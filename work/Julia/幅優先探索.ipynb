{
 "cells": [
  {
   "cell_type": "code",
   "execution_count": 86,
   "metadata": {},
   "outputs": [
    {
     "data": {
      "text/plain": [
       "0-element Array{Any,1}"
      ]
     },
     "execution_count": 86,
     "metadata": {},
     "output_type": "execute_result"
    }
   ],
   "source": [
    "graph = Dict()\n",
    "graph[\"you\"] = [\"alice\", \"bob\", \"claria\"]\n",
    "graph[\"bob\"] = [\"anuj\", \"peggy\"]\n",
    "graph[\"alice\"] = [\"peggy\"]\n",
    "graph[\"claria\"] = [\"thom\", \"jonny\"]\n",
    "graph[\"anuj\"] = []\n",
    "graph[\"peggy\"] = []\n",
    "graph[\"thom\"] = []\n",
    "graph[\"jonny\"] = []"
   ]
  },
  {
   "cell_type": "code",
   "execution_count": 87,
   "metadata": {},
   "outputs": [
    {
     "name": "stdout",
     "output_type": "stream",
     "text": [
      "Any[\"alice\", \"bob\", \"claria\"]"
     ]
    }
   ],
   "source": [
    "queue = []\n",
    "queue = [queue; graph[\"you\"]]\n",
    "print(queue)"
   ]
  },
  {
   "cell_type": "code",
   "execution_count": 92,
   "metadata": {},
   "outputs": [
    {
     "data": {
      "text/plain": [
       "search (generic function with 1 method)"
      ]
     },
     "execution_count": 92,
     "metadata": {},
     "output_type": "execute_result"
    }
   ],
   "source": [
    "function person_is_seller(name)\n",
    "    name[end] == 'm'\n",
    "end\n",
    "\n",
    "function search(queue, graph)\n",
    "    searched = []\n",
    "    while length(queue) > 0\n",
    "        person = pop!(queue)\n",
    "        checked = person in searched\n",
    "        if !checked\n",
    "            if person_is_seller(person)\n",
    "                println(person, \" is a mango seller\")\n",
    "                return true\n",
    "            else\n",
    "                queue = [queue;graph[person]]\n",
    "                push!(searched, person)\n",
    "                println(searched)\n",
    "            end\n",
    "        end\n",
    "        false\n",
    "    end\n",
    "end"
   ]
  },
  {
   "cell_type": "code",
   "execution_count": 89,
   "metadata": {},
   "outputs": [
    {
     "name": "stdout",
     "output_type": "stream",
     "text": [
      "claria\n",
      "Any[\"claria\"]\n",
      "not found\n",
      "jonny\n",
      "Any[\"claria\", \"jonny\"]\n",
      "not found\n",
      "thom\n",
      "thom is a mango seller\n"
     ]
    },
    {
     "data": {
      "text/plain": [
       "true"
      ]
     },
     "execution_count": 89,
     "metadata": {},
     "output_type": "execute_result"
    }
   ],
   "source": [
    "search(queue, graph)"
   ]
  },
  {
   "cell_type": "code",
   "execution_count": 81,
   "metadata": {},
   "outputs": [
    {
     "name": "stdout",
     "output_type": "stream",
     "text": [
      "saf"
     ]
    }
   ],
   "source": [
    "exists = \"12aaajjj3\" in [\"abv\", \"123\", \"uoo\"] \n",
    "if !exists\n",
    "        print(\"saf\")\n",
    "end"
   ]
  },
  {
   "cell_type": "code",
   "execution_count": null,
   "metadata": {},
   "outputs": [],
   "source": []
  }
 ],
 "metadata": {
  "kernelspec": {
   "display_name": "Julia 1.1.0",
   "language": "julia",
   "name": "julia-1.1"
  },
  "language_info": {
   "file_extension": ".jl",
   "mimetype": "application/julia",
   "name": "julia",
   "version": "1.1.0"
  }
 },
 "nbformat": 4,
 "nbformat_minor": 2
}
