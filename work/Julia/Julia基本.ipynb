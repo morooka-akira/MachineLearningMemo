{
 "cells": [
  {
   "cell_type": "markdown",
   "metadata": {},
   "source": [
    "# 四則演算"
   ]
  },
  {
   "cell_type": "code",
   "execution_count": 5,
   "metadata": {},
   "outputs": [
    {
     "name": "stdout",
     "output_type": "stream",
     "text": [
      "7\n",
      "2.5\n",
      "2\n",
      "1024\n"
     ]
    }
   ],
   "source": [
    "println(1 + 2 * 3)\n",
    "println(5/2)\n",
    "println(div(5, 2)) # 正数の割り算\n",
    "println(2^10) # べき乗"
   ]
  },
  {
   "cell_type": "markdown",
   "metadata": {},
   "source": [
    "# 変数代入"
   ]
  },
  {
   "cell_type": "code",
   "execution_count": 6,
   "metadata": {},
   "outputs": [
    {
     "data": {
      "text/plain": [
       "5"
      ]
     },
     "execution_count": 6,
     "metadata": {},
     "output_type": "execute_result"
    }
   ],
   "source": [
    "α = 5 # 英数字以外も使える \\から始まる LateX表記をタブで保管できる"
   ]
  },
  {
   "cell_type": "markdown",
   "metadata": {},
   "source": [
    "# if"
   ]
  },
  {
   "cell_type": "code",
   "execution_count": 7,
   "metadata": {},
   "outputs": [
    {
     "name": "stdout",
     "output_type": "stream",
     "text": [
      "12"
     ]
    }
   ],
   "source": [
    "if 1 < 2\n",
    "    print(1)\n",
    "else\n",
    "    print(2)\n",
    "end\n",
    "   \n",
    "i = 2\n",
    "if i == 1\n",
    "   print(1)\n",
    "elseif i == 2\n",
    "   print(2)\n",
    "else\n",
    "   print(\"other\")\n",
    "end"
   ]
  },
  {
   "cell_type": "markdown",
   "metadata": {},
   "source": [
    "# for"
   ]
  },
  {
   "cell_type": "code",
   "execution_count": 8,
   "metadata": {},
   "outputs": [
    {
     "name": "stdout",
     "output_type": "stream",
     "text": [
      "1\n",
      "2\n",
      "3\n",
      "1\n",
      "2\n",
      "3\n"
     ]
    }
   ],
   "source": [
    "for n in 1:3\n",
    "    println(n)\n",
    "end\n",
    "\n",
    "# =とinは同じ\n",
    "for n = 1:3\n",
    "    println(n)\n",
    "end"
   ]
  },
  {
   "cell_type": "markdown",
   "metadata": {},
   "source": [
    "# 文字列"
   ]
  },
  {
   "cell_type": "code",
   "execution_count": 9,
   "metadata": {},
   "outputs": [
    {
     "data": {
      "text/plain": [
       "'c': ASCII/Unicode U+0063 (category Ll: Letter, lowercase)"
      ]
     },
     "execution_count": 9,
     "metadata": {},
     "output_type": "execute_result"
    }
   ],
   "source": [
    "str = \"Julia Language\" # 文字列はダブルクオート(\")\n",
    "c = 'c' # シングルクオートだとリテラルになる"
   ]
  },
  {
   "cell_type": "markdown",
   "metadata": {},
   "source": [
    "# 正規表現"
   ]
  },
  {
   "cell_type": "code",
   "execution_count": 10,
   "metadata": {},
   "outputs": [
    {
     "name": "stdout",
     "output_type": "stream",
     "text": [
      "Union{Nothing, SubString{String}}[\"e\"]\n"
     ]
    },
    {
     "data": {
      "text/plain": [
       "\"Julia言語\""
      ]
     },
     "execution_count": 10,
     "metadata": {},
     "output_type": "execute_result"
    }
   ],
   "source": [
    "str = \"Julia Language\"\n",
    "m = match(r\"L.*(.)$\", str) # 正規表現のパターンはr\"<文字列>\"\n",
    "println(m.captures)\n",
    "replace(str, r\"\\sL.*$\" => \"言語\") # 正規表現の文字列置換"
   ]
  },
  {
   "cell_type": "markdown",
   "metadata": {},
   "source": [
    "# 配列の生成とアクセス"
   ]
  },
  {
   "cell_type": "code",
   "execution_count": 11,
   "metadata": {},
   "outputs": [
    {
     "name": "stdout",
     "output_type": "stream",
     "text": [
      "1\n",
      "[1, 2]\n",
      "[2, 3]\n",
      "[10, 20, 3]\n",
      "[10, 5, 5]\n"
     ]
    }
   ],
   "source": [
    "xs = [1, 2, 3]\n",
    "println(xs[1]) # 配列の添字は1から始まる\n",
    "println(xs[1:2])\n",
    "println(xs[2:end])\n",
    "xs[1:2] = [10, 20]\n",
    "println(xs)\n",
    "xs[2:end] .= 5 # スカラ値で範囲を上書きする(ブロードキャスト演算子)\n",
    "println(xs)"
   ]
  },
  {
   "cell_type": "markdown",
   "metadata": {},
   "source": [
    "# 多次元配列(行列、テンソル)"
   ]
  },
  {
   "cell_type": "code",
   "execution_count": 12,
   "metadata": {},
   "outputs": [
    {
     "name": "stdout",
     "output_type": "stream",
     "text": [
      "[1.0, 2.0]\n",
      "[1.0 2.0]\n",
      "3.0\n",
      "4.0\n"
     ]
    }
   ],
   "source": [
    "col = [1.0, 2.0] # 列は1次元配列と同じ\n",
    "println(col)\n",
    "row = [1.0 2.0] # 行はカンマではなく空白区切りで表現する\n",
    "println(row)\n",
    "A = [1.0 3.0; 2.0 4.0] # 行列は空白区切りの要素をセミコロンもしくは改行で区切る\n",
    "A = [1.0 3.0\n",
    "    2.0 4.0] # 改行でも同じ\n",
    "println(A[1, 2]) # 1行目の2列目\n",
    "println(A[end, 2]) # 2行目の2列目"
   ]
  },
  {
   "cell_type": "markdown",
   "metadata": {},
   "source": [
    "# 行列演算 "
   ]
  },
  {
   "cell_type": "code",
   "execution_count": 13,
   "metadata": {},
   "outputs": [
    {
     "name": "stdout",
     "output_type": "stream",
     "text": [
      "[5.0]\n",
      "[1.0 2.0; 2.0 4.0]\n",
      "[27.0]\n",
      "[1.0 2.0]\n"
     ]
    }
   ],
   "source": [
    "println(row * col) # 行列積の計算\n",
    "println(col * row) # 列 * 行\n",
    "println(row * A * col) # 行 * 行列 * 列\n",
    "println(col') # エルミート共役"
   ]
  },
  {
   "cell_type": "code",
   "execution_count": 22,
   "metadata": {},
   "outputs": [
    {
     "data": {
      "text/plain": [
       "2×2×1 Array{Float64,3}:\n",
       "[:, :, 1] =\n",
       " 6.94857e-310  6.94856e-310\n",
       " 6.94857e-310  6.94856e-310"
      ]
     },
     "execution_count": 22,
     "metadata": {},
     "output_type": "execute_result"
    }
   ],
   "source": [
    "# 要素が初期化されていない配列2*2*1\n",
    "Array{Float64}(undef, 2, 2, 1)"
   ]
  },
  {
   "cell_type": "code",
   "execution_count": 23,
   "metadata": {},
   "outputs": [
    {
     "data": {
      "text/plain": [
       "2-element Array{Float64,1}:\n",
       " 0.0\n",
       " 0.0"
      ]
     },
     "execution_count": 23,
     "metadata": {},
     "output_type": "execute_result"
    }
   ],
   "source": [
    "# ゼロ初期化した配列\n",
    "zeros(2)"
   ]
  },
  {
   "cell_type": "code",
   "execution_count": 25,
   "metadata": {},
   "outputs": [
    {
     "data": {
      "text/plain": [
       "1×3 Array{Int64,2}:\n",
       " 1  1  1"
      ]
     },
     "execution_count": 25,
     "metadata": {},
     "output_type": "execute_result"
    }
   ],
   "source": [
    "# 1初期化した配列\n",
    "ones(Int, 1, 3)"
   ]
  },
  {
   "cell_type": "code",
   "execution_count": 26,
   "metadata": {},
   "outputs": [
    {
     "data": {
      "text/plain": [
       "2×3 reshape(::UnitRange{Int64}, 2, 3) with eltype Int64:\n",
       " 1  3  5\n",
       " 2  4  6"
      ]
     },
     "execution_count": 26,
     "metadata": {},
     "output_type": "execute_result"
    }
   ],
   "source": [
    "# reshapeはメモリ配置が同じでサイズの異なる配列を生成する\n",
    "# 1~6を２行3列\n",
    "reshape(1:6, 2, 3)"
   ]
  },
  {
   "cell_type": "code",
   "execution_count": 27,
   "metadata": {},
   "outputs": [
    {
     "data": {
      "text/plain": [
       "1×6 reshape(::UnitRange{Int64}, 1, 6) with eltype Int64:\n",
       " 1  2  3  4  5  6"
      ]
     },
     "execution_count": 27,
     "metadata": {},
     "output_type": "execute_result"
    }
   ],
   "source": [
    "# 1~6を1行\n",
    "reshape(1:6, 1, :)"
   ]
  },
  {
   "cell_type": "markdown",
   "metadata": {},
   "source": [
    "# ドット演算とブロードキャスト"
   ]
  },
  {
   "cell_type": "code",
   "execution_count": 28,
   "metadata": {},
   "outputs": [
    {
     "data": {
      "text/plain": [
       "2-element Array{Int64,1}:\n",
       "  1\n",
       " 20"
      ]
     },
     "execution_count": 28,
     "metadata": {},
     "output_type": "execute_result"
    }
   ],
   "source": [
    "[1, 2] .* [1, 10]"
   ]
  },
  {
   "cell_type": "code",
   "execution_count": 29,
   "metadata": {},
   "outputs": [
    {
     "data": {
      "text/plain": [
       "2-element Array{Float64,1}:\n",
       " 0.0\n",
       " 1.0"
      ]
     },
     "execution_count": 29,
     "metadata": {},
     "output_type": "execute_result"
    }
   ],
   "source": [
    "sin.([0.0, pi/2])"
   ]
  },
  {
   "cell_type": "code",
   "execution_count": 30,
   "metadata": {},
   "outputs": [
    {
     "data": {
      "text/plain": [
       "2×2 Array{Int64,2}:\n",
       "  1   2\n",
       " 10  20"
      ]
     },
     "execution_count": 30,
     "metadata": {},
     "output_type": "execute_result"
    }
   ],
   "source": [
    "# 配列の大きさが一致しない場合は小さい方を適当に拡大して合わせる(ブロードキャスト)\n",
    "[1 2] .* [1, 10]"
   ]
  },
  {
   "cell_type": "code",
   "execution_count": 38,
   "metadata": {},
   "outputs": [
    {
     "name": "stdout",
     "output_type": "stream",
     "text": [
      "  0.000571 seconds (6 allocations: 78.359 KiB)\n",
      "  0.000390 seconds (6 allocations: 208 bytes)\n",
      "  0.000075 seconds (6 allocations: 208 bytes)\n"
     ]
    }
   ],
   "source": [
    "# ドット演算が連続すると自動的に1つのループにまとめられる(fused expression)\n",
    "X = randn(100_00)\n",
    "Y = zeros(length(X))\n",
    "Y += X; Y .+= X;\n",
    "# @timeマクロは実行時間と割当メモリの測定\n",
    "@time Y += X;\n",
    "@time Y.+= X; # ドット演算を使ったほうがパフォーマンスがいい\n",
    "@time @. Y+= X;"
   ]
  },
  {
   "cell_type": "markdown",
   "metadata": {},
   "source": [
    "# 辞書の生成"
   ]
  },
  {
   "cell_type": "code",
   "execution_count": 39,
   "metadata": {},
   "outputs": [
    {
     "data": {
      "text/plain": [
       "Dict{String,String} with 2 entries:\n",
       "  \"banana\" => \"yellow\"\n",
       "  \"apple\"  => \"red\""
      ]
     },
     "execution_count": 39,
     "metadata": {},
     "output_type": "execute_result"
    }
   ],
   "source": [
    "d = Dict(\"apple\" => \"red\", \"banana\" => \"yellow\")"
   ]
  },
  {
   "cell_type": "code",
   "execution_count": 47,
   "metadata": {},
   "outputs": [
    {
     "name": "stdout",
     "output_type": "stream",
     "text": [
      "red\n",
      "true\n",
      "true\n",
      "pink\n",
      "true\n"
     ]
    }
   ],
   "source": [
    "println(d[\"apple\"])\n",
    "println(haskey(d, \"apple\")) # keyの存在確認\n",
    "println(haskey(d, \"peach\"))\n",
    "println(get(d, \"peach\", \"pink\")) # getを使うとキーが存在しなときにデフォルト値が設定できる\n",
    "d[\"peach\"] = \"pink\" # 代入\n",
    "println(haskey(d, \"peach\"))"
   ]
  },
  {
   "cell_type": "markdown",
   "metadata": {},
   "source": [
    "# 統計処理"
   ]
  },
  {
   "cell_type": "code",
   "execution_count": 14,
   "metadata": {},
   "outputs": [],
   "source": [
    "using Statistics"
   ]
  },
  {
   "cell_type": "code",
   "execution_count": 50,
   "metadata": {},
   "outputs": [
    {
     "name": "stdout",
     "output_type": "stream",
     "text": [
      "74.0\n",
      "11516.25\n",
      "10236.666666666666\n"
     ]
    }
   ],
   "source": [
    "xs = [1, 2, 3, 10, 20, 30, 100, 200, 300]\n",
    "println(mean(xs)) # 平均\n",
    "println(var(xs)) # 不偏分散\n",
    "println(var(xs, corrected=false)) # 分散"
   ]
  },
  {
   "cell_type": "code",
   "execution_count": 52,
   "metadata": {},
   "outputs": [
    {
     "name": "stdout",
     "output_type": "stream",
     "text": [
      "74.0\n"
     ]
    }
   ],
   "source": [
    "# 行列計算\n",
    "A = reshape(xs, 3, 3)\n",
    "println(mean(A))"
   ]
  },
  {
   "cell_type": "markdown",
   "metadata": {},
   "source": [
    "# 具象型"
   ]
  },
  {
   "cell_type": "code",
   "execution_count": 60,
   "metadata": {},
   "outputs": [
    {
     "name": "stdout",
     "output_type": "stream",
     "text": [
      "Int64\n",
      "Float64\n",
      "Char\n",
      "String\n"
     ]
    }
   ],
   "source": [
    "println(typeof(1))\n",
    "println(typeof(1.5))\n",
    "println(typeof('a'))\n",
    "println(typeof(\"str\"))"
   ]
  },
  {
   "cell_type": "markdown",
   "metadata": {},
   "source": [
    "# ユーザー定義型 "
   ]
  },
  {
   "cell_type": "code",
   "execution_count": 65,
   "metadata": {},
   "outputs": [
    {
     "name": "stdout",
     "output_type": "stream",
     "text": [
      "42\n"
     ]
    },
    {
     "ename": "ErrorException",
     "evalue": "setfield! immutable struct of type T cannot be changed",
     "output_type": "error",
     "traceback": [
      "setfield! immutable struct of type T cannot be changed",
      "",
      "Stacktrace:",
      " [1] setproperty!(::T, ::Symbol, ::Int64) at ./sysimg.jl:19",
      " [2] top-level scope at In[65]:6"
     ]
    }
   ],
   "source": [
    "struct T\n",
    "    x::Int # フィールドは name::Typeの形式で宣言する\n",
    "end\n",
    "t = T(42)\n",
    "println(t.x)\n",
    "# structで作成した型はimmutableのためフィールドの値は変更できない\n",
    "t.x = 10"
   ]
  },
  {
   "cell_type": "markdown",
   "metadata": {},
   "source": [
    "# 具象型\n",
    "- 各型の間には何らかの近さを持つ\n",
    "- すべての方はAnyを単一のルートにもつ1つの巨大な木構造になっている"
   ]
  },
  {
   "cell_type": "code",
   "execution_count": 69,
   "metadata": {},
   "outputs": [],
   "source": [
    "# abstruct type <Name> end で抽象型を定義できる\n",
    "abstract type MyInteger <: Integer end\n",
    "# <: でスーパータイプを指定できる\n",
    "struct MyInt <: MyInteger\n",
    "    x::Int\n",
    "end"
   ]
  },
  {
   "cell_type": "markdown",
   "metadata": {},
   "source": [
    "# 型ユニオン\n",
    "- 型をグループ化することができる"
   ]
  },
  {
   "cell_type": "code",
   "execution_count": 4,
   "metadata": {},
   "outputs": [
    {
     "name": "stdout",
     "output_type": "stream",
     "text": [
      "true\n",
      "true\n"
     ]
    }
   ],
   "source": [
    "U = Union{Int, String}\n",
    "println(isa(\"Foo\", U))\n",
    "println(isa(1, U))"
   ]
  },
  {
   "cell_type": "markdown",
   "metadata": {},
   "source": [
    "# パラメトリック型\n",
    "- 型はパラメタを持てる"
   ]
  },
  {
   "cell_type": "code",
   "execution_count": 8,
   "metadata": {},
   "outputs": [
    {
     "name": "stdout",
     "output_type": "stream",
     "text": [
      "Point{Int64}(1)\n",
      "Point{Float64}(1.5)\n"
     ]
    },
    {
     "ename": "MethodError",
     "evalue": "MethodError: no method matching Point(::String)\nClosest candidates are:\n  Point(!Matched::T<:Real) where T<:Real at In[8]:2",
     "output_type": "error",
     "traceback": [
      "MethodError: no method matching Point(::String)\nClosest candidates are:\n  Point(!Matched::T<:Real) where T<:Real at In[8]:2",
      "",
      "Stacktrace:",
      " [1] top-level scope at In[8]:6"
     ]
    }
   ],
   "source": [
    "struct Point{T<:Real} \n",
    "    x::T\n",
    "end\n",
    "println(Point(1)) # 型推論\n",
    "println(Point{Float64}(1.5)) # 型を明示\n",
    "println(Point(\"Str\")) # StringはRealではないためエラー"
   ]
  },
  {
   "cell_type": "markdown",
   "metadata": {},
   "source": [
    "# 関数\n",
    "- function Name(ARGS)\n",
    "- Name(ARGS)\n",
    "で関数を定義できる"
   ]
  },
  {
   "cell_type": "code",
   "execution_count": 10,
   "metadata": {},
   "outputs": [
    {
     "data": {
      "text/plain": [
       "double (generic function with 1 method)"
      ]
     },
     "execution_count": 10,
     "metadata": {},
     "output_type": "execute_result"
    }
   ],
   "source": [
    "double(x) = 2x # リテラルと変数を連続で記載すると乗算になる"
   ]
  },
  {
   "cell_type": "code",
   "execution_count": 20,
   "metadata": {},
   "outputs": [
    {
     "name": "stdout",
     "output_type": "stream",
     "text": [
      "4\n",
      "8\n"
     ]
    }
   ],
   "source": [
    "# ARG=VALUEでデフォルト引数を定義できる\n",
    "# ;より後ろに書いた引数はすべてキーワード引数となる\n",
    "function add(x; y=1)\n",
    "    return x+y\n",
    "end\n",
    "println(add(3))\n",
    "println(add(3, y=5))"
   ]
  },
  {
   "cell_type": "code",
   "execution_count": 21,
   "metadata": {},
   "outputs": [
    {
     "data": {
      "text/plain": [
       "swap (generic function with 1 method)"
      ]
     },
     "execution_count": 21,
     "metadata": {},
     "output_type": "execute_result"
    }
   ],
   "source": [
    "swap(x, y) = (y, x) # () を使うとタプルで複数の値を返せる"
   ]
  },
  {
   "cell_type": "code",
   "execution_count": 23,
   "metadata": {},
   "outputs": [
    {
     "data": {
      "text/plain": [
       "(2, 1)"
      ]
     },
     "execution_count": 23,
     "metadata": {},
     "output_type": "execute_result"
    }
   ],
   "source": [
    "(x, y) = swap(1, 2) # タプルを使って複数の変数にバインドできる"
   ]
  },
  {
   "cell_type": "markdown",
   "metadata": {},
   "source": [
    "多重ディスパッチ\n",
    "---"
   ]
  },
  {
   "cell_type": "code",
   "execution_count": 25,
   "metadata": {},
   "outputs": [
    {
     "data": {
      "text/plain": [
       "foo (generic function with 1 method)"
      ]
     },
     "execution_count": 25,
     "metadata": {},
     "output_type": "execute_result"
    }
   ],
   "source": [
    "foo(x::Int) = 42 # 引数に型を指定できる"
   ]
  },
  {
   "cell_type": "code",
   "execution_count": 26,
   "metadata": {},
   "outputs": [
    {
     "data": {
      "text/plain": [
       "foo (generic function with 2 methods)"
      ]
     },
     "execution_count": 26,
     "metadata": {},
     "output_type": "execute_result"
    }
   ],
   "source": [
    "foo(x::Float64) = 3.14"
   ]
  },
  {
   "cell_type": "code",
   "execution_count": 32,
   "metadata": {},
   "outputs": [
    {
     "data": {
      "text/plain": [
       "foo (generic function with 3 methods)"
      ]
     },
     "execution_count": 32,
     "metadata": {},
     "output_type": "execute_result"
    }
   ],
   "source": [
    "foo(x) = 100"
   ]
  },
  {
   "cell_type": "code",
   "execution_count": 35,
   "metadata": {},
   "outputs": [
    {
     "name": "stdout",
     "output_type": "stream",
     "text": [
      "42\n",
      "3.14\n",
      "100\n"
     ]
    }
   ],
   "source": [
    "# 引数の型判定を行いもっとも一致するメソッドが呼ばれる\n",
    "println(foo(1))\n",
    "println(foo(1.5))\n",
    "println(foo(\"str\"))"
   ]
  },
  {
   "cell_type": "markdown",
   "metadata": {},
   "source": [
    "無名関数\n",
    "---"
   ]
  },
  {
   "cell_type": "code",
   "execution_count": 39,
   "metadata": {},
   "outputs": [
    {
     "name": "stdout",
     "output_type": "stream",
     "text": [
      "2\n"
     ]
    },
    {
     "data": {
      "text/plain": [
       "#19 (generic function with 1 method)"
      ]
     },
     "execution_count": 39,
     "metadata": {},
     "output_type": "execute_result"
    }
   ],
   "source": [
    "println((n->n+1)(1))\n",
    "f = n->n+1"
   ]
  },
  {
   "cell_type": "code",
   "execution_count": 40,
   "metadata": {},
   "outputs": [
    {
     "data": {
      "text/plain": [
       "2"
      ]
     },
     "execution_count": 40,
     "metadata": {},
     "output_type": "execute_result"
    }
   ],
   "source": [
    "f(1)"
   ]
  },
  {
   "cell_type": "code",
   "execution_count": 41,
   "metadata": {},
   "outputs": [
    {
     "data": {
      "text/plain": [
       "3"
      ]
     },
     "execution_count": 41,
     "metadata": {},
     "output_type": "execute_result"
    }
   ],
   "source": [
    "((x, y)->x+y)(1, 2)"
   ]
  },
  {
   "cell_type": "code",
   "execution_count": 42,
   "metadata": {},
   "outputs": [
    {
     "data": {
      "text/plain": [
       "42"
      ]
     },
     "execution_count": 42,
     "metadata": {},
     "output_type": "execute_result"
    }
   ],
   "source": [
    "(()->42)()"
   ]
  },
  {
   "cell_type": "markdown",
   "metadata": {},
   "source": [
    "関数を引数に取る関数とdo構文\n",
    "---"
   ]
  },
  {
   "cell_type": "code",
   "execution_count": 43,
   "metadata": {},
   "outputs": [
    {
     "data": {
      "text/plain": [
       "3-element Array{Int64,1}:\n",
       " 2\n",
       " 3\n",
       " 4"
      ]
     },
     "execution_count": 43,
     "metadata": {},
     "output_type": "execute_result"
    }
   ],
   "source": [
    "map(d->d+1, [1, 2, 3]) # mapは第一引数に関数を受け取る"
   ]
  },
  {
   "cell_type": "code",
   "execution_count": 48,
   "metadata": {},
   "outputs": [
    {
     "data": {
      "text/plain": [
       "3-element Array{Int64,1}:\n",
       " 2\n",
       " 3\n",
       " 4"
      ]
     },
     "execution_count": 48,
     "metadata": {},
     "output_type": "execute_result"
    }
   ],
   "source": [
    "# 上記のシンタックスシュガーとしてdo構文が使える\n",
    "map([1,2,3]) do d\n",
    "    d+1\n",
    "end"
   ]
  },
  {
   "cell_type": "code",
   "execution_count": 54,
   "metadata": {},
   "outputs": [
    {
     "data": {
      "text/plain": [
       "10"
      ]
     },
     "execution_count": 54,
     "metadata": {},
     "output_type": "execute_result"
    }
   ],
   "source": [
    "sym = :x\n",
    "ex = :(x+1)\n",
    "eval(ex)\n",
    "eval(sym)"
   ]
  },
  {
   "cell_type": "code",
   "execution_count": 56,
   "metadata": {},
   "outputs": [
    {
     "name": "stdout",
     "output_type": "stream",
     "text": [
      "files\n",
      "hogw.csv\n",
      "Julia基本.ipynb\n",
      "material.csv\n",
      "new.csv\n",
      "not_popular.csv\n",
      "old.csv\n",
      "platypus.ipynb\n",
      "res.json\n",
      "sql2.csv\n",
      "sql.csv\n",
      "Untitled.ipynb\n",
      "ナップザック問題.ipynb\n",
      "焼き肉最適化問題.ipynb\n"
     ]
    },
    {
     "data": {
      "text/plain": [
       "Process(`\u001b[4mls\u001b[24m`, ProcessExited(0))"
      ]
     },
     "execution_count": 56,
     "metadata": {},
     "output_type": "execute_result"
    }
   ],
   "source": [
    "run(`ls`)"
   ]
  }
 ],
 "metadata": {
  "kernelspec": {
   "display_name": "Julia 1.1.0",
   "language": "julia",
   "name": "julia-1.1"
  },
  "language_info": {
   "file_extension": ".jl",
   "mimetype": "application/julia",
   "name": "julia",
   "version": "1.1.0"
  }
 },
 "nbformat": 4,
 "nbformat_minor": 2
}
