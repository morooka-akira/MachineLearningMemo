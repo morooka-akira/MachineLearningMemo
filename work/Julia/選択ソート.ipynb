{
 "cells": [
  {
   "cell_type": "markdown",
   "metadata": {},
   "source": [
    "- ある配列の最も小さい(大きい)数を抽出して別の配列に移す"
   ]
  },
  {
   "cell_type": "code",
   "execution_count": 15,
   "metadata": {},
   "outputs": [
    {
     "data": {
      "text/plain": [
       "find_smallest_index (generic function with 1 method)"
      ]
     },
     "execution_count": 15,
     "metadata": {},
     "output_type": "execute_result"
    }
   ],
   "source": [
    "function find_smallest_index(arr)\n",
    "    smallest = arr[1]\n",
    "    index = 1\n",
    "    # smallestは初期値がindex1のため2からチェック\n",
    "    for i in 2:length(arr)\n",
    "        if arr[i] < smallest\n",
    "            smallest = arr[i]\n",
    "            index = i\n",
    "        end\n",
    "    end\n",
    "    index\n",
    "end"
   ]
  },
  {
   "cell_type": "code",
   "execution_count": 52,
   "metadata": {},
   "outputs": [
    {
     "data": {
      "text/plain": [
       "selection_sort (generic function with 1 method)"
      ]
     },
     "execution_count": 52,
     "metadata": {},
     "output_type": "execute_result"
    }
   ],
   "source": [
    "function selection_sort(arr)\n",
    "    result = []\n",
    "    while length(arr) > 0\n",
    "        smallest_index = find_smallest_index(arr)\n",
    "        push!(result, arr[smallest_index])\n",
    "        deleteat!(arr, smallest_index)\n",
    "    end \n",
    "    result\n",
    "end"
   ]
  }
 ],
 "metadata": {
  "kernelspec": {
   "display_name": "Julia 1.1.0",
   "language": "julia",
   "name": "julia-1.1"
  },
  "language_info": {
   "file_extension": ".jl",
   "mimetype": "application/julia",
   "name": "julia",
   "version": "1.1.0"
  }
 },
 "nbformat": 4,
 "nbformat_minor": 2
}
