{
 "cells": [
  {
   "cell_type": "code",
   "execution_count": 23,
   "metadata": {},
   "outputs": [
    {
     "data": {
      "text/plain": [
       "binary_search (generic function with 1 method)"
      ]
     },
     "execution_count": 23,
     "metadata": {},
     "output_type": "execute_result"
    }
   ],
   "source": [
    "function binary_search(list, item)\n",
    "    low = 0\n",
    "    high = length(list)\n",
    "    while low <= high\n",
    "        mid = div((low + high), 2)\n",
    "        guess = list[mid]\n",
    "        if guess == item\n",
    "            return mid\n",
    "        elseif guess > item\n",
    "            high = mid - 1\n",
    "        else\n",
    "            low = mid + 1\n",
    "        end\n",
    "    end\n",
    "    return nothing      \n",
    "end"
   ]
  },
  {
   "cell_type": "code",
   "execution_count": 31,
   "metadata": {},
   "outputs": [
    {
     "name": "stdout",
     "output_type": "stream",
     "text": [
      "6\n",
      "nothing"
     ]
    }
   ],
   "source": [
    "a = [1, 3, 4, 5, 29, 40]\n",
    "show(binary_search(a, 40))\n",
    "println()\n",
    "show(binary_search(a, 41))"
   ]
  }
 ],
 "metadata": {
  "kernelspec": {
   "display_name": "Julia 1.1.0",
   "language": "julia",
   "name": "julia-1.1"
  },
  "language_info": {
   "file_extension": ".jl",
   "mimetype": "application/julia",
   "name": "julia",
   "version": "1.1.0"
  }
 },
 "nbformat": 4,
 "nbformat_minor": 2
}
