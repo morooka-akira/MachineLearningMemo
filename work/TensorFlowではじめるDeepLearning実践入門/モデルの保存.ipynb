{
 "cells": [
  {
   "cell_type": "markdown",
   "metadata": {},
   "source": [
    "### サンプルデータ\n",
    "https://github.com/thinkitcojp/TensorFlowDL-samples/blob/master/save_model/mnist.py\n",
    "\n"
   ]
  },
  {
   "cell_type": "code",
   "execution_count": 2,
   "metadata": {},
   "outputs": [
    {
     "name": "stdout",
     "output_type": "stream",
     "text": [
      "WARNING:tensorflow:From <ipython-input-2-3157a26b57c7>:6: read_data_sets (from tensorflow.contrib.learn.python.learn.datasets.mnist) is deprecated and will be removed in a future version.\n",
      "Instructions for updating:\n",
      "Please use alternatives such as official/mnist/dataset.py from tensorflow/models.\n",
      "WARNING:tensorflow:From /Users/amoro/.pyenv/versions/anaconda3-4.3.1/lib/python3.6/site-packages/tensorflow/contrib/learn/python/learn/datasets/mnist.py:260: maybe_download (from tensorflow.contrib.learn.python.learn.datasets.base) is deprecated and will be removed in a future version.\n",
      "Instructions for updating:\n",
      "Please write your own downloading logic.\n",
      "WARNING:tensorflow:From /Users/amoro/.pyenv/versions/anaconda3-4.3.1/lib/python3.6/site-packages/tensorflow/contrib/learn/python/learn/datasets/mnist.py:262: extract_images (from tensorflow.contrib.learn.python.learn.datasets.mnist) is deprecated and will be removed in a future version.\n",
      "Instructions for updating:\n",
      "Please use tf.data to implement this functionality.\n",
      "Extracting data/train-images-idx3-ubyte.gz\n",
      "WARNING:tensorflow:From /Users/amoro/.pyenv/versions/anaconda3-4.3.1/lib/python3.6/site-packages/tensorflow/contrib/learn/python/learn/datasets/mnist.py:267: extract_labels (from tensorflow.contrib.learn.python.learn.datasets.mnist) is deprecated and will be removed in a future version.\n",
      "Instructions for updating:\n",
      "Please use tf.data to implement this functionality.\n",
      "Extracting data/train-labels-idx1-ubyte.gz\n",
      "WARNING:tensorflow:From /Users/amoro/.pyenv/versions/anaconda3-4.3.1/lib/python3.6/site-packages/tensorflow/contrib/learn/python/learn/datasets/mnist.py:110: dense_to_one_hot (from tensorflow.contrib.learn.python.learn.datasets.mnist) is deprecated and will be removed in a future version.\n",
      "Instructions for updating:\n",
      "Please use tf.one_hot on tensors.\n",
      "Extracting data/t10k-images-idx3-ubyte.gz\n",
      "Extracting data/t10k-labels-idx1-ubyte.gz\n",
      "WARNING:tensorflow:From /Users/amoro/.pyenv/versions/anaconda3-4.3.1/lib/python3.6/site-packages/tensorflow/contrib/learn/python/learn/datasets/mnist.py:290: DataSet.__init__ (from tensorflow.contrib.learn.python.learn.datasets.mnist) is deprecated and will be removed in a future version.\n",
      "Instructions for updating:\n",
      "Please use alternatives such as official/mnist/dataset.py from tensorflow/models.\n"
     ]
    }
   ],
   "source": [
    "#-*- coding:utf-8 -*-\n",
    "from tensorflow.examples.tutorials.mnist import input_data\n",
    "import tensorflow as tf\n",
    "\n",
    "#mnistデータを格納したオブジェクトを呼び出す\n",
    "mnist = input_data.read_data_sets(\"data/\", one_hot=True)\n",
    "\n",
    "#入力データを定義\n",
    "x = tf.placeholder(tf.float32, [None, 784])\n",
    "#入力層から中間層\n",
    "w_1 = tf.Variable(tf.truncated_normal([784, 64], stddev=0.1), name=\"w1\")\n",
    "b_1 = tf.Variable(tf.zeros([64]), name=\"b1\")\n",
    "h_1 = tf.nn.relu(tf.matmul(x, w_1) + b_1)\n",
    "\n",
    "#中間層から出力層\n",
    "w_2 = tf.Variable(tf.truncated_normal([64, 10], stddev=0.1), name=\"w2\")\n",
    "b_2 = tf.Variable(tf.zeros([10]), name=\"b2\")\n",
    "out = tf.nn.softmax(tf.matmul(h_1, w_2) + b_2)\n",
    "\n",
    "#誤差関数\n",
    "y = tf.placeholder(tf.float32, [None, 10])\n",
    "loss = tf.reduce_mean(tf.square(y - out))\n",
    "\n",
    "#訓練\n",
    "global_step = tf.Variable(0, name='global_step', trainable=False)\n",
    "train_step = tf.train.GradientDescentOptimizer(0.5).minimize(loss, global_step=global_step)\n",
    "\n",
    "#評価\n",
    "correct = tf.equal(tf.argmax(out,1), tf.argmax(y,1))\n",
    "accuracy = tf.reduce_mean(tf.cast(correct, tf.float32))\n",
    "\n",
    "#初期化\n",
    "init =tf.global_variables_initializer()"
   ]
  },
  {
   "cell_type": "markdown",
   "metadata": {},
   "source": [
    "- ここまでは多層パーセプトロンと同じ"
   ]
  },
  {
   "cell_type": "code",
   "execution_count": 3,
   "metadata": {
    "collapsed": true
   },
   "outputs": [],
   "source": [
    "saver = tf.train.Saver(max_to_keep = 3)"
   ]
  },
  {
   "cell_type": "markdown",
   "metadata": {},
   "source": [
    "- TensorFlowでもっとも基本的なモデルの保存方法として`tf.train.Saver()`がある\n",
    "    - TensorFlowによって作成されたgraphとVariableの値を保存、読み込むためのクラス\n",
    "- max_to_keepはモデルの最新x件を保存しておくかのオプション"
   ]
  },
  {
   "cell_type": "code",
   "execution_count": 4,
   "metadata": {},
   "outputs": [
    {
     "name": "stdout",
     "output_type": "stream",
     "text": [
      "initialized.\n",
      "Step 100: accuracy = 0.42\n",
      "Step 200: accuracy = 0.60\n",
      "Step 300: accuracy = 0.76\n",
      "Step 400: accuracy = 0.83\n",
      "Step 500: accuracy = 0.86\n",
      "Step 600: accuracy = 0.87\n",
      "Step 700: accuracy = 0.88\n",
      "Step 800: accuracy = 0.89\n",
      "Step 900: accuracy = 0.89\n",
      "Step 1000: accuracy = 0.90\n"
     ]
    }
   ],
   "source": [
    "with tf.Session() as sess:\n",
    "   \n",
    "\n",
    "    ckpt_state = tf.train.get_checkpoint_state('ckpt/')\n",
    "    if ckpt_state:\n",
    "        last_model = ckpt_state.model_checkpoint_path\n",
    "        saver.restore(sess,last_model)\n",
    "        print(\"model was loaded:\", last_model)\n",
    "    else:\n",
    "        sess.run(init)\n",
    "        print(\"initialized.\")\n",
    "\n",
    "    #テストデータをロード    \n",
    "    test_images = mnist.test.images    \n",
    "    test_labels = mnist.test.labels\n",
    "\n",
    "    \n",
    "    last_step = sess.run(global_step)\n",
    "    for i in range(1000):\n",
    "        step = last_step + i      \n",
    "        train_images, train_labels = mnist.train.next_batch(50)\n",
    "        sess.run(train_step, feed_dict={x:train_images ,y:train_labels})\n",
    "\n",
    "        \n",
    "        if (step+1) % 100 == 0:\n",
    "            acc_val = sess.run(accuracy ,feed_dict={x:test_images, y:test_labels})\n",
    "            print('Step %d: accuracy = %.2f' % (step + 1, acc_val))\n",
    "            saver.save(sess, 'ckpt/my_model', global_step = step + 1, write_meta_graph=False)\n"
   ]
  },
  {
   "cell_type": "markdown",
   "metadata": {},
   "source": [
    "- write_meta_graphは書き込み時にグラフのメタ情報を一緒に書くかどうかのフラグ\n",
    "    - 今回のケースではソースコードがあるため必要ない"
   ]
  },
  {
   "cell_type": "code",
   "execution_count": 5,
   "metadata": {},
   "outputs": [
    {
     "name": "stdout",
     "output_type": "stream",
     "text": [
      "total 1232\r\n",
      "drwxr-xr-x   9 amoro  staff     306  5 15 20:45 \u001b[34m.\u001b[m\u001b[m\r\n",
      "drwxr-xr-x  10 amoro  staff     340  5 15 21:20 \u001b[34m..\u001b[m\u001b[m\r\n",
      "-rw-r--r--   1 amoro  staff     169  5 15 20:45 checkpoint\r\n",
      "-rw-r--r--   1 amoro  staff  203564  5 15 20:45 my_model-1000.data-00000-of-00001\r\n",
      "-rw-r--r--   1 amoro  staff     232  5 15 20:45 my_model-1000.index\r\n",
      "-rw-r--r--   1 amoro  staff  203564  5 15 20:45 my_model-800.data-00000-of-00001\r\n",
      "-rw-r--r--   1 amoro  staff     232  5 15 20:45 my_model-800.index\r\n",
      "-rw-r--r--   1 amoro  staff  203564  5 15 20:45 my_model-900.data-00000-of-00001\r\n",
      "-rw-r--r--   1 amoro  staff     232  5 15 20:45 my_model-900.index\r\n"
     ]
    }
   ],
   "source": [
    "!ls -la ckpt/"
   ]
  },
  {
   "cell_type": "code",
   "execution_count": null,
   "metadata": {
    "collapsed": true
   },
   "outputs": [],
   "source": []
  }
 ],
 "metadata": {
  "kernelspec": {
   "display_name": "Python 3",
   "language": "python",
   "name": "python3"
  },
  "language_info": {
   "codemirror_mode": {
    "name": "ipython",
    "version": 3
   },
   "file_extension": ".py",
   "mimetype": "text/x-python",
   "name": "python",
   "nbconvert_exporter": "python",
   "pygments_lexer": "ipython3",
   "version": "3.6.0"
  }
 },
 "nbformat": 4,
 "nbformat_minor": 2
}
