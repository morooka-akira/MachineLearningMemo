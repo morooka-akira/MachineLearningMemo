{
 "cells": [
  {
   "cell_type": "code",
   "execution_count": 1,
   "metadata": {},
   "outputs": [],
   "source": [
    "import numpy as np\n",
    "import pandas as pd\n",
    "import matplotlib.pyplot as plt\n",
    "%matplotlib inline"
   ]
  },
  {
   "cell_type": "code",
   "execution_count": 3,
   "metadata": {},
   "outputs": [],
   "source": [
    "# 学習用データの読み込み\n",
    "df = np.loadtxt('../files/images1.csv', delimiter=',', skiprows=1)"
   ]
  },
  {
   "cell_type": "code",
   "execution_count": 6,
   "metadata": {},
   "outputs": [],
   "source": [
    "# 訓練データとテストデータの分離\n",
    "train_x = df[:, 0:2]\n",
    "train_y = df[:, 2]"
   ]
  },
  {
   "cell_type": "code",
   "execution_count": 9,
   "metadata": {},
   "outputs": [
    {
     "data": {
      "image/png": "[encoded data removed]",
      "text/plain": [
       "<matplotlib.figure.Figure at 0x11baa7f98>"
      ]
     },
     "metadata": {},
     "output_type": "display_data"
    }
   ],
   "source": [
    "# データをプロットする\n",
    "\n",
    "# train_x[train_y == 1, 0]はラベルが「1」の変数0番目の値。train_x[train_y == 1, 1]は変数1番目の値\n",
    "plt.plot(train_x[train_y == 1, 0], train_x[train_y == 1, 1], 'o')\n",
    "plt.plot(train_x[train_y == -1, 0], train_x[train_y == -1, 1], 'x')\n",
    "plt.axis('scaled')\n",
    "plt.show()"
   ]
  },
  {
   "cell_type": "markdown",
   "metadata": {},
   "source": [
    "# パーセプトロンの実装"
   ]
  },
  {
   "cell_type": "code",
   "execution_count": 12,
   "metadata": {},
   "outputs": [],
   "source": [
    "# 重みの初期化\n",
    "w = np.random.rand(2)"
   ]
  },
  {
   "cell_type": "code",
   "execution_count": 15,
   "metadata": {},
   "outputs": [],
   "source": [
    "# 識別関数\n",
    "def f(x):\n",
    "    if np.dot(w, x) >= 0:\n",
    "        return 1\n",
    "    else:\n",
    "        return -1"
   ]
  },
  {
   "cell_type": "code",
   "execution_count": 17,
   "metadata": {},
   "outputs": [],
   "source": [
    "# 繰り返し回数(とりあえず適当に10回繰り返す)\n",
    "epoch = 10"
   ]
  },
  {
   "cell_type": "code",
   "execution_count": 19,
   "metadata": {},
   "outputs": [],
   "source": [
    "# 更新回数\n",
    "count = 0"
   ]
  },
  {
   "cell_type": "code",
   "execution_count": 20,
   "metadata": {},
   "outputs": [
    {
     "name": "stdout",
     "output_type": "stream",
     "text": [
      "1回目: w = [-152.18481718 -431.98159668]\n",
      "2回目: w = [321.81518282 -47.98159668]\n",
      "3回目: w = [  88.81518282 -477.98159668]\n",
      "4回目: w = [ 484.81518282 -156.98159668]\n",
      "5回目: w = [  85.81518282 -589.98159668]\n",
      "6回目: w = [ 488.81518282 -289.98159668]\n",
      "7回目: w = [ 109.81518282 -705.98159668]\n",
      "8回目: w = [ 372.81518282 -593.98159668]\n",
      "9回目: w = [ 846.81518282 -209.98159668]\n",
      "10回目: w = [ 613.81518282 -639.98159668]\n"
     ]
    }
   ],
   "source": [
    "# 重みを学習\n",
    "for _ in range(epoch):\n",
    "    for x, y in zip(train_x, train_y):\n",
    "        if f(x) != y:\n",
    "            w = w + y * x\n",
    "            # ログの出力\n",
    "            count += 1\n",
    "            print('{}回目: w = {}'.format(count, w))"
   ]
  },
  {
   "cell_type": "code",
   "execution_count": 22,
   "metadata": {},
   "outputs": [
    {
     "data": {
      "image/png": "[encoded data removed]",
      "text/plain": [
       "<matplotlib.figure.Figure at 0x11bc06be0>"
      ]
     },
     "metadata": {},
     "output_type": "display_data"
    }
   ],
   "source": [
    "# 結果をプロット\n",
    "\n",
    "x1 = np.arange(0, 500)\n",
    "\n",
    "plt.plot(train_x[train_y == 1, 0], train_x[train_y == 1, 1], 'o')\n",
    "plt.plot(train_x[train_y == -1, 0], train_x[train_y == -1, 1], 'x')\n",
    "plt.plot(x1, -w[0] / w[1] * x1, linestyle='dashed')\n",
    "plt.axis('scaled')\n",
    "plt.show()"
   ]
  },
  {
   "cell_type": "code",
   "execution_count": 24,
   "metadata": {},
   "outputs": [
    {
     "name": "stdout",
     "output_type": "stream",
     "text": [
      "1\n",
      "-1\n"
     ]
    }
   ],
   "source": [
    "# 検証\n",
    "\n",
    "# 200 * 100\n",
    "print(f([200, 100]))\n",
    "\n",
    "# 100 * 200 \n",
    "print(f([100, 200]))"
   ]
  }
 ],
 "metadata": {
  "kernelspec": {
   "display_name": "Python 3",
   "language": "python",
   "name": "python3"
  },
  "language_info": {
   "codemirror_mode": {
    "name": "ipython",
    "version": 3
   },
   "file_extension": ".py",
   "mimetype": "text/x-python",
   "name": "python",
   "nbconvert_exporter": "python",
   "pygments_lexer": "ipython3",
   "version": "3.6.0"
  }
 },
 "nbformat": 4,
 "nbformat_minor": 2
}
