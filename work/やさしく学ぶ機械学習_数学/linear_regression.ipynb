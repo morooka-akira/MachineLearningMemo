{
 "cells": [
  {
   "cell_type": "code",
   "execution_count": 1,
   "metadata": {},
   "outputs": [],
   "source": [
    "import numpy as np\n",
    "import pandas as pd\n",
    "import matplotlib.pyplot as plt\n",
    "%matplotlib inline"
   ]
  },
  {
   "cell_type": "code",
   "execution_count": 2,
   "metadata": {},
   "outputs": [],
   "source": [
    "# 学習用データの読み込み\n",
    "df = np.loadtxt('../files/click.csv', delimiter=',', skiprows=1)"
   ]
  },
  {
   "cell_type": "code",
   "execution_count": 3,
   "metadata": {},
   "outputs": [
    {
     "data": {
      "text/plain": [
       "(20, 2)"
      ]
     },
     "execution_count": 3,
     "metadata": {},
     "output_type": "execute_result"
    }
   ],
   "source": [
    "df.shape"
   ]
  },
  {
   "cell_type": "code",
   "execution_count": 4,
   "metadata": {},
   "outputs": [],
   "source": [
    "train_x = df[:, 0]\n",
    "train_y = df[:, 1]"
   ]
  },
  {
   "cell_type": "code",
   "execution_count": 5,
   "metadata": {},
   "outputs": [
    {
     "data": {
      "text/plain": [
       "[<matplotlib.lines.Line2D at 0x11f5ea8d0>]"
      ]
     },
     "execution_count": 5,
     "metadata": {},
     "output_type": "execute_result"
    },
    {
     "data": {
      "image/png": "[encoded data removed]",
      "text/plain": [
       "<matplotlib.figure.Figure at 0x11f4c7dd8>"
      ]
     },
     "metadata": {},
     "output_type": "display_data"
    }
   ],
   "source": [
    "plt.plot(train_x, train_y, 'o')"
   ]
  },
  {
   "cell_type": "markdown",
   "metadata": {},
   "source": [
    "１次関数での予測\n",
    "---"
   ]
  },
  {
   "cell_type": "markdown",
   "metadata": {},
   "source": [
    "### 予測関数\n",
    "$f\\theta(x) = \\theta_0 + \\theta_1x$  \n",
    "\n",
    "### 目的関数\n",
    "$\\displaystyle E(\\theta) = \\frac{1}{2}\\sum_{i=1}^n(y_i - f\\theta(x_i))^2$"
   ]
  },
  {
   "cell_type": "code",
   "execution_count": 6,
   "metadata": {},
   "outputs": [],
   "source": [
    "# パラメータを初期化(乱数)\n",
    "theta0 = np.random.rand()\n",
    "theta1 = np.random.rand()"
   ]
  },
  {
   "cell_type": "code",
   "execution_count": 7,
   "metadata": {},
   "outputs": [],
   "source": [
    "# 予測関数\n",
    "def f(x):\n",
    "    return theta0 + theta1 * x"
   ]
  },
  {
   "cell_type": "code",
   "execution_count": 8,
   "metadata": {},
   "outputs": [],
   "source": [
    "# 目的関数\n",
    "def E(x, y):\n",
    "    return 0.5 * np.sum((y - f(x)) ** 2)"
   ]
  },
  {
   "cell_type": "markdown",
   "metadata": {},
   "source": [
    "### データの標準化(正規化)\n",
    "\n",
    "$\\displaystyle z^{(i)} = \\frac{x^{(i)} - \\mu}{\\sigma}$\n",
    "- 平均を0\n",
    "- 分散を1にする"
   ]
  },
  {
   "cell_type": "code",
   "execution_count": 9,
   "metadata": {},
   "outputs": [],
   "source": [
    "# 標準化\n",
    "mu = train_x.mean()\n",
    "sigma = train_x.std()\n",
    "def standardize(x):\n",
    "    return (x - mu) / sigma"
   ]
  },
  {
   "cell_type": "code",
   "execution_count": 10,
   "metadata": {},
   "outputs": [],
   "source": [
    "train_z = standardize(train_x)"
   ]
  },
  {
   "cell_type": "code",
   "execution_count": 11,
   "metadata": {},
   "outputs": [
    {
     "data": {
      "text/plain": [
       "[<matplotlib.lines.Line2D at 0x121757b38>]"
      ]
     },
     "execution_count": 11,
     "metadata": {},
     "output_type": "execute_result"
    },
    {
     "data": {
      "image/png": "[encoded data removed]",
      "text/plain": [
       "<matplotlib.figure.Figure at 0x11f57bbe0>"
      ]
     },
     "metadata": {},
     "output_type": "display_data"
    }
   ],
   "source": [
    "plt.plot(train_z, train_y, 'o')"
   ]
  },
  {
   "cell_type": "markdown",
   "metadata": {},
   "source": [
    "- 横軸のスケールだけが変わる"
   ]
  },
  {
   "cell_type": "markdown",
   "metadata": {},
   "source": [
    "### パラメタ更新式"
   ]
  },
  {
   "cell_type": "markdown",
   "metadata": {},
   "source": [
    "$\\displaystyle \\theta_0 := \\theta_0 - \\eta \\sum_{i=1}^n(f_\\theta(x^{(i)}) - y^{(i)})$\n",
    "\n",
    "$\\displaystyle \\theta_1 := \\theta_1 - \\eta \\sum_{i=1}^n(f_\\theta(x^{(i)}) - y^{(i)})x^{(i)}$"
   ]
  },
  {
   "cell_type": "code",
   "execution_count": 12,
   "metadata": {},
   "outputs": [],
   "source": [
    "# 学習率\n",
    "ETA = 1e-3"
   ]
  },
  {
   "cell_type": "code",
   "execution_count": 13,
   "metadata": {},
   "outputs": [],
   "source": [
    "# 誤差の差分\n",
    "diff = 1"
   ]
  },
  {
   "cell_type": "code",
   "execution_count": 14,
   "metadata": {},
   "outputs": [],
   "source": [
    "# 更新回数\n",
    "count = 0"
   ]
  },
  {
   "cell_type": "code",
   "execution_count": 15,
   "metadata": {},
   "outputs": [
    {
     "name": "stdout",
     "output_type": "stream",
     "text": [
      "1回目: theta0 = 9.523, theta1 = 1.879, 差分 = 76065.1967\n",
      "2回目: theta0 = 17.916, theta1 = 3.711, 差分 = 73053.0149\n",
      "3回目: theta0 = 26.140, theta1 = 5.506, 差分 = 70160.1155\n",
      "4回目: theta0 = 34.200, theta1 = 7.266, 差分 = 67381.7750\n",
      "5回目: theta0 = 42.099, theta1 = 8.990, 差分 = 64713.4567\n",
      "6回目: theta0 = 49.840, theta1 = 10.680, 差分 = 62150.8038\n",
      "7回目: theta0 = 57.427, theta1 = 12.336, 差分 = 59689.6320\n",
      "8回目: theta0 = 64.861, theta1 = 13.959, 差分 = 57325.9225\n",
      "9回目: theta0 = 72.147, theta1 = 15.549, 差分 = 55055.8160\n",
      "10回目: theta0 = 79.287, theta1 = 17.108, 差分 = 52875.6057\n",
      "11回目: theta0 = 86.284, theta1 = 18.635, 差分 = 50781.7317\n",
      "12回目: theta0 = 93.142, theta1 = 20.132, 差分 = 48770.7751\n",
      "13回目: theta0 = 99.862, theta1 = 21.599, 差分 = 46839.4524\n",
      "14回目: theta0 = 106.447, theta1 = 23.036, 差分 = 44984.6101\n",
      "15回目: theta0 = 112.902, theta1 = 24.445, 差分 = 43203.2196\n",
      "16回目: theta0 = 119.227, theta1 = 25.826, 差分 = 41492.3721\n",
      "17回目: theta0 = 125.425, theta1 = 27.179, 差分 = 39849.2741\n",
      "18回目: theta0 = 131.499, theta1 = 28.505, 差分 = 38271.2429\n",
      "19回目: theta0 = 137.452, theta1 = 29.804, 差分 = 36755.7017\n",
      "20回目: theta0 = 143.286, theta1 = 31.078, 差分 = 35300.1759\n",
      "21回目: theta0 = 149.004, theta1 = 32.326, 差分 = 33902.2889\n",
      "22回目: theta0 = 154.607, theta1 = 33.549, 差分 = 32559.7583\n",
      "23回目: theta0 = 160.098, theta1 = 34.748, 差分 = 31270.3918\n",
      "24回目: theta0 = 165.479, theta1 = 35.922, 差分 = 30032.0843\n",
      "25回目: theta0 = 170.752, theta1 = 37.073, 差分 = 28842.8138\n",
      "26回目: theta0 = 175.920, theta1 = 38.201, 差分 = 27700.6384\n",
      "27回目: theta0 = 180.985, theta1 = 39.307, 差分 = 26603.6931\n",
      "28回目: theta0 = 185.948, theta1 = 40.390, 差分 = 25550.1868\n",
      "29回目: theta0 = 190.812, theta1 = 41.452, 差分 = 24538.3994\n",
      "30回目: theta0 = 195.579, theta1 = 42.493, 差分 = 23566.6788\n",
      "31回目: theta0 = 200.250, theta1 = 43.512, 差分 = 22633.4383\n",
      "32回目: theta0 = 204.828, theta1 = 44.512, 差分 = 21737.1542\n",
      "33回目: theta0 = 209.315, theta1 = 45.491, 差分 = 20876.3629\n",
      "34回目: theta0 = 213.711, theta1 = 46.451, 差分 = 20049.6589\n",
      "35回目: theta0 = 218.020, theta1 = 47.391, 差分 = 19255.6924\n",
      "36回目: theta0 = 222.243, theta1 = 48.313, 差分 = 18493.1670\n",
      "37回目: theta0 = 226.381, theta1 = 49.216, 差分 = 17760.8376\n",
      "38回目: theta0 = 230.436, theta1 = 50.102, 差分 = 17057.5084\n",
      "39回目: theta0 = 234.410, theta1 = 50.969, 差分 = 16382.0311\n",
      "40回目: theta0 = 238.305, theta1 = 51.819, 差分 = 15733.3026\n",
      "41回目: theta0 = 242.122, theta1 = 52.653, 差分 = 15110.2639\n",
      "42回目: theta0 = 245.863, theta1 = 53.469, 差分 = 14511.8974\n",
      "43回目: theta0 = 249.528, theta1 = 54.269, 差分 = 13937.2263\n",
      "44回目: theta0 = 253.121, theta1 = 55.054, 差分 = 13385.3121\n",
      "45回目: theta0 = 256.641, theta1 = 55.822, 差分 = 12855.2538\n",
      "46回目: theta0 = 260.092, theta1 = 56.575, 差分 = 12346.1857\n",
      "47回目: theta0 = 263.473, theta1 = 57.313, 差分 = 11857.2768\n",
      "48回目: theta0 = 266.786, theta1 = 58.037, 差分 = 11387.7286\n",
      "49回目: theta0 = 270.034, theta1 = 58.745, 差分 = 10936.7745\n",
      "50回目: theta0 = 273.216, theta1 = 59.440, 差分 = 10503.6783\n",
      "51回目: theta0 = 276.335, theta1 = 60.121, 差分 = 10087.7326\n",
      "52回目: theta0 = 279.391, theta1 = 60.788, 差分 = 9688.2584\n",
      "53回目: theta0 = 282.386, theta1 = 61.442, 差分 = 9304.6034\n",
      "54回目: theta0 = 285.321, theta1 = 62.083, 差分 = 8936.1411\n",
      "55回目: theta0 = 288.198, theta1 = 62.710, 差分 = 8582.2699\n",
      "56回目: theta0 = 291.017, theta1 = 63.326, 差分 = 8242.4120\n",
      "57回目: theta0 = 293.780, theta1 = 63.929, 差分 = 7916.0125\n",
      "58回目: theta0 = 296.487, theta1 = 64.520, 差分 = 7602.5384\n",
      "59回目: theta0 = 299.140, theta1 = 65.099, 差分 = 7301.4779\n",
      "60回目: theta0 = 301.740, theta1 = 65.667, 差分 = 7012.3393\n",
      "61回目: theta0 = 304.289, theta1 = 66.223, 差分 = 6734.6507\n",
      "62回目: theta0 = 306.786, theta1 = 66.768, 差分 = 6467.9585\n",
      "63回目: theta0 = 309.233, theta1 = 67.302, 差分 = 6211.8274\n",
      "64回目: theta0 = 311.632, theta1 = 67.826, 差分 = 5965.8390\n",
      "65回目: theta0 = 313.982, theta1 = 68.339, 差分 = 5729.5918\n",
      "66回目: theta0 = 316.285, theta1 = 68.842, 差分 = 5502.7000\n",
      "67回目: theta0 = 318.543, theta1 = 69.334, 差分 = 5284.7930\n",
      "68回目: theta0 = 320.755, theta1 = 69.817, 差分 = 5075.5152\n",
      "69回目: theta0 = 322.923, theta1 = 70.291, 差分 = 4874.5248\n",
      "70回目: theta0 = 325.047, theta1 = 70.754, 差分 = 4681.4936\n",
      "71回目: theta0 = 327.129, theta1 = 71.209, 差分 = 4496.1065\n",
      "72回目: theta0 = 329.170, theta1 = 71.654, 差分 = 4318.0607\n",
      "73回目: theta0 = 331.169, theta1 = 72.091, 差分 = 4147.0655\n",
      "74回目: theta0 = 333.129, theta1 = 72.518, 差分 = 3982.8417\n",
      "75回目: theta0 = 335.049, theta1 = 72.938, 差分 = 3825.1212\n",
      "76回目: theta0 = 336.931, theta1 = 73.348, 差分 = 3673.6464\n",
      "77回目: theta0 = 338.776, theta1 = 73.751, 差分 = 3528.1700\n",
      "78回目: theta0 = 340.583, theta1 = 74.146, 差分 = 3388.4544\n",
      "79回目: theta0 = 342.354, theta1 = 74.532, 差分 = 3254.2716\n",
      "80回目: theta0 = 344.090, theta1 = 74.911, 差分 = 3125.4025\n",
      "81回目: theta0 = 345.792, theta1 = 75.283, 差分 = 3001.6365\n",
      "82回目: theta0 = 347.459, theta1 = 75.646, 差分 = 2882.7717\n",
      "83回目: theta0 = 349.093, theta1 = 76.003, 差分 = 2768.6140\n",
      "84回目: theta0 = 350.694, theta1 = 76.353, 差分 = 2658.9769\n",
      "85回目: theta0 = 352.263, theta1 = 76.695, 差分 = 2553.6814\n",
      "86回目: theta0 = 353.801, theta1 = 77.031, 差分 = 2452.5556\n",
      "87回目: theta0 = 355.308, theta1 = 77.360, 差分 = 2355.4344\n",
      "88回目: theta0 = 356.784, theta1 = 77.682, 差分 = 2262.1592\n",
      "89回目: theta0 = 358.232, theta1 = 77.998, 差分 = 2172.5777\n",
      "90回目: theta0 = 359.650, theta1 = 78.308, 差分 = 2086.5436\n",
      "91回目: theta0 = 361.040, theta1 = 78.611, 差分 = 2003.9165\n",
      "92回目: theta0 = 362.402, theta1 = 78.908, 差分 = 1924.5614\n",
      "93回目: theta0 = 363.737, theta1 = 79.200, 差分 = 1848.3488\n",
      "94回目: theta0 = 365.046, theta1 = 79.485, 差分 = 1775.1541\n",
      "95回目: theta0 = 366.328, theta1 = 79.765, 差分 = 1704.8580\n",
      "96回目: theta0 = 367.584, theta1 = 80.040, 差分 = 1637.3457\n",
      "97回目: theta0 = 368.815, theta1 = 80.308, 差分 = 1572.5068\n",
      "98回目: theta0 = 370.022, theta1 = 80.572, 差分 = 1510.2355\n",
      "99回目: theta0 = 371.205, theta1 = 80.830, 差分 = 1450.4302\n",
      "100回目: theta0 = 372.364, theta1 = 81.083, 差分 = 1392.9931\n",
      "101回目: theta0 = 373.499, theta1 = 81.331, 差分 = 1337.8306\n",
      "102回目: theta0 = 374.612, theta1 = 81.574, 差分 = 1284.8525\n",
      "103回目: theta0 = 375.703, theta1 = 81.812, 差分 = 1233.9724\n",
      "104回目: theta0 = 376.772, theta1 = 82.045, 差分 = 1185.1071\n",
      "105回目: theta0 = 377.820, theta1 = 82.274, 差分 = 1138.1768\n",
      "106回目: theta0 = 378.846, theta1 = 82.498, 差分 = 1093.1050\n",
      "107回目: theta0 = 379.852, theta1 = 82.718, 差分 = 1049.8181\n",
      "108回目: theta0 = 380.838, theta1 = 82.933, 差分 = 1008.2453\n",
      "109回目: theta0 = 381.804, theta1 = 83.144, 差分 = 968.3188\n",
      "110回目: theta0 = 382.751, theta1 = 83.350, 差分 = 929.9733\n",
      "111回目: theta0 = 383.679, theta1 = 83.553, 差分 = 893.1464\n",
      "112回目: theta0 = 384.589, theta1 = 83.752, 差分 = 857.7778\n",
      "113回目: theta0 = 385.480, theta1 = 83.946, 差分 = 823.8098\n",
      "114回目: theta0 = 386.353, theta1 = 84.137, 差分 = 791.1869\n",
      "115回目: theta0 = 387.209, theta1 = 84.324, 差分 = 759.8559\n",
      "116回目: theta0 = 388.048, theta1 = 84.507, 差分 = 729.7656\n",
      "117回目: theta0 = 388.870, theta1 = 84.686, 差分 = 700.8669\n",
      "118回目: theta0 = 389.676, theta1 = 84.862, 差分 = 673.1126\n",
      "119回目: theta0 = 390.465, theta1 = 85.034, 差分 = 646.4573\n",
      "120回目: theta0 = 391.239, theta1 = 85.203, 差分 = 620.8576\n",
      "121回目: theta0 = 391.997, theta1 = 85.369, 差分 = 596.2716\n",
      "122回目: theta0 = 392.740, theta1 = 85.531, 差分 = 572.6593\n",
      "123回目: theta0 = 393.468, theta1 = 85.690, 差分 = 549.9820\n",
      "124回目: theta0 = 394.182, theta1 = 85.846, 差分 = 528.2027\n",
      "125回目: theta0 = 394.881, theta1 = 85.998, 差分 = 507.2859\n",
      "126回目: theta0 = 395.567, theta1 = 86.148, 差分 = 487.1973\n",
      "127回目: theta0 = 396.238, theta1 = 86.295, 差分 = 467.9043\n",
      "128回目: theta0 = 396.897, theta1 = 86.438, 差分 = 449.3753\n",
      "129回目: theta0 = 397.542, theta1 = 86.579, 差分 = 431.5801\n",
      "130回目: theta0 = 398.174, theta1 = 86.717, 差分 = 414.4895\n",
      "131回目: theta0 = 398.793, theta1 = 86.852, 差分 = 398.0757\n",
      "132回目: theta0 = 399.401, theta1 = 86.985, 差分 = 382.3119\n",
      "133回目: theta0 = 399.996, theta1 = 87.115, 差分 = 367.1724\n",
      "134回目: theta0 = 400.579, theta1 = 87.242, 差分 = 352.6323\n",
      "135回目: theta0 = 401.150, theta1 = 87.367, 差分 = 338.6681\n",
      "136回目: theta0 = 401.710, theta1 = 87.489, 差分 = 325.2568\n",
      "137回目: theta0 = 402.259, theta1 = 87.609, 差分 = 312.3767\n",
      "138回目: theta0 = 402.797, theta1 = 87.726, 差分 = 300.0065\n",
      "139回目: theta0 = 403.324, theta1 = 87.841, 差分 = 288.1263\n",
      "140回目: theta0 = 403.840, theta1 = 87.954, 差分 = 276.7165\n",
      "141回目: theta0 = 404.346, theta1 = 88.064, 差分 = 265.7585\n",
      "142回目: theta0 = 404.843, theta1 = 88.173, 差分 = 255.2345\n",
      "143回目: theta0 = 405.329, theta1 = 88.279, 差分 = 245.1272\n",
      "144回目: theta0 = 405.805, theta1 = 88.383, 差分 = 235.4202\n",
      "145回目: theta0 = 406.272, theta1 = 88.485, 差分 = 226.0975\n",
      "146回目: theta0 = 406.730, theta1 = 88.585, 差分 = 217.1441\n",
      "147回目: theta0 = 407.178, theta1 = 88.683, 差分 = 208.5452\n",
      "148回目: theta0 = 407.617, theta1 = 88.778, 差分 = 200.2868\n",
      "149回目: theta0 = 408.048, theta1 = 88.872, 差分 = 192.3554\n",
      "150回目: theta0 = 408.470, theta1 = 88.965, 差分 = 184.7381\n",
      "151回目: theta0 = 408.884, theta1 = 89.055, 差分 = 177.4225\n",
      "152回目: theta0 = 409.289, theta1 = 89.143, 差分 = 170.3966\n",
      "153回目: theta0 = 409.686, theta1 = 89.230, 差分 = 163.6489\n",
      "154回目: theta0 = 410.076, theta1 = 89.315, 差分 = 157.1684\n",
      "155回目: theta0 = 410.457, theta1 = 89.398, 差分 = 150.9445\n",
      "156回目: theta0 = 410.831, theta1 = 89.480, 差分 = 144.9671\n",
      "157回目: theta0 = 411.197, theta1 = 89.560, 差分 = 139.2264\n",
      "158回目: theta0 = 411.556, theta1 = 89.638, 差分 = 133.7130\n",
      "159回目: theta0 = 411.908, theta1 = 89.715, 差分 = 128.4180\n",
      "160回目: theta0 = 412.253, theta1 = 89.790, 差分 = 123.3326\n",
      "161回目: theta0 = 412.591, theta1 = 89.864, 差分 = 118.4487\n",
      "162回目: theta0 = 412.922, theta1 = 89.936, 差分 = 113.7581\n",
      "163回目: theta0 = 413.247, theta1 = 90.007, 差分 = 109.2533\n",
      "164回目: theta0 = 413.565, theta1 = 90.077, 差分 = 104.9269\n",
      "165回目: theta0 = 413.876, theta1 = 90.145, 差分 = 100.7718\n",
      "166回目: theta0 = 414.182, theta1 = 90.211, 差分 = 96.7812\n",
      "167回目: theta0 = 414.481, theta1 = 90.277, 差分 = 92.9487\n",
      "168回目: theta0 = 414.775, theta1 = 90.341, 差分 = 89.2679\n",
      "169回目: theta0 = 415.062, theta1 = 90.404, 差分 = 85.7329\n",
      "170回目: theta0 = 415.344, theta1 = 90.465, 差分 = 82.3379\n",
      "171回目: theta0 = 415.620, theta1 = 90.525, 差分 = 79.0773\n",
      "172回目: theta0 = 415.891, theta1 = 90.584, 差分 = 75.9458\n",
      "173回目: theta0 = 416.156, theta1 = 90.642, 差分 = 72.9384\n",
      "174回目: theta0 = 416.416, theta1 = 90.699, 差分 = 70.0500\n",
      "175回目: theta0 = 416.670, theta1 = 90.755, 差分 = 67.2760\n",
      "176回目: theta0 = 416.920, theta1 = 90.809, 差分 = 64.6119\n",
      "177回目: theta0 = 417.165, theta1 = 90.862, 差分 = 62.0533\n",
      "178回目: theta0 = 417.404, theta1 = 90.915, 差分 = 59.5960\n",
      "179回目: theta0 = 417.639, theta1 = 90.966, 差分 = 57.2360\n",
      "180回目: theta0 = 417.869, theta1 = 91.016, 差分 = 54.9694\n",
      "181回目: theta0 = 418.095, theta1 = 91.066, 差分 = 52.7926\n",
      "182回目: theta0 = 418.316, theta1 = 91.114, 差分 = 50.7020\n",
      "183回目: theta0 = 418.533, theta1 = 91.161, 差分 = 48.6942\n",
      "184回目: theta0 = 418.745, theta1 = 91.208, 差分 = 46.7659\n",
      "185回目: theta0 = 418.953, theta1 = 91.253, 差分 = 44.9140\n",
      "186回目: theta0 = 419.157, theta1 = 91.297, 差分 = 43.1354\n",
      "187回目: theta0 = 419.357, theta1 = 91.341, 差分 = 41.4273\n",
      "188回目: theta0 = 419.553, theta1 = 91.384, 差分 = 39.7867\n",
      "189回目: theta0 = 419.745, theta1 = 91.426, 差分 = 38.2112\n",
      "190回目: theta0 = 419.933, theta1 = 91.467, 差分 = 36.6980\n",
      "191回目: theta0 = 420.117, theta1 = 91.507, 差分 = 35.2448\n",
      "192回目: theta0 = 420.298, theta1 = 91.546, 差分 = 33.8491\n",
      "193回目: theta0 = 420.475, theta1 = 91.585, 差分 = 32.5087\n",
      "194回目: theta0 = 420.648, theta1 = 91.623, 差分 = 31.2213\n",
      "195回目: theta0 = 420.819, theta1 = 91.660, 差分 = 29.9850\n",
      "196回目: theta0 = 420.985, theta1 = 91.696, 差分 = 28.7975\n",
      "197回目: theta0 = 421.148, theta1 = 91.732, 差分 = 27.6572\n",
      "198回目: theta0 = 421.308, theta1 = 91.767, 差分 = 26.5619\n",
      "199回目: theta0 = 421.465, theta1 = 91.801, 差分 = 25.5101\n",
      "200回目: theta0 = 421.619, theta1 = 91.835, 差分 = 24.4999\n",
      "201回目: theta0 = 421.770, theta1 = 91.868, 差分 = 23.5297\n",
      "202回目: theta0 = 421.917, theta1 = 91.900, 差分 = 22.5979\n",
      "203回目: theta0 = 422.062, theta1 = 91.932, 差分 = 21.7030\n",
      "204回目: theta0 = 422.204, theta1 = 91.962, 差分 = 20.8436\n",
      "205回目: theta0 = 422.343, theta1 = 91.993, 差分 = 20.0182\n",
      "206回目: theta0 = 422.479, theta1 = 92.023, 差分 = 19.2255\n",
      "207回目: theta0 = 422.612, theta1 = 92.052, 差分 = 18.4641\n",
      "208回目: theta0 = 422.743, theta1 = 92.080, 差分 = 17.7330\n",
      "209回目: theta0 = 422.871, theta1 = 92.108, 差分 = 17.0307\n",
      "210回目: theta0 = 422.997, theta1 = 92.136, 差分 = 16.3563\n",
      "211回目: theta0 = 423.120, theta1 = 92.162, 差分 = 15.7086\n",
      "212回目: theta0 = 423.240, theta1 = 92.189, 差分 = 15.0865\n",
      "213回目: theta0 = 423.358, theta1 = 92.215, 差分 = 14.4891\n",
      "214回目: theta0 = 423.474, theta1 = 92.240, 差分 = 13.9154\n",
      "215回目: theta0 = 423.588, theta1 = 92.265, 差分 = 13.3643\n",
      "216回目: theta0 = 423.699, theta1 = 92.289, 差分 = 12.8351\n",
      "217回目: theta0 = 423.808, theta1 = 92.313, 差分 = 12.3268\n",
      "218回目: theta0 = 423.915, theta1 = 92.336, 差分 = 11.8387\n",
      "219回目: theta0 = 424.020, theta1 = 92.359, 差分 = 11.3699\n",
      "220回目: theta0 = 424.122, theta1 = 92.381, 差分 = 10.9196\n",
      "221回目: theta0 = 424.223, theta1 = 92.403, 差分 = 10.4872\n",
      "222回目: theta0 = 424.321, theta1 = 92.425, 差分 = 10.0719\n",
      "223回目: theta0 = 424.418, theta1 = 92.446, 差分 = 9.6731\n",
      "224回目: theta0 = 424.513, theta1 = 92.466, 差分 = 9.2900\n",
      "225回目: theta0 = 424.605, theta1 = 92.487, 差分 = 8.9221\n",
      "226回目: theta0 = 424.696, theta1 = 92.507, 差分 = 8.5688\n",
      "227回目: theta0 = 424.785, theta1 = 92.526, 差分 = 8.2295\n",
      "228回目: theta0 = 424.873, theta1 = 92.545, 差分 = 7.9036\n",
      "229回目: theta0 = 424.958, theta1 = 92.564, 差分 = 7.5906\n",
      "230回目: theta0 = 425.042, theta1 = 92.582, 差分 = 7.2900\n",
      "231回目: theta0 = 425.124, theta1 = 92.600, 差分 = 7.0013\n",
      "232回目: theta0 = 425.205, theta1 = 92.618, 差分 = 6.7241\n",
      "233回目: theta0 = 425.284, theta1 = 92.635, 差分 = 6.4578\n",
      "234回目: theta0 = 425.361, theta1 = 92.652, 差分 = 6.2021\n",
      "235回目: theta0 = 425.437, theta1 = 92.668, 差分 = 5.9565\n",
      "236回目: theta0 = 425.511, theta1 = 92.684, 差分 = 5.7206\n",
      "237回目: theta0 = 425.584, theta1 = 92.700, 差分 = 5.4941\n",
      "238回目: theta0 = 425.655, theta1 = 92.716, 差分 = 5.2765\n",
      "239回目: theta0 = 425.725, theta1 = 92.731, 差分 = 5.0675\n",
      "240回目: theta0 = 425.793, theta1 = 92.746, 差分 = 4.8669\n",
      "241回目: theta0 = 425.861, theta1 = 92.761, 差分 = 4.6741\n",
      "242回目: theta0 = 425.926, theta1 = 92.775, 差分 = 4.4891\n",
      "243回目: theta0 = 425.991, theta1 = 92.789, 差分 = 4.3113\n",
      "244回目: theta0 = 426.054, theta1 = 92.803, 差分 = 4.1406\n",
      "245回目: theta0 = 426.116, theta1 = 92.816, 差分 = 3.9766\n",
      "246回目: theta0 = 426.177, theta1 = 92.830, 差分 = 3.8191\n",
      "247回目: theta0 = 426.236, theta1 = 92.843, 差分 = 3.6679\n",
      "248回目: theta0 = 426.294, theta1 = 92.855, 差分 = 3.5226\n",
      "249回目: theta0 = 426.351, theta1 = 92.868, 差分 = 3.3831\n",
      "250回目: theta0 = 426.407, theta1 = 92.880, 差分 = 3.2492\n",
      "251回目: theta0 = 426.462, theta1 = 92.892, 差分 = 3.1205\n",
      "252回目: theta0 = 426.516, theta1 = 92.904, 差分 = 2.9969\n",
      "253回目: theta0 = 426.569, theta1 = 92.915, 差分 = 2.8782\n",
      "254回目: theta0 = 426.620, theta1 = 92.927, 差分 = 2.7643\n",
      "255回目: theta0 = 426.671, theta1 = 92.938, 差分 = 2.6548\n",
      "256回目: theta0 = 426.721, theta1 = 92.948, 差分 = 2.5497\n",
      "257回目: theta0 = 426.769, theta1 = 92.959, 差分 = 2.4487\n",
      "258回目: theta0 = 426.817, theta1 = 92.969, 差分 = 2.3517\n",
      "259回目: theta0 = 426.863, theta1 = 92.980, 差分 = 2.2586\n",
      "260回目: theta0 = 426.909, theta1 = 92.990, 差分 = 2.1692\n",
      "261回目: theta0 = 426.954, theta1 = 92.999, 差分 = 2.0833\n",
      "262回目: theta0 = 426.998, theta1 = 93.009, 差分 = 2.0008\n",
      "263回目: theta0 = 427.041, theta1 = 93.018, 差分 = 1.9215\n",
      "264回目: theta0 = 427.083, theta1 = 93.028, 差分 = 1.8454\n",
      "265回目: theta0 = 427.124, theta1 = 93.037, 差分 = 1.7724\n",
      "266回目: theta0 = 427.165, theta1 = 93.045, 差分 = 1.7022\n",
      "267回目: theta0 = 427.205, theta1 = 93.054, 差分 = 1.6348\n",
      "268回目: theta0 = 427.244, theta1 = 93.063, 差分 = 1.5700\n",
      "269回目: theta0 = 427.282, theta1 = 93.071, 差分 = 1.5079\n",
      "270回目: theta0 = 427.319, theta1 = 93.079, 差分 = 1.4482\n",
      "271回目: theta0 = 427.356, theta1 = 93.087, 差分 = 1.3908\n",
      "272回目: theta0 = 427.392, theta1 = 93.095, 差分 = 1.3357\n",
      "273回目: theta0 = 427.427, theta1 = 93.103, 差分 = 1.2828\n",
      "274回目: theta0 = 427.461, theta1 = 93.110, 差分 = 1.2320\n",
      "275回目: theta0 = 427.495, theta1 = 93.117, 差分 = 1.1832\n",
      "276回目: theta0 = 427.528, theta1 = 93.125, 差分 = 1.1364\n",
      "277回目: theta0 = 427.561, theta1 = 93.132, 差分 = 1.0914\n",
      "278回目: theta0 = 427.592, theta1 = 93.139, 差分 = 1.0482\n",
      "279回目: theta0 = 427.623, theta1 = 93.146, 差分 = 1.0067\n",
      "280回目: theta0 = 427.654, theta1 = 93.152, 差分 = 0.9668\n",
      "281回目: theta0 = 427.684, theta1 = 93.159, 差分 = 0.9285\n",
      "282回目: theta0 = 427.713, theta1 = 93.165, 差分 = 0.8917\n",
      "283回目: theta0 = 427.742, theta1 = 93.171, 差分 = 0.8564\n",
      "284回目: theta0 = 427.770, theta1 = 93.178, 差分 = 0.8225\n",
      "285回目: theta0 = 427.798, theta1 = 93.184, 差分 = 0.7899\n",
      "286回目: theta0 = 427.825, theta1 = 93.189, 差分 = 0.7587\n",
      "287回目: theta0 = 427.851, theta1 = 93.195, 差分 = 0.7286\n",
      "288回目: theta0 = 427.877, theta1 = 93.201, 差分 = 0.6998\n",
      "289回目: theta0 = 427.903, theta1 = 93.206, 差分 = 0.6721\n",
      "290回目: theta0 = 427.928, theta1 = 93.212, 差分 = 0.6454\n",
      "291回目: theta0 = 427.952, theta1 = 93.217, 差分 = 0.6199\n",
      "292回目: theta0 = 427.976, theta1 = 93.223, 差分 = 0.5953\n",
      "293回目: theta0 = 428.000, theta1 = 93.228, 差分 = 0.5718\n",
      "294回目: theta0 = 428.023, theta1 = 93.233, 差分 = 0.5491\n",
      "295回目: theta0 = 428.045, theta1 = 93.238, 差分 = 0.5274\n",
      "296回目: theta0 = 428.067, theta1 = 93.242, 差分 = 0.5065\n",
      "297回目: theta0 = 428.089, theta1 = 93.247, 差分 = 0.4864\n",
      "298回目: theta0 = 428.110, theta1 = 93.252, 差分 = 0.4672\n",
      "299回目: theta0 = 428.131, theta1 = 93.256, 差分 = 0.4487\n",
      "300回目: theta0 = 428.151, theta1 = 93.261, 差分 = 0.4309\n",
      "301回目: theta0 = 428.171, theta1 = 93.265, 差分 = 0.4138\n",
      "302回目: theta0 = 428.191, theta1 = 93.269, 差分 = 0.3975\n",
      "303回目: theta0 = 428.210, theta1 = 93.274, 差分 = 0.3817\n",
      "304回目: theta0 = 428.229, theta1 = 93.278, 差分 = 0.3666\n",
      "305回目: theta0 = 428.247, theta1 = 93.282, 差分 = 0.3521\n",
      "306回目: theta0 = 428.265, theta1 = 93.286, 差分 = 0.3381\n",
      "307回目: theta0 = 428.283, theta1 = 93.290, 差分 = 0.3247\n",
      "308回目: theta0 = 428.300, theta1 = 93.293, 差分 = 0.3119\n",
      "309回目: theta0 = 428.317, theta1 = 93.297, 差分 = 0.2995\n",
      "310回目: theta0 = 428.334, theta1 = 93.301, 差分 = 0.2877\n",
      "311回目: theta0 = 428.350, theta1 = 93.304, 差分 = 0.2763\n",
      "312回目: theta0 = 428.366, theta1 = 93.308, 差分 = 0.2653\n",
      "313回目: theta0 = 428.382, theta1 = 93.311, 差分 = 0.2548\n",
      "314回目: theta0 = 428.397, theta1 = 93.314, 差分 = 0.2447\n",
      "315回目: theta0 = 428.412, theta1 = 93.318, 差分 = 0.2351\n",
      "316回目: theta0 = 428.427, theta1 = 93.321, 差分 = 0.2257\n",
      "317回目: theta0 = 428.442, theta1 = 93.324, 差分 = 0.2168\n",
      "318回目: theta0 = 428.456, theta1 = 93.327, 差分 = 0.2082\n",
      "319回目: theta0 = 428.470, theta1 = 93.330, 差分 = 0.2000\n",
      "320回目: theta0 = 428.483, theta1 = 93.333, 差分 = 0.1921\n",
      "321回目: theta0 = 428.497, theta1 = 93.336, 差分 = 0.1844\n",
      "322回目: theta0 = 428.510, theta1 = 93.339, 差分 = 0.1771\n",
      "323回目: theta0 = 428.522, theta1 = 93.342, 差分 = 0.1701\n",
      "324回目: theta0 = 428.535, theta1 = 93.345, 差分 = 0.1634\n",
      "325回目: theta0 = 428.547, theta1 = 93.347, 差分 = 0.1569\n",
      "326回目: theta0 = 428.559, theta1 = 93.350, 差分 = 0.1507\n",
      "327回目: theta0 = 428.571, theta1 = 93.352, 差分 = 0.1447\n",
      "328回目: theta0 = 428.583, theta1 = 93.355, 差分 = 0.1390\n",
      "329回目: theta0 = 428.594, theta1 = 93.357, 差分 = 0.1335\n",
      "330回目: theta0 = 428.605, theta1 = 93.360, 差分 = 0.1282\n",
      "331回目: theta0 = 428.616, theta1 = 93.362, 差分 = 0.1231\n",
      "332回目: theta0 = 428.627, theta1 = 93.365, 差分 = 0.1183\n",
      "333回目: theta0 = 428.637, theta1 = 93.367, 差分 = 0.1136\n",
      "334回目: theta0 = 428.647, theta1 = 93.369, 差分 = 0.1091\n",
      "335回目: theta0 = 428.658, theta1 = 93.371, 差分 = 0.1048\n",
      "336回目: theta0 = 428.667, theta1 = 93.373, 差分 = 0.1006\n",
      "337回目: theta0 = 428.677, theta1 = 93.376, 差分 = 0.0966\n",
      "338回目: theta0 = 428.686, theta1 = 93.378, 差分 = 0.0928\n",
      "339回目: theta0 = 428.696, theta1 = 93.380, 差分 = 0.0891\n",
      "340回目: theta0 = 428.705, theta1 = 93.382, 差分 = 0.0856\n",
      "341回目: theta0 = 428.714, theta1 = 93.384, 差分 = 0.0822\n",
      "342回目: theta0 = 428.722, theta1 = 93.385, 差分 = 0.0790\n",
      "343回目: theta0 = 428.731, theta1 = 93.387, 差分 = 0.0758\n",
      "344回目: theta0 = 428.739, theta1 = 93.389, 差分 = 0.0728\n",
      "345回目: theta0 = 428.748, theta1 = 93.391, 差分 = 0.0699\n",
      "346回目: theta0 = 428.756, theta1 = 93.393, 差分 = 0.0672\n",
      "347回目: theta0 = 428.764, theta1 = 93.394, 差分 = 0.0645\n",
      "348回目: theta0 = 428.771, theta1 = 93.396, 差分 = 0.0620\n",
      "349回目: theta0 = 428.779, theta1 = 93.398, 差分 = 0.0595\n",
      "350回目: theta0 = 428.786, theta1 = 93.399, 差分 = 0.0571\n",
      "351回目: theta0 = 428.794, theta1 = 93.401, 差分 = 0.0549\n",
      "352回目: theta0 = 428.801, theta1 = 93.403, 差分 = 0.0527\n",
      "353回目: theta0 = 428.808, theta1 = 93.404, 差分 = 0.0506\n",
      "354回目: theta0 = 428.815, theta1 = 93.406, 差分 = 0.0486\n",
      "355回目: theta0 = 428.821, theta1 = 93.407, 差分 = 0.0467\n",
      "356回目: theta0 = 428.828, theta1 = 93.408, 差分 = 0.0448\n",
      "357回目: theta0 = 428.834, theta1 = 93.410, 差分 = 0.0431\n",
      "358回目: theta0 = 428.841, theta1 = 93.411, 差分 = 0.0414\n",
      "359回目: theta0 = 428.847, theta1 = 93.413, 差分 = 0.0397\n",
      "360回目: theta0 = 428.853, theta1 = 93.414, 差分 = 0.0382\n",
      "361回目: theta0 = 428.859, theta1 = 93.415, 差分 = 0.0366\n",
      "362回目: theta0 = 428.865, theta1 = 93.416, 差分 = 0.0352\n",
      "363回目: theta0 = 428.870, theta1 = 93.418, 差分 = 0.0338\n",
      "364回目: theta0 = 428.876, theta1 = 93.419, 差分 = 0.0325\n",
      "365回目: theta0 = 428.881, theta1 = 93.420, 差分 = 0.0312\n",
      "366回目: theta0 = 428.887, theta1 = 93.421, 差分 = 0.0299\n",
      "367回目: theta0 = 428.892, theta1 = 93.422, 差分 = 0.0288\n",
      "368回目: theta0 = 428.897, theta1 = 93.424, 差分 = 0.0276\n",
      "369回目: theta0 = 428.902, theta1 = 93.425, 差分 = 0.0265\n",
      "370回目: theta0 = 428.907, theta1 = 93.426, 差分 = 0.0255\n",
      "371回目: theta0 = 428.912, theta1 = 93.427, 差分 = 0.0245\n",
      "372回目: theta0 = 428.917, theta1 = 93.428, 差分 = 0.0235\n",
      "373回目: theta0 = 428.921, theta1 = 93.429, 差分 = 0.0226\n",
      "374回目: theta0 = 428.926, theta1 = 93.430, 差分 = 0.0217\n",
      "375回目: theta0 = 428.931, theta1 = 93.431, 差分 = 0.0208\n",
      "376回目: theta0 = 428.935, theta1 = 93.432, 差分 = 0.0200\n",
      "377回目: theta0 = 428.939, theta1 = 93.433, 差分 = 0.0192\n",
      "378回目: theta0 = 428.943, theta1 = 93.434, 差分 = 0.0184\n",
      "379回目: theta0 = 428.948, theta1 = 93.435, 差分 = 0.0177\n",
      "380回目: theta0 = 428.952, theta1 = 93.435, 差分 = 0.0170\n",
      "381回目: theta0 = 428.956, theta1 = 93.436, 差分 = 0.0163\n",
      "382回目: theta0 = 428.959, theta1 = 93.437, 差分 = 0.0157\n",
      "383回目: theta0 = 428.963, theta1 = 93.438, 差分 = 0.0151\n",
      "384回目: theta0 = 428.967, theta1 = 93.439, 差分 = 0.0145\n",
      "385回目: theta0 = 428.971, theta1 = 93.440, 差分 = 0.0139\n",
      "386回目: theta0 = 428.974, theta1 = 93.440, 差分 = 0.0133\n",
      "387回目: theta0 = 428.978, theta1 = 93.441, 差分 = 0.0128\n",
      "388回目: theta0 = 428.981, theta1 = 93.442, 差分 = 0.0123\n",
      "389回目: theta0 = 428.985, theta1 = 93.443, 差分 = 0.0118\n",
      "390回目: theta0 = 428.988, theta1 = 93.443, 差分 = 0.0114\n",
      "391回目: theta0 = 428.991, theta1 = 93.444, 差分 = 0.0109\n",
      "392回目: theta0 = 428.994, theta1 = 93.445, 差分 = 0.0105\n",
      "393回目: theta0 = 428.997, theta1 = 93.445, 差分 = 0.0101\n",
      "394回目: theta0 = 429.000, theta1 = 93.446, 差分 = 0.0097\n"
     ]
    }
   ],
   "source": [
    "# 学習\n",
    "error = E(train_z, train_y)\n",
    "while diff > 1e-2:\n",
    "    # 更新結果を一時変数に保存\n",
    "    tmp0 = theta0 - ETA * np.sum((f(train_z) - train_y))\n",
    "    tmp1 = theta1 - ETA * np.sum((f(train_z) - train_y) * train_z)\n",
    "    # パラメタを更新\n",
    "    theta0 = tmp0\n",
    "    theta1 = tmp1\n",
    "    # 前回との誤差との差分を計算\n",
    "    current_error = E(train_z, train_y)\n",
    "    diff = error - current_error\n",
    "    error = current_error\n",
    "    # ログ出力\n",
    "    count += 1\n",
    "    log = '{}回目: theta0 = {:.3f}, theta1 = {:.3f}, 差分 = {:.4f}'\n",
    "    print(log.format(count, theta0, theta1, diff))"
   ]
  },
  {
   "cell_type": "code",
   "execution_count": 16,
   "metadata": {},
   "outputs": [
    {
     "data": {
      "text/plain": [
       "[<matplotlib.lines.Line2D at 0x11f63d198>]"
      ]
     },
     "execution_count": 16,
     "metadata": {},
     "output_type": "execute_result"
    },
    {
     "data": {
      "image/png": "[encoded data removed]",
      "text/plain": [
       "<matplotlib.figure.Figure at 0x11f63d748>"
      ]
     },
     "metadata": {},
     "output_type": "display_data"
    }
   ],
   "source": [
    "# 学習結果を描画\n",
    "x = np.linspace(-3, 3, 100)\n",
    "plt.plot(train_z, train_y, 'o')\n",
    "plt.plot(x, f(x))"
   ]
  },
  {
   "cell_type": "markdown",
   "metadata": {},
   "source": [
    "### 予測/検証"
   ]
  },
  {
   "cell_type": "code",
   "execution_count": 17,
   "metadata": {},
   "outputs": [
    {
     "data": {
      "text/plain": [
       "370.96752253973983"
      ]
     },
     "execution_count": 17,
     "metadata": {},
     "output_type": "execute_result"
    }
   ],
   "source": [
    "f(standardize(100))"
   ]
  },
  {
   "cell_type": "code",
   "execution_count": 18,
   "metadata": {},
   "outputs": [
    {
     "data": {
      "text/plain": [
       "510.46981434716116"
      ]
     },
     "execution_count": 18,
     "metadata": {},
     "output_type": "execute_result"
    }
   ],
   "source": [
    "f(standardize(200))"
   ]
  },
  {
   "cell_type": "code",
   "execution_count": 19,
   "metadata": {},
   "outputs": [
    {
     "data": {
      "text/plain": [
       "649.9721061545824"
      ]
     },
     "execution_count": 19,
     "metadata": {},
     "output_type": "execute_result"
    }
   ],
   "source": [
    "f(standardize(300))"
   ]
  }
 ],
 "metadata": {
  "kernelspec": {
   "display_name": "Python 3",
   "language": "python",
   "name": "python3"
  },
  "language_info": {
   "codemirror_mode": {
    "name": "ipython",
    "version": 3
   },
   "file_extension": ".py",
   "mimetype": "text/x-python",
   "name": "python",
   "nbconvert_exporter": "python",
   "pygments_lexer": "ipython3",
   "version": "3.6.0"
  }
 },
 "nbformat": 4,
 "nbformat_minor": 2
}
