{
 "cells": [
  {
   "cell_type": "code",
   "execution_count": 1,
   "metadata": {},
   "outputs": [
    {
     "name": "stdout",
     "output_type": "stream",
     "text": [
      "Requirement already satisfied: mglearn in /Users/amoro/.pyenv/versions/anaconda3-4.3.1/lib/python3.6/site-packages (0.1.6)\n",
      "Requirement already satisfied: numpy in /Users/amoro/.pyenv/versions/anaconda3-4.3.1/lib/python3.6/site-packages (from mglearn) (1.14.3)\n",
      "Requirement already satisfied: matplotlib in /Users/amoro/.pyenv/versions/anaconda3-4.3.1/lib/python3.6/site-packages (from mglearn) (2.0.2)\n",
      "Requirement already satisfied: scikit-learn in /Users/amoro/.pyenv/versions/anaconda3-4.3.1/lib/python3.6/site-packages (from mglearn) (0.19.1)\n",
      "Requirement already satisfied: pandas in /Users/amoro/.pyenv/versions/anaconda3-4.3.1/lib/python3.6/site-packages (from mglearn) (0.20.3)\n",
      "Requirement already satisfied: cycler in /Users/amoro/.pyenv/versions/anaconda3-4.3.1/lib/python3.6/site-packages (from mglearn) (0.10.0)\n",
      "Requirement already satisfied: pillow in /Users/amoro/.pyenv/versions/anaconda3-4.3.1/lib/python3.6/site-packages (from mglearn) (4.0.0)\n",
      "Requirement already satisfied: six>=1.10 in /Users/amoro/.pyenv/versions/anaconda3-4.3.1/lib/python3.6/site-packages (from matplotlib->mglearn) (1.11.0)\n",
      "Requirement already satisfied: python-dateutil in /Users/amoro/.pyenv/versions/anaconda3-4.3.1/lib/python3.6/site-packages (from matplotlib->mglearn) (2.6.0)\n",
      "Requirement already satisfied: pytz in /Users/amoro/.pyenv/versions/anaconda3-4.3.1/lib/python3.6/site-packages (from matplotlib->mglearn) (2016.10)\n",
      "Requirement already satisfied: pyparsing!=2.0.4,!=2.1.2,!=2.1.6,>=1.5.6 in /Users/amoro/.pyenv/versions/anaconda3-4.3.1/lib/python3.6/site-packages (from matplotlib->mglearn) (2.1.4)\n",
      "Requirement already satisfied: olefile in /Users/amoro/.pyenv/versions/anaconda3-4.3.1/lib/python3.6/site-packages (from pillow->mglearn) (0.45.1)\n"
     ]
    }
   ],
   "source": [
    "from IPython.display import set_matplotlib_formats, display\n",
    "import pandas as pd\n",
    "import numpy as np\n",
    "!pip install mglearn\n",
    "import matplotlib.pyplot as plt\n",
    "import mglearn\n",
    "from cycler import cycler\n",
    "%matplotlib inline\n",
    "from sklearn.model_selection import train_test_split"
   ]
  },
  {
   "cell_type": "markdown",
   "metadata": {},
   "source": [
    "文字列として表現されているデータのタイプ\n",
    "---\n",
    "文字列として表現されるすべての特徴量をテキストデータとして扱うのは適切ではない場合がある。\n",
    "文字列データには次の種類がある。\n",
    "- 1.カテゴリデータ\n",
    "- 2.意味的にはカテゴリに分類できる自由に書かれた文字列\n",
    "- 3.構造化された文字列\n",
    "- 4.テキストデータ"
   ]
  },
  {
   "cell_type": "markdown",
   "metadata": {},
   "source": [
    "### カテゴリデータ\n",
    "- 固定されたリストから得られるデータ\n",
    "- 例えば色をドロップダウンメニューから選択させた結果など\n",
    "- カテゴリ変数としてエンコードして使う\n",
    "\n",
    "### 意味的にはカテゴリに分類できる自由に書かれた文字列\n",
    "- カテゴリ変数としてエンコードするのがよい\n",
    "- 回答に頻出する値をカテゴリ値として選ぶか、アプリケーションとして意味のあるような情報を回答から導き出すようにカテゴリを定義する\n",
    "- 文字列の前処理は手作業になり自動化が難しい\n",
    "- 可能であればテキストでの入力は避け、カテゴリ変数として収集できるようにする\n",
    "\n",
    "### 構造化された文字列\n",
    "- 固定したカテゴリに対応しなくても、何らかの構造をもつ文字列\n",
    "- 住所、地名、人名、日付、電話番号などの何らかの識別番号\n",
    "\n",
    "### 自由なテキストデータ\n",
    "- ツイート、チャットログ、ホテルのレビュー、Wikipediaの記事全体など\n",
    "- テキスト解析において、データセットは「コーパス(corpus)」、一つのテキストとして表現される個々のデータポイントは文書(document)と呼ばれる"
   ]
  },
  {
   "cell_type": "markdown",
   "metadata": {},
   "source": [
    "# 映画レビューのセンチメント分析\n",
    "- スタンフォード大学の研究者Andrew Maasが収集したIMDb(Internet Movie Database)Webサイトの映画レビューデータセットを用いる\n",
    "  - http://ai.stanford.edu/~amaas/data/sentiment/ からダウンロードしてくる"
   ]
  },
  {
   "cell_type": "code",
   "execution_count": 2,
   "metadata": {},
   "outputs": [
    {
     "name": "stdout",
     "output_type": "stream",
     "text": [
      "rm: data/aclImdb/train/unsup: No such file or directory\n",
      "data/aclImdb\n",
      "├── test\n",
      "│   ├── neg\n",
      "│   └── pos\n",
      "└── train\n",
      "    ├── neg\n",
      "    └── pos\n",
      "\n",
      "6 directories\n"
     ]
    }
   ],
   "source": [
    "!rm -r data/aclImdb/train/unsup\n",
    "!tree -dL 2 data/aclImdb"
   ]
  },
  {
   "cell_type": "markdown",
   "metadata": {},
   "source": [
    "- posフォルダには肯定的(positive)なレビュー、negフォルダには(negative)なレビューが格納されている"
   ]
  },
  {
   "cell_type": "code",
   "execution_count": 3,
   "metadata": {
    "collapsed": true
   },
   "outputs": [],
   "source": [
    "from sklearn.datasets import load_files\n",
    "\n",
    "review_train = load_files(\"data/aclImdb/train/\")"
   ]
  },
  {
   "cell_type": "markdown",
   "metadata": {},
   "source": [
    "- scikit-leanにはラベルがサブフォルダに対応するフォルダ構造からデータを読み込みための関数「load_files」が用意されている"
   ]
  },
  {
   "cell_type": "code",
   "execution_count": 4,
   "metadata": {},
   "outputs": [
    {
     "name": "stdout",
     "output_type": "stream",
     "text": [
      "type of text_train: <class 'list'>\n",
      "lange of text_train: 25000\n",
      "text_train[1] :\n",
      " b'Words can\\'t describe how bad this movie is. I can\\'t explain it by writing only. You have too see it for yourself to get at grip of how horrible a movie really can be. Not that I recommend you to do that. There are so many clich\\xc3\\xa9s, mistakes (and all other negative things you can imagine) here that will just make you cry. To start with the technical first, there are a LOT of mistakes regarding the airplane. I won\\'t list them here, but just mention the coloring of the plane. They didn\\'t even manage to show an airliner in the colors of a fictional airline, but instead used a 747 painted in the original Boeing livery. Very bad. The plot is stupid and has been done many times before, only much, much better. There are so many ridiculous moments here that i lost count of it really early. Also, I was on the bad guys\\' side all the time in the movie, because the good guys were so stupid. \"Executive Decision\" should without a doubt be you\\'re choice over this one, even the \"Turbulence\"-movies are better. In fact, every other movie in the world is better than this one.'\n"
     ]
    }
   ],
   "source": [
    "# load_filesは一連の訓練テキストと訓練ラベルを返す\n",
    "text_train, y_train = review_train.data, review_train.target\n",
    "print(f\"type of text_train: {type(text_train)}\")\n",
    "print(f\"lange of text_train: {len(text_train)}\")\n",
    "print(f\"text_train[1] :\\n {text_train[1]}\")"
   ]
  },
  {
   "cell_type": "markdown",
   "metadata": {},
   "source": [
    "- text_trainは、長さ25000のリストで個々の要素にはレビューが文字列として含まれる\n",
    "- レビューにはHTMLの改行シーケンスが含まれている場合があるため、除去する"
   ]
  },
  {
   "cell_type": "code",
   "execution_count": 5,
   "metadata": {
    "collapsed": true
   },
   "outputs": [],
   "source": [
    "text_train = [doc.replace(b\"<br />\", b\" \") for doc in text_train]"
   ]
  },
  {
   "cell_type": "code",
   "execution_count": 6,
   "metadata": {},
   "outputs": [
    {
     "name": "stdout",
     "output_type": "stream",
     "text": [
      "Sample per class (training): [12500 12500]\n"
     ]
    }
   ],
   "source": [
    "print(\"Sample per class (training): {}\".format(np.bincount(y_train)))"
   ]
  },
  {
   "cell_type": "markdown",
   "metadata": {},
   "source": [
    "- このデータは肯定的なクラスと否定的なクラスがバランスするように集められている"
   ]
  },
  {
   "cell_type": "code",
   "execution_count": 7,
   "metadata": {},
   "outputs": [
    {
     "name": "stdout",
     "output_type": "stream",
     "text": [
      "Number of documents in test data: 25000\n",
      "Samples par class (test) : [12500 12500]\n"
     ]
    }
   ],
   "source": [
    "reviews_test = load_files(\"data/aclImdb/test\")\n",
    "text_test, y_test = reviews_test.data, reviews_test.target\n",
    "print(f\"Number of documents in test data: {len(text_test)}\")\n",
    "print(f\"Samples par class (test) : {np.bincount(y_test)}\")\n",
    "text_test = [doc.replace(b\"<br />\", b\" \") for doc in text_train]"
   ]
  },
  {
   "cell_type": "markdown",
   "metadata": {},
   "source": [
    "### 問題設定\n",
    "あるレビューに対して、レビューのテキストに基づいて「肯定的」または「否定的」のラベルを割り当てる"
   ]
  },
  {
   "cell_type": "markdown",
   "metadata": {},
   "source": [
    "Bag of Wordsによるテキスト表現\n",
    "---\n",
    "- 最も単純で効率がよく、機械学習で広く用いられているテキストデータ表現が「BoW(bag-of-words)」\n",
    "- この表現では、章立て、パラグラフ、文章、フォーマットなどの入力テキストの持つ構造のほとんどすべてが失われ、コーパスに現れた単語がテキストに現れる回数だけを数える\n",
    "\n",
    "### BoWの表現手順\n",
    "- 1.トークン分割(Tokenization)\n",
    "    - 個々の文書を単語(トークン)に分割する。例えばホワイトスペースや句読点で区切る\n",
    "- 2.ボキャブラリ構築(Vocabulary building)\n",
    "    - すべての文書に現れる単語をボキャブラリとして集め、番号をつける(例えばアルファベット順で)  \n",
    "- 3.エンコード\n",
    "    - 個々の文書に対してボキャブラリの単語が現れる回数を数える"
   ]
  },
  {
   "cell_type": "markdown",
   "metadata": {},
   "source": [
    "トイデータセットに対するBoW\n",
    "---\n",
    "- BoW表現は変換器としてCountVectorizerに実装されている"
   ]
  },
  {
   "cell_type": "code",
   "execution_count": 8,
   "metadata": {
    "collapsed": true
   },
   "outputs": [],
   "source": [
    "bards_words = [\"The fool doth think he is wise,\", \"but the wise man knows himself to be a fool\"]"
   ]
  },
  {
   "cell_type": "markdown",
   "metadata": {},
   "source": [
    "- まずは2つのサンプルデータを定義する"
   ]
  },
  {
   "cell_type": "code",
   "execution_count": 9,
   "metadata": {},
   "outputs": [
    {
     "data": {
      "text/plain": [
       "CountVectorizer(analyzer='word', binary=False, decode_error='strict',\n",
       "        dtype=<class 'numpy.int64'>, encoding='utf-8', input='content',\n",
       "        lowercase=True, max_df=1.0, max_features=None, min_df=1,\n",
       "        ngram_range=(1, 1), preprocessor=None, stop_words=None,\n",
       "        strip_accents=None, token_pattern='(?u)\\\\b\\\\w\\\\w+\\\\b',\n",
       "        tokenizer=None, vocabulary=None)"
      ]
     },
     "execution_count": 9,
     "metadata": {},
     "output_type": "execute_result"
    }
   ],
   "source": [
    "from sklearn.feature_extraction.text import CountVectorizer\n",
    "vect = CountVectorizer()\n",
    "vect.fit(bards_words)"
   ]
  },
  {
   "cell_type": "markdown",
   "metadata": {},
   "source": [
    "- CountVectorizerをインポートしてトイデータセットに対して、fitを呼び出す"
   ]
  },
  {
   "cell_type": "code",
   "execution_count": 10,
   "metadata": {},
   "outputs": [
    {
     "name": "stdout",
     "output_type": "stream",
     "text": [
      "Vocabulary size: 13\n",
      "Vocabulary content: {'the': 9, 'fool': 3, 'doth': 2, 'think': 10, 'he': 4, 'is': 6, 'wise': 12, 'but': 1, 'man': 8, 'knows': 7, 'himself': 5, 'to': 11, 'be': 0}\n"
     ]
    }
   ],
   "source": [
    "print(f\"Vocabulary size: {len(vect.vocabulary_)}\")\n",
    "print(f\"Vocabulary content: {vect.vocabulary_}\")"
   ]
  },
  {
   "cell_type": "markdown",
   "metadata": {},
   "source": [
    "- CountVectorizerのfitでは訓練データのトークン分割とボキャブラリの構築が行われる \n",
    "- ボキャブラリはvocabulary_で確認できる"
   ]
  },
  {
   "cell_type": "code",
   "execution_count": 11,
   "metadata": {},
   "outputs": [
    {
     "name": "stdout",
     "output_type": "stream",
     "text": [
      "bag_of_words: <2x13 sparse matrix of type '<class 'numpy.int64'>'\n",
      "\twith 16 stored elements in Compressed Sparse Row format>\n"
     ]
    }
   ],
   "source": [
    "bag_of_words = vect.transform(bards_words)\n",
    "print(\"bag_of_words: {}\".format(repr(bag_of_words)))"
   ]
  },
  {
   "cell_type": "markdown",
   "metadata": {},
   "source": [
    "- 訓練データに対するBoW表現を作るにはtransformメソッドを呼び出す\n",
    "- BoW表現は、SciPyの疎行列として格納される\n",
    "    - このデータ構造は非ゼロの要素しか格納しない\n",
    "- この行列は2 * 3で構成されていて、2つのデータポイントに対してそれぞれ行が割り当てられ、ボキャブラリ中の単語に対してそれぞれ特徴量が割り当てられる\n",
    "- 疎行列が用いられるのは、ほとんどの文書にはボキャブラリ中の単語のごく一部しか現れず、特徴量に対する要素のほとんどが0になるため"
   ]
  },
  {
   "cell_type": "code",
   "execution_count": 12,
   "metadata": {},
   "outputs": [
    {
     "name": "stdout",
     "output_type": "stream",
     "text": [
      "Dense representation of bag_of_words:\n",
      "[[0 0 1 1 1 0 1 0 0 1 1 0 1]\n",
      " [1 1 0 1 0 1 0 1 1 1 0 1 1]]\n"
     ]
    }
   ],
   "source": [
    "print(f\"Dense representation of bag_of_words:\\n{bag_of_words.toarray()}\")"
   ]
  },
  {
   "cell_type": "markdown",
   "metadata": {},
   "source": [
    "- toarray()を用いると密なNumPy行列を確認できる\n",
    "    - ただし、これが可能なのは単語数が13しかないためで、実際のデータセットではメモリエラーになる"
   ]
  },
  {
   "cell_type": "markdown",
   "metadata": {},
   "source": [
    "映画レビューのBoW\n",
    "---"
   ]
  },
  {
   "cell_type": "code",
   "execution_count": 13,
   "metadata": {},
   "outputs": [
    {
     "name": "stdout",
     "output_type": "stream",
     "text": [
      "X_train:\n",
      "<25000x74849 sparse matrix of type '<class 'numpy.int64'>'\n",
      "\twith 3431196 stored elements in Compressed Sparse Row format>\n"
     ]
    }
   ],
   "source": [
    "vect = CountVectorizer().fit(text_train)\n",
    "X_train = vect.transform(text_train)\n",
    "print(f\"X_train:\\n{repr(X_train)}\")"
   ]
  },
  {
   "cell_type": "markdown",
   "metadata": {},
   "source": [
    "- 訓練データのBoW表現であるX_trainの行列サイズは25000 * 74849\n",
    "    - ボキャブラリは、74849の単語で構成される"
   ]
  },
  {
   "cell_type": "code",
   "execution_count": 14,
   "metadata": {},
   "outputs": [
    {
     "name": "stdout",
     "output_type": "stream",
     "text": [
      "Number of features: 74849\n",
      "First 20 features:\n",
      "['00', '000', '0000000000001', '00001', '00015', '000s', '001', '003830', '006', '007', '0079', '0080', '0083', '0093638', '00am', '00pm', '00s', '01', '01pm', '02']\n",
      "Features 20010 to 20030:\n",
      "['dratted', 'draub', 'draught', 'draughts', 'draughtswoman', 'draw', 'drawback', 'drawbacks', 'drawer', 'drawers', 'drawing', 'drawings', 'drawl', 'drawled', 'drawling', 'drawn', 'draws', 'draza', 'dre', 'drea']\n",
      "Every 2000th feature:\n",
      "['00', 'aesir', 'aquarian', 'barking', 'blustering', 'bête', 'chicanery', 'condensing', 'cunning', 'detox', 'draper', 'enshrined', 'favorit', 'freezer', 'goldman', 'hasan', 'huitieme', 'intelligible', 'kantrowitz', 'lawful', 'maars', 'megalunged', 'mostey', 'norrland', 'padilla', 'pincher', 'promisingly', 'receptionist', 'rivals', 'schnaas', 'shunning', 'sparse', 'subset', 'temptations', 'treatises', 'unproven', 'walkman', 'xylophonist']\n"
     ]
    }
   ],
   "source": [
    "feature_names = vect.get_feature_names()\n",
    "print(\"Number of features: {}\".format(len(feature_names)))\n",
    "print(\"First 20 features:\\n{}\".format(feature_names[:20]))\n",
    "print(\"Features 20010 to 20030:\\n{}\".format(feature_names[20010:20030]))\n",
    "print(\"Every 2000th feature:\\n{}\".format(feature_names[::2000]))"
   ]
  },
  {
   "cell_type": "markdown",
   "metadata": {},
   "source": [
    "- CountVectorizerのget_feature_nameを使うと個々の特徴量に対応するエントリのリストを確認できる\n",
    "- ボキャブラリの最初の10エントリはすべて数字\n",
    "    -  これらの数字はレビューのどこかで現れたので単語として抽出されている\n",
    "    -  これらの数字にはほとんど意味がない\n",
    "    - ただし、「007」は映画のタイトルを指している可能性もある\n",
    "- 「drawback」「draught」「drawer」など非常に意味的に近いものも別の単語としてカウントされている"
   ]
  },
  {
   "cell_type": "code",
   "execution_count": 15,
   "metadata": {},
   "outputs": [
    {
     "name": "stdout",
     "output_type": "stream",
     "text": [
      "Mean cross-validation accuracy: 0.88\n"
     ]
    }
   ],
   "source": [
    "from sklearn.model_selection import cross_val_score\n",
    "from sklearn.linear_model import LogisticRegression\n",
    "scores = cross_val_score(LogisticRegression(), X_train, y_train, cv=5)\n",
    "print(f\"Mean cross-validation accuracy: {np.mean(scores):.2f}\")"
   ]
  },
  {
   "cell_type": "markdown",
   "metadata": {},
   "source": [
    "- 現状のデータセットでクラス分類器を構築して、性能の定量的な指標を得ておく\n",
    "- 訓練ラベルはy_train, 訓練データのBoW表現はX_trainに格納されている\n",
    "- このような高次元の疎なデータに対しては、LogisticRegressionのような線形モデルが有効\n",
    "- 平均交差検証のスコアは88%となり、わりと平均的"
   ]
  },
  {
   "cell_type": "markdown",
   "metadata": {},
   "source": [
    "### 交差検証でパラメタチューニングを行う\n",
    "- LogisticRegressionは正則化パラメタ「C」がある"
   ]
  },
  {
   "cell_type": "code",
   "execution_count": 16,
   "metadata": {},
   "outputs": [
    {
     "name": "stdout",
     "output_type": "stream",
     "text": [
      "Best cross-validation score: 0.89\n",
      "Best parameters: {'C': 0.1}\n"
     ]
    }
   ],
   "source": [
    "from sklearn.model_selection import GridSearchCV\n",
    "param_grid = {'C': [0.001, 0.01, 0.1, 1, 10]}\n",
    "grid = GridSearchCV(LogisticRegression(), param_grid, cv=5)\n",
    "grid.fit(X_train, y_train)\n",
    "print(f\"Best cross-validation score: {grid.best_score_:.2f}\")\n",
    "print(f\"Best parameters: {grid.best_params_}\")"
   ]
  },
  {
   "cell_type": "markdown",
   "metadata": {},
   "source": [
    "- C=0.1で89%のスコアが得られた"
   ]
  },
  {
   "cell_type": "code",
   "execution_count": 17,
   "metadata": {},
   "outputs": [
    {
     "name": "stdout",
     "output_type": "stream",
     "text": [
      "0.97\n"
     ]
    }
   ],
   "source": [
    "X_test = vect.transform(text_test)\n",
    "print(f\"{grid.score(X_test, y_test):.2f}\")"
   ]
  },
  {
   "cell_type": "markdown",
   "metadata": {},
   "source": [
    "### 単語の抽出を改善\n",
    "- CountVectorizerはトークンを正規表現で抽出する\n",
    "    - デフォルトは「\"\\b\\w\\w+\\b\"」\n",
    "    - 抽出した単語はすべて`小文字`にする\n",
    "- デフォルトで使用すると数字のような情報量のない特徴量が多く得られてしまう\n",
    "- これを改善するために2つ以上の文書に登場しているトークンだけを用いるようにする\n",
    "    - 一つの文書にしか現れないトークンはテストセットにも現れないと思われるため役にたたない\n",
    "- トークンとして採用されるために現れる単語数をmin_dfパラメータで設定することができる"
   ]
  },
  {
   "cell_type": "code",
   "execution_count": 18,
   "metadata": {},
   "outputs": [
    {
     "name": "stdout",
     "output_type": "stream",
     "text": [
      "X_train with min_df: <25000x27271 sparse matrix of type '<class 'numpy.int64'>'\n",
      "\twith 3354014 stored elements in Compressed Sparse Row format>\n"
     ]
    }
   ],
   "source": [
    "vect = CountVectorizer(min_df=5).fit(text_train)\n",
    "X_train = vect.transform(text_train)\n",
    "print(\"X_train with min_df: {}\".format(repr(X_train)))"
   ]
  },
  {
   "cell_type": "markdown",
   "metadata": {},
   "source": [
    "- 5つ以上の文書に現れたものだけをトークンとすることで約1/3まで特徴量をへらすことができた"
   ]
  },
  {
   "cell_type": "code",
   "execution_count": 19,
   "metadata": {},
   "outputs": [
    {
     "name": "stdout",
     "output_type": "stream",
     "text": [
      "First 50 features:\n",
      "['00', '000', '007', '00s', '01', '02', '03', '04', '05', '06', '07', '08', '09', '10', '100', '1000', '100th', '101', '102', '103', '104', '105', '107', '108', '10s', '10th', '11', '110', '112', '116', '117', '11th', '12', '120', '12th', '13', '135', '13th', '14', '140', '14th', '15', '150', '15th', '16', '160', '1600', '16mm', '16s', '16th']\n",
      "Features 20010 to 20030:\n",
      "['repentance', 'repercussions', 'repertoire', 'repetition', 'repetitions', 'repetitious', 'repetitive', 'rephrase', 'replace', 'replaced', 'replacement', 'replaces', 'replacing', 'replay', 'replayable', 'replayed', 'replaying', 'replays', 'replete', 'replica']\n",
      "Every 700th feature:\n",
      "['00', 'affections', 'appropriately', 'barbra', 'blurbs', 'butchered', 'cheese', 'commitment', 'courts', 'deconstructed', 'disgraceful', 'dvds', 'eschews', 'fell', 'freezer', 'goriest', 'hauser', 'hungary', 'insinuate', 'juggle', 'leering', 'maelstrom', 'messiah', 'music', 'occasional', 'parking', 'pleasantville', 'pronunciation', 'recipient', 'reviews', 'sas', 'shea', 'sneers', 'steiger', 'swastika', 'thrusting', 'tvs', 'vampyre', 'westerns']\n"
     ]
    }
   ],
   "source": [
    "feature_names = vect.get_feature_names()\n",
    "print(\"First 50 features:\\n{}\".format(feature_names[:50]))\n",
    "print(\"Features 20010 to 20030:\\n{}\".format(feature_names[20010:20030]))\n",
    "print(\"Every 700th feature:\\n{}\".format(feature_names[::700]))"
   ]
  },
  {
   "cell_type": "code",
   "execution_count": 20,
   "metadata": {},
   "outputs": [
    {
     "name": "stdout",
     "output_type": "stream",
     "text": [
      "Best cross-validation score: 0.89\n"
     ]
    }
   ],
   "source": [
    "grid = GridSearchCV(LogisticRegression(), param_grid, cv=5)\n",
    "grid.fit(X_train, y_train)\n",
    "print(\"Best cross-validation score: {:.2f}\".format(grid.best_score_))"
   ]
  },
  {
   "cell_type": "markdown",
   "metadata": {},
   "source": [
    "- 検証精度は89%で変わっていない\n",
    "- ただし、特徴量の数が減ることで処理が高速になり、不要な特徴量が減ることでモデルの理解がしやすくなる"
   ]
  },
  {
   "cell_type": "markdown",
   "metadata": {},
   "source": [
    "ストップワード\n",
    "---\n",
    "- 役にたたない単語を取り除くもう一つの方法として、あまりに頻出するため役にたたないワードを捨てる方法がある\n",
    "- 主に2つの手法があり、一つは、言語固有のストップワードリストを作っておく方法。もう一つは頻度の高い単語を捨てる方法\n",
    "- scikit-learnは英語のストップワードリストを「feature_extracition.text」モジュールに用意している"
   ]
  },
  {
   "cell_type": "code",
   "execution_count": 21,
   "metadata": {},
   "outputs": [
    {
     "name": "stdout",
     "output_type": "stream",
     "text": [
      "Number of stop words: 318\n",
      "Every 10th stopword: ['myself', 'otherwise', 'see', 'five', 'out', 'take', 'the', 'eight', 'whenever', 'somewhere', 'he', 'thereupon', 'fire', 'less', 'besides', 'everyone', 'am', 'is', 'least', 'whence', 'ltd', 'nowhere', 're', 'nine', 'too', 'ever', 'get', 'never', 'amount', 'please', 'rather', 'either']\n"
     ]
    }
   ],
   "source": [
    "from sklearn.feature_extraction.text import ENGLISH_STOP_WORDS\n",
    "print(f\"Number of stop words: {len(ENGLISH_STOP_WORDS)}\")\n",
    "print(f\"Every 10th stopword: {list(ENGLISH_STOP_WORDS)[::10]}\")"
   ]
  },
  {
   "cell_type": "markdown",
   "metadata": {},
   "source": [
    "- リスト中のストップワードを取り除いても特徴量の数がリストの長さ(ここでは318)だけ減るだけだが、性能は向上する可能性がある"
   ]
  },
  {
   "cell_type": "code",
   "execution_count": 22,
   "metadata": {},
   "outputs": [
    {
     "name": "stdout",
     "output_type": "stream",
     "text": [
      "X_train with stop words:\n",
      "<25000x26966 sparse matrix of type '<class 'numpy.int64'>'\n",
      "\twith 2149958 stored elements in Compressed Sparse Row format>\n"
     ]
    }
   ],
   "source": [
    "# stop_word=\"english\"を指定すると、組み込みのストップワードリストを用いる\n",
    "# ストップワードリストに単語を追加したり、独自のものを使うこともできる\n",
    "vect = CountVectorizer(min_df=5, stop_words=\"english\").fit(text_train)\n",
    "X_train = vect.transform(text_train)\n",
    "print(\"X_train with stop words:\\n{}\".format(repr(X_train)))"
   ]
  },
  {
   "cell_type": "code",
   "execution_count": 23,
   "metadata": {},
   "outputs": [
    {
     "name": "stdout",
     "output_type": "stream",
     "text": [
      "Best cross-validation score: 0.88\n"
     ]
    }
   ],
   "source": [
    "grid = GridSearchCV(LogisticRegression(), param_grid, cv=5)\n",
    "grid.fit(X_train, y_train)\n",
    "print(\"Best cross-validation score: {:.2f}\".format(grid.best_score_))"
   ]
  },
  {
   "cell_type": "markdown",
   "metadata": {},
   "source": [
    "- ストップワードを使うことで性能は少し低下している"
   ]
  },
  {
   "cell_type": "markdown",
   "metadata": {},
   "source": [
    "tf-idfを用いたデータスケール変換\n",
    "---\n",
    "- 重要でなさそうな特徴量を落とすのではなく、特徴量がどの程度情報を持っていそうかに応じて、特徴量のスケールを変換する方法がある\n",
    "- 最も一般的な手法を、「tf-idf(term frequency inverse document frequency)\n",
    "- 特定の文書にだけ頻繁に現れる単語に大きな重みを与え、コーパス中の多数の文書に現れる単語にはあまり重みを与えない\n",
    "    - 特定の文書にだけ現れて、他の文書には現れない単語はその文書の内容をよく示しているのではないか？という発想\n",
    "- scikit-learnでは「TfidfTransformer」と「TfidfVevtorizer」というクラスで実装している\n",
    "    - TfidfTransformerはCountVectorizerの生成する疎行列を入力とする\n",
    "    - TfidfVectorizerはテキストデータを入力として、BoW特徴量抽出とtf-idf変換を行う\n",
    "    \n",
    "- 単語wのtf-ifdスコアは以下になる  \n",
    "$$\n",
    "tfidf(w, d) = tf(log(\\frac{N+1}{Nw+1}) +1 )\n",
    "$$\n",
    "\n",
    "- Nは訓練セット中の文書の数\n",
    "- Nwは訓練セット中のwが現れる文書の数\n",
    "- tfは対象の文書d中にwが現れる回数"
   ]
  },
  {
   "cell_type": "code",
   "execution_count": 24,
   "metadata": {},
   "outputs": [
    {
     "name": "stdout",
     "output_type": "stream",
     "text": [
      "Best cross-validation score: 0.89\n"
     ]
    }
   ],
   "source": [
    "from sklearn.feature_extraction.text import TfidfVectorizer\n",
    "from sklearn.pipeline import make_pipeline\n",
    "pipe = make_pipeline(TfidfVectorizer(min_df=5, norm=None),  LogisticRegression())\n",
    "param_grid = {'logisticregression__C': [0.001, 0.01, 0.1, 1, 10]}\n",
    "grid = GridSearchCV(pipe, param_grid, cv=5)\n",
    "grid.fit(text_train, y_train)\n",
    "print(\"Best cross-validation score: {:.2f}\".format(grid.best_score_))"
   ]
  },
  {
   "cell_type": "markdown",
   "metadata": {},
   "source": [
    "- この場合はtf-idf変換を行っても性能は向上していないが、tf-idfを用いると性能は少し良くなる\n",
    "- tf-idfによるスケール変換は、文書を区別するためのものだが、純粋に教師なしの手法である\n",
    "    - このため、ここでの重要さは本来の興味対象である「肯定的なレビュー」「否定的なレビュー」のラベルには直接関係しない    "
   ]
  },
  {
   "cell_type": "code",
   "execution_count": 25,
   "metadata": {},
   "outputs": [
    {
     "name": "stdout",
     "output_type": "stream",
     "text": [
      "Features with lowest tfidf:\n",
      "['poignant' 'disagree' 'instantly' 'importantly' 'lacked' 'occurred'\n",
      " 'currently' 'altogether' 'nearby' 'undoubtedly' 'directs' 'fond'\n",
      " 'stinker' 'avoided' 'emphasis' 'commented' 'disappoint' 'realizing'\n",
      " 'downhill' 'inane']\n",
      "Features with highest tfidf:\n",
      "['poignant' 'disagree' 'instantly' ... 'dev' 'kornbluth' 'roy']\n"
     ]
    }
   ],
   "source": [
    "vectorizer = grid.best_estimator_.named_steps[\"tfidfvectorizer\"]\n",
    "# 訓練データセットを変換\n",
    "X_train = vectorizer.transform(text_train)\n",
    "# それぞれの特徴量のデータセット中での最大値を見つける\n",
    "max_value = X_train.max(axis=0).toarray().ravel()\n",
    "sorted_byidf = max_value.argsort()\n",
    "# 特徴量名を取得\n",
    "feature_names = np.array(vectorizer.get_feature_names())\n",
    "\n",
    "print(\"Features with lowest tfidf:\\n{}\".format(feature_names[sorted_byidf[:20]]))\n",
    "print(\"Features with highest tfidf:\\n{}\".format(feature_names[sorted_byidf[:-20]]))"
   ]
  },
  {
   "cell_type": "markdown",
   "metadata": {},
   "source": [
    "- tf-idfが低い特徴量は多くの文書に共通して出現するか、あまり出現しないか、もしくは非常に長い文書にしか出現しないかである"
   ]
  },
  {
   "cell_type": "code",
   "execution_count": 26,
   "metadata": {},
   "outputs": [
    {
     "name": "stdout",
     "output_type": "stream",
     "text": [
      "Fearures with lowest idf:\n",
      "['the' 'and' 'of' 'to' 'this' 'is' 'it' 'in' 'that' 'but' 'for' 'with'\n",
      " 'was' 'as' 'on' 'movie' 'not' 'have' 'one' 'be' 'film' 'are' 'you' 'all'\n",
      " 'at' 'an' 'by' 'so' 'from' 'like' 'who' 'they' 'there' 'if' 'his' 'out'\n",
      " 'just' 'about' 'he' 'or' 'has' 'what' 'some' 'good' 'can' 'more' 'when'\n",
      " 'time' 'up' 'very' 'even' 'only' 'no' 'would' 'my' 'see' 'really' 'story'\n",
      " 'which' 'well' 'had' 'me' 'than' 'much' 'their' 'get' 'were' 'other'\n",
      " 'been' 'do' 'most' 'don' 'her' 'also' 'into' 'first' 'made' 'how' 'great'\n",
      " 'because' 'will' 'people' 'make' 'way' 'could' 'we' 'bad' 'after' 'any'\n",
      " 'too' 'then' 'them' 'she' 'watch' 'think' 'acting' 'movies' 'seen' 'its'\n",
      " 'him']\n"
     ]
    }
   ],
   "source": [
    "sorted_by_idf = np.argsort(vectorizer.idf_)\n",
    "print(\"Fearures with lowest idf:\\n{}\".format(feature_names[sorted_by_idf[:100]]))"
   ]
  },
  {
   "cell_type": "markdown",
   "metadata": {},
   "source": [
    "- 文書頻度の逆数(inverse document frequency: idf)が小さい単語を見つけることもできる\n",
    "- 訓練セットに対する文書頻度の逆数は「idf_」属性に格納されている\n",
    "- これらのほとんどは英語のストップワードである"
   ]
  },
  {
   "cell_type": "markdown",
   "metadata": {},
   "source": [
    "モデル係数の調査\n",
    "---"
   ]
  },
  {
   "cell_type": "code",
   "execution_count": 27,
   "metadata": {},
   "outputs": [
    {
     "data": {
      "image/png": "[encoded data removed]",
      "text/plain": [
       "<matplotlib.figure.Figure at 0x1158b23c8>"
      ]
     },
     "metadata": {},
     "output_type": "display_data"
    }
   ],
   "source": [
    "mglearn.tools.visualize_coefficients(\n",
    "      grid.best_estimator_.named_steps[\"logisticregression\"].coef_,\n",
    "      feature_names, n_top_features=40)"
   ]
  },
  {
   "cell_type": "markdown",
   "metadata": {},
   "source": [
    "- 左側の負の係数は、モデルによれば否定的なレビューを示している単語に、右側の正の係数は、モデルによれば肯定的なレビューを示している単語に対応する\n",
    "- ほとんどの単語は直感的に理解できる"
   ]
  },
  {
   "cell_type": "markdown",
   "metadata": {},
   "source": [
    "# 1単語よりも大きい単位のBag-of-Words(n-グラム)\n",
    "- Bow表現の問題は単語の順番が完全に失われることである\n",
    "    - 「it's bad, not good at all」と「it's good , not bad at all」の区別がつかない\n",
    "- BoWを用いてコンテクストを捉える方法として、テキストに現れる単一のトークンだけを考えるのではなく、2つもしくは3つの連続するトークンの列を考える手法がある\n",
    "- 2つのトークンを「バイグラム」、3つのトークンを「トリグラム」と呼ぶ\n",
    "    - 一般的にトークンの列をn-グラムと呼ぶ\n",
    "- 特徴量と考えるトークン列の長さを変更するにはCountVectorizerやTfidfVectorizerのngram_rangeパラメータを設定する\n",
    "    - パラメータはタプルで特徴量とするトークン列の長さの最小長と最大長を指定する"
   ]
  },
  {
   "cell_type": "code",
   "execution_count": 28,
   "metadata": {},
   "outputs": [
    {
     "name": "stdout",
     "output_type": "stream",
     "text": [
      "bards_words:\n",
      "['The fool doth think he is wise,', 'but the wise man knows himself to be a fool']\n"
     ]
    }
   ],
   "source": [
    "print(\"bards_words:\\n{}\".format(bards_words))"
   ]
  },
  {
   "cell_type": "code",
   "execution_count": 29,
   "metadata": {},
   "outputs": [
    {
     "name": "stdout",
     "output_type": "stream",
     "text": [
      "Vocabulary size: 13\n",
      "Vocabulary : \n",
      "['be', 'but', 'doth', 'fool', 'he', 'himself', 'is', 'knows', 'man', 'the', 'think', 'to', 'wise']\n"
     ]
    }
   ],
   "source": [
    "cv = CountVectorizer(ngram_range=(1, 1)).fit(bards_words)\n",
    "print(\"Vocabulary size: {}\".format(len(cv.vocabulary_)))\n",
    "print(\"Vocabulary : \\n{}\".format(cv.get_feature_names()))"
   ]
  },
  {
   "cell_type": "markdown",
   "metadata": {},
   "source": [
    "- デフォルトでは特徴量とするトークン列の長さは最小:1 最大:1となっている(ユニグラム)"
   ]
  },
  {
   "cell_type": "code",
   "execution_count": 30,
   "metadata": {},
   "outputs": [
    {
     "name": "stdout",
     "output_type": "stream",
     "text": [
      "Vocabulary size: 14\n",
      "Vocabulary : \n",
      "['be fool', 'but the', 'doth think', 'fool doth', 'he is', 'himself to', 'is wise', 'knows himself', 'man knows', 'the fool', 'the wise', 'think he', 'to be', 'wise man']\n"
     ]
    }
   ],
   "source": [
    "cv = CountVectorizer(ngram_range=(2, 2)).fit(bards_words)\n",
    "print(\"Vocabulary size: {}\".format(len(cv.vocabulary_)))\n",
    "print(\"Vocabulary : \\n{}\".format(cv.get_feature_names()))"
   ]
  },
  {
   "cell_type": "markdown",
   "metadata": {
    "collapsed": true
   },
   "source": [
    "- 対象とするトークン列の長さを長くすると特徴量の数が増大し、決定的な特徴量となる"
   ]
  },
  {
   "cell_type": "code",
   "execution_count": 32,
   "metadata": {},
   "outputs": [
    {
     "name": "stdout",
     "output_type": "stream",
     "text": [
      "Transformed data(dense:)\n",
      "[[0 0 1 1 1 0 1 0 0 1 0 1 0 0]\n",
      " [1 1 0 0 0 1 0 1 1 0 1 0 1 1]]\n"
     ]
    }
   ],
   "source": [
    "print(\"Transformed data(dense:)\\n{}\".format(cv.transform(bards_words).toarray()))"
   ]
  },
  {
   "cell_type": "markdown",
   "metadata": {},
   "source": [
    "- 基本的にはトークン列の最小長は1にしたほうがよい。１つの単語だけでも相当な意味をもつことがおおいため\n",
    "- 5グラムぐらいまでは性能向上につながる可能性があるが、特徴量の数が爆発する上に、決定的な特徴量が増えるために過剰適合の可能性も高くなる"
   ]
  },
  {
   "cell_type": "code",
   "execution_count": 33,
   "metadata": {},
   "outputs": [
    {
     "name": "stdout",
     "output_type": "stream",
     "text": [
      "Vocabulary size: 39\n",
      "Vocabulary : \n",
      "['be', 'be fool', 'but', 'but the', 'but the wise', 'doth', 'doth think', 'doth think he', 'fool', 'fool doth', 'fool doth think', 'he', 'he is', 'he is wise', 'himself', 'himself to', 'himself to be', 'is', 'is wise', 'knows', 'knows himself', 'knows himself to', 'man', 'man knows', 'man knows himself', 'the', 'the fool', 'the fool doth', 'the wise', 'the wise man', 'think', 'think he', 'think he is', 'to', 'to be', 'to be fool', 'wise', 'wise man', 'wise man knows']\n"
     ]
    }
   ],
   "source": [
    "cv = CountVectorizer(ngram_range=(1, 3)).fit(bards_words)\n",
    "print(\"Vocabulary size: {}\".format(len(cv.vocabulary_)))\n",
    "print(\"Vocabulary : \\n{}\".format(cv.get_feature_names()))"
   ]
  },
  {
   "cell_type": "code",
   "execution_count": 35,
   "metadata": {},
   "outputs": [
    {
     "name": "stdout",
     "output_type": "stream",
     "text": [
      "Best cross-validation score: 0.91\n",
      "Best parameters: \n",
      "{'logisticregression__C': 100, 'tfidfvectorizer__ngram_range': (1, 3)}\n"
     ]
    }
   ],
   "source": [
    "pipe = make_pipeline(TfidfVectorizer(min_df=5), LogisticRegression())\n",
    "# グリッドが比較的大きい上、トリグラムが含まれているため、このグリッドサーチは時間がかかる\n",
    "pram_grid = {\n",
    "    \"logisticregression__C\": [0.001, 0.01, 0.1, 1, 10, 100],\n",
    "    \"tfidfvectorizer__ngram_range\": [(1, 1), (1, 2), (1, 3)]\n",
    "            }\n",
    "grid = GridSearchCV(pipe, pram_grid, cv=5)\n",
    "grid.fit(text_train, y_train)\n",
    "print(\"Best cross-validation score: {:.2f}\".format(grid.best_score_))\n",
    "print(\"Best parameters: \\n{}\".format(grid.best_params_))\n"
   ]
  },
  {
   "cell_type": "markdown",
   "metadata": {},
   "source": [
    "- バイグラム特徴量とトリグラム特徴量を加えることで1%以上性能が向上している"
   ]
  },
  {
   "cell_type": "code",
   "execution_count": 44,
   "metadata": {},
   "outputs": [
    {
     "ename": "KeyError",
     "evalue": "'tfidfvectorizer__ngram_range'",
     "output_type": "error",
     "traceback": [
      "\u001b[0;31m---------------------------------------------------------------------------\u001b[0m",
      "\u001b[0;31mKeyError\u001b[0m                                  Traceback (most recent call last)",
      "\u001b[0;32m<ipython-input-44-83c3f2e98529>\u001b[0m in \u001b[0;36m<module>\u001b[0;34m()\u001b[0m\n\u001b[1;32m      7\u001b[0m                                 \u001b[0mfmt\u001b[0m\u001b[0;34m=\u001b[0m\u001b[0;34m\"%.3f\"\u001b[0m\u001b[0;34m,\u001b[0m\u001b[0;34m\u001b[0m\u001b[0m\n\u001b[1;32m      8\u001b[0m                                 \u001b[0mxticklabels\u001b[0m\u001b[0;34m=\u001b[0m\u001b[0mparam_grid\u001b[0m\u001b[0;34m[\u001b[0m\u001b[0;34m'logisticregression__C'\u001b[0m\u001b[0;34m]\u001b[0m\u001b[0;34m,\u001b[0m\u001b[0;34m\u001b[0m\u001b[0m\n\u001b[0;32m----> 9\u001b[0;31m                                 yticklabels=param_grid['tfidfvectorizer__ngram_range'])\n\u001b[0m\u001b[1;32m     10\u001b[0m \u001b[0mplt\u001b[0m\u001b[0;34m.\u001b[0m\u001b[0mcolorbar\u001b[0m\u001b[0;34m(\u001b[0m\u001b[0mheatmap\u001b[0m\u001b[0;34m)\u001b[0m\u001b[0;34m\u001b[0m\u001b[0m\n",
      "\u001b[0;31mKeyError\u001b[0m: 'tfidfvectorizer__ngram_range'"
     ]
    }
   ],
   "source": [
    "# グリッドサーチのスコアを取り出す\n",
    "scores = grid.cv_results_['mean_test_score'].reshape(-1, 3).T # ヒートマップとして可視化\n",
    "heatmap = mglearn.tools.heatmap(scores,\n",
    "                                xlabel=\"C\", \n",
    "                                ylabel=\"ngram_range\",\n",
    "                                cmap=\"viridis\",\n",
    "                                fmt=\"%.3f\",\n",
    "                                xticklabels=param_grid['logisticregression__C'],\n",
    "                                yticklabels=param_grid['tfidfvectorizer__ngram_range'])\n",
    "plt.colorbar(heatmap)"
   ]
  },
  {
   "cell_type": "markdown",
   "metadata": {},
   "source": [
    "- ヒートマップから、バイグラムを追加することで性能はかなり向上するが、トリグラムを追加しても精度はわずかしか向上しないことがわかる"
   ]
  },
  {
   "cell_type": "code",
   "execution_count": 40,
   "metadata": {},
   "outputs": [
    {
     "data": {
      "image/png": "[encoded data removed]",
      "text/plain": [
       "<matplotlib.figure.Figure at 0x11bed7a90>"
      ]
     },
     "metadata": {},
     "output_type": "display_data"
    }
   ],
   "source": [
    "vect = grid.best_estimator_.named_steps['tfidfvectorizer']\n",
    "feature_names = np.array(vect.get_feature_names())\n",
    "coef = grid.best_estimator_.named_steps['logisticregression'].coef_\n",
    "mglearn.tools.visualize_coefficients(coef, feature_names, n_top_features=40)"
   ]
  },
  {
   "cell_type": "markdown",
   "metadata": {},
   "source": [
    "- tf-idfスケールを用いて、ユニグラム、バイグラム、トリグラムを用いたときの最も重要な特徴量\n",
    "- 「worth」とう単語はユニグラムモデルでは出ていなかったが、「definitely worth」や「well worth」などが登場している"
   ]
  },
  {
   "cell_type": "code",
   "execution_count": 41,
   "metadata": {},
   "outputs": [
    {
     "data": {
      "image/png": "[encoded data removed]",
      "text/plain": [
       "<matplotlib.figure.Figure at 0x13b9b0d68>"
      ]
     },
     "metadata": {},
     "output_type": "display_data"
    }
   ],
   "source": [
    "# トリグラムの特徴量を見つける\n",
    "mask = np.array([len(feature.split(\" \")) for feature in feature_names]) == 3\n",
    "# トリグラム特徴量だけを可視化\n",
    "mglearn.tools.visualize_coefficients(coef.ravel()[mask], feature_names[mask], n_top_features=40)"
   ]
  },
  {
   "cell_type": "markdown",
   "metadata": {},
   "source": [
    "# 語幹処理、見出し語化\n",
    "- ボキャブラリに\"drawback\"と\"drawbacks\"、\"drawer\"と\"drawers\"、\"drawing\"のように同じ単語の単数形と複数形が含まれるケースがある\n",
    "- また\"replace\"、\"replaced\"、\"replacement\"、\"replaces\"、\"replacing\"など動詞の変化形が含まれることもある\n",
    "- 上記のような問題は個々の単語を「語幹(word stem)」として表現することで解決できる\n",
    "- 単語の末尾につく特定の形を取り除くといったようなルールベースのヒューリスティックで行う場合にはこれを「語幹処理(stemming)」と呼ぶ\n",
    "- 知られている単語に対して、辞書を用いて、単語の文章での役割を考慮して行う場合には「見出し語化(lemmatization)」と呼び単語の標準的な形を「見出し語(lemma)」と呼ぶ\n",
    "- 語幹処理、見出し語かはいずれも単語の正規形を取り出そうとする「正規化(normalization)」である\n",
    "- 語幹処理はnltkパッケージ\n",
    "- 見出し語かにはspacyパッケージを用いる"
   ]
  },
  {
   "cell_type": "code",
   "execution_count": 53,
   "metadata": {},
   "outputs": [
    {
     "name": "stdout",
     "output_type": "stream",
     "text": [
      "Collecting spacy\n",
      "Collecting murmurhash<0.29,>=0.28 (from spacy)\n",
      "Collecting numpy>=1.7 (from spacy)\n",
      "  Using cached https://files.pythonhosted.org/packages/a6/0a/2defbdd9bd3a436ee0642bb8d8a66d16e523122d33384a04548dcfab23ba/numpy-1.15.1-cp36-cp36m-macosx_10_6_intel.macosx_10_9_intel.macosx_10_9_x86_64.macosx_10_10_intel.macosx_10_10_x86_64.whl\n",
      "Collecting requests<3.0.0,>=2.13.0 (from spacy)\n",
      "  Using cached https://files.pythonhosted.org/packages/65/47/7e02164a2a3db50ed6d8a6ab1d6d60b69c4c3fdf57a284257925dfc12bda/requests-2.19.1-py2.py3-none-any.whl\n",
      "Collecting ujson>=1.35 (from spacy)\n",
      "Collecting regex==2017.4.5 (from spacy)\n",
      "Collecting dill<0.3,>=0.2 (from spacy)\n",
      "Collecting thinc<6.11.0,>=6.10.3 (from spacy)\n",
      "Collecting plac<1.0.0,>=0.9.6 (from spacy)\n",
      "  Using cached https://files.pythonhosted.org/packages/9e/9b/62c60d2f5bc135d2aa1d8c8a86aaf84edb719a59c7f11a4316259e61a298/plac-0.9.6-py2.py3-none-any.whl\n",
      "Collecting pathlib==1.0.1 (from spacy)\n",
      "Collecting cymem<1.32,>=1.30 (from spacy)\n",
      "Collecting preshed<2.0.0,>=1.0.0 (from spacy)\n",
      "Collecting certifi>=2017.4.17 (from requests<3.0.0,>=2.13.0->spacy)\n",
      "  Using cached https://files.pythonhosted.org/packages/df/f7/04fee6ac349e915b82171f8e23cee63644d83663b34c539f7a09aed18f9e/certifi-2018.8.24-py2.py3-none-any.whl\n",
      "Collecting urllib3<1.24,>=1.21.1 (from requests<3.0.0,>=2.13.0->spacy)\n",
      "  Using cached https://files.pythonhosted.org/packages/bd/c9/6fdd990019071a4a32a5e7cb78a1d92c53851ef4f56f62a3486e6a7d8ffb/urllib3-1.23-py2.py3-none-any.whl\n",
      "Collecting chardet<3.1.0,>=3.0.2 (from requests<3.0.0,>=2.13.0->spacy)\n",
      "  Using cached https://files.pythonhosted.org/packages/bc/a9/01ffebfb562e4274b6487b4bb1ddec7ca55ec7510b22e4c51f14098443b8/chardet-3.0.4-py2.py3-none-any.whl\n",
      "Collecting idna<2.8,>=2.5 (from requests<3.0.0,>=2.13.0->spacy)\n",
      "  Using cached https://files.pythonhosted.org/packages/4b/2a/0276479a4b3caeb8a8c1af2f8e4355746a97fab05a372e4a2c6a6b876165/idna-2.7-py2.py3-none-any.whl\n",
      "Collecting six<2.0.0,>=1.10.0 (from thinc<6.11.0,>=6.10.3->spacy)\n",
      "  Using cached https://files.pythonhosted.org/packages/67/4b/141a581104b1f6397bfa78ac9d43d8ad29a7ca43ea90a2d863fe3056e86a/six-1.11.0-py2.py3-none-any.whl\n",
      "Collecting msgpack<1.0.0,>=0.5.6 (from thinc<6.11.0,>=6.10.3->spacy)\n",
      "Collecting msgpack-numpy<1.0.0,>=0.4.1 (from thinc<6.11.0,>=6.10.3->spacy)\n",
      "  Using cached https://files.pythonhosted.org/packages/ad/45/464be6da85b5ca893cfcbd5de3b31a6710f636ccb8521b17bd4110a08d94/msgpack_numpy-0.4.3.2-py2.py3-none-any.whl\n",
      "Collecting wrapt<1.11.0,>=1.10.0 (from thinc<6.11.0,>=6.10.3->spacy)\n",
      "Collecting tqdm<5.0.0,>=4.10.0 (from thinc<6.11.0,>=6.10.3->spacy)\n",
      "  Using cached https://files.pythonhosted.org/packages/79/43/19c9fee28110cd47f73e6bc596394337fe9f3e5825b4de402bbf30b3beb5/tqdm-4.26.0-py2.py3-none-any.whl\n",
      "Collecting cytoolz<0.10,>=0.9.0 (from thinc<6.11.0,>=6.10.3->spacy)\n",
      "Collecting toolz>=0.8.0 (from cytoolz<0.10,>=0.9.0->thinc<6.11.0,>=6.10.3->spacy)\n",
      "Installing collected packages: murmurhash, numpy, certifi, urllib3, chardet, idna, requests, ujson, regex, dill, six, msgpack, msgpack-numpy, wrapt, cymem, plac, pathlib, tqdm, toolz, cytoolz, preshed, thinc, spacy\n",
      "Successfully installed certifi-2018.8.24 chardet-3.0.4 cymem-1.31.2 cytoolz-0.9.0.1 dill-0.2.8.2 idna-2.7 msgpack-0.5.6 msgpack-numpy-0.4.3.2 murmurhash-0.28.0 numpy-1.15.1 pathlib-1.0.1 plac-0.9.6 preshed-1.0.1 regex-2017.4.5 requests-2.19.1 six-1.11.0 spacy-2.0.12 thinc-6.10.3 toolz-0.9.0 tqdm-4.26.0 ujson-1.35 urllib3-1.23 wrapt-1.10.11\n"
     ]
    },
    {
     "ename": "ModuleNotFoundError",
     "evalue": "No module named 'spacy'",
     "output_type": "error",
     "traceback": [
      "\u001b[0;31m---------------------------------------------------------------------------\u001b[0m",
      "\u001b[0;31mModuleNotFoundError\u001b[0m                       Traceback (most recent call last)",
      "\u001b[0;32m<ipython-input-53-b0b1cd10e5a3>\u001b[0m in \u001b[0;36m<module>\u001b[0;34m()\u001b[0m\n\u001b[1;32m      1\u001b[0m \u001b[0mget_ipython\u001b[0m\u001b[0;34m(\u001b[0m\u001b[0;34m)\u001b[0m\u001b[0;34m.\u001b[0m\u001b[0msystem\u001b[0m\u001b[0;34m(\u001b[0m\u001b[0;34m'pip install spacy --ignore-installed --user'\u001b[0m\u001b[0;34m)\u001b[0m\u001b[0;34m\u001b[0m\u001b[0m\n\u001b[0;32m----> 2\u001b[0;31m \u001b[0;32mimport\u001b[0m \u001b[0mspacy\u001b[0m\u001b[0;34m\u001b[0m\u001b[0m\n\u001b[0m\u001b[1;32m      3\u001b[0m \u001b[0;32mimport\u001b[0m \u001b[0mnltk\u001b[0m\u001b[0;34m\u001b[0m\u001b[0m\n\u001b[1;32m      4\u001b[0m \u001b[0;34m\u001b[0m\u001b[0m\n\u001b[1;32m      5\u001b[0m \u001b[0;31m# spacyの英語モデルをロード\u001b[0m\u001b[0;34m\u001b[0m\u001b[0;34m\u001b[0m\u001b[0m\n",
      "\u001b[0;31mModuleNotFoundError\u001b[0m: No module named 'spacy'"
     ]
    }
   ],
   "source": [
    "!pip install spacy --ignore-installed --user\n",
    "import spacy\n",
    "import nltk\n",
    "\n",
    "# spacyの英語モデルをロード\n",
    "en_nlp = spacy.load('en')\n",
    "# nltkのPorter stemmerのインスタンスを作成\n",
    "stemmer = nltk.stem.PorterStemmer()\n",
    "\n",
    "# spacyによる見出し語化とnltkによる語幹処理を比較する関数\n",
    "def compare_normalization(doc):\n",
    "    # spacyで文書をトークン分割\n",
    "    doc_spacy = en_nlp(doc)\n",
    "    # spacyで見つけた見出し語を表示\n",
    "    print(\"Lemmatization:\")\n",
    "    print([token.lemma_ for token in doc_spacy])\n",
    "    # Porter stemmerで見つけたトークンを表示\n",
    "    print(\"Stemming:\")\n",
    "    print([stemmer.stem(token.norm_.lower()) for token in doc_spacy])"
   ]
  },
  {
   "cell_type": "markdown",
   "metadata": {},
   "source": [
    "# トピックモデリングと文書クラスタリング\n",
    "- トピックモデリング(topic modeling)とは、通常は教師なし学習でそれぞれの文書に対して1つ以上のトピックを割り当てるタスクをまとめて呼ぶ言葉\n",
    "- 多くの場合、トピックモデリングというと「LDA(Latent Direchlet Allocation)」と呼ばれる特定の成分分析手法を指す"
   ]
  },
  {
   "cell_type": "markdown",
   "metadata": {},
   "source": [
    "### LDA(Latent Dirichlet Allocation)\n",
    "- 直感的に説明すると同時に現れる頻度の高い単語の集合(トピック)を探す\n",
    "- 機械学習モデルのトピックは、PCAやNMFの成分に近く、解釈できる意味を持つかもしれないが、持たないかもしれない\n"
   ]
  },
  {
   "cell_type": "code",
   "execution_count": 55,
   "metadata": {
    "collapsed": true
   },
   "outputs": [],
   "source": [
    "vect = CountVectorizer(max_features=10000, max_df=.15)\n",
    "X = vect.fit_transform(text_train)"
   ]
  },
  {
   "cell_type": "code",
   "execution_count": 57,
   "metadata": {},
   "outputs": [],
   "source": [
    "from sklearn.decomposition import LatentDirichletAllocation\n",
    "lda = LatentDirichletAllocation(n_components=10, learning_method=\"batch\",\n",
    "                                max_iter=25, random_state=0)\n",
    "# ここではモデルの構築と変換を一度に行う\n",
    "# 変換には時間がかかるが同時に行うことで時間を節約できる\n",
    "document_topics = lda.fit_transform(X)"
   ]
  },
  {
   "cell_type": "code",
   "execution_count": null,
   "metadata": {
    "collapsed": true
   },
   "outputs": [],
   "source": [
    "lda.components_nts_.shape"
   ]
  },
  {
   "cell_type": "markdown",
   "metadata": {},
   "source": [
    "- それぞれの単語のそのトピックに対する重要性を格納した`components_`属性がある"
   ]
  },
  {
   "cell_type": "code",
   "execution_count": null,
   "metadata": {
    "collapsed": true
   },
   "outputs": [],
   "source": [
    "#　それぞれのトピック(components_の行)に対して特徴量を昇順でソート\n",
    "# ソートを降順にするために[:, ::-1]で行を反転\n",
    "sorting = np.argsort(lda.components_ponents_, axis=1)[:, ::-1]\n",
    "# vecorizerから特徴量名を取得\n",
    "feature_names = np.array(vect.get_feature_names())"
   ]
  },
  {
   "cell_type": "code",
   "execution_count": null,
   "metadata": {
    "collapsed": true
   },
   "outputs": [],
   "source": [
    "# 最初の10トピックを表示\n",
    "mglearn.tools.print_topics(topics=range(10), feature_names=feature_names,\n",
    "                          sorting=sorting, topics_per_chunk=5, n_words=10)"
   ]
  }
 ],
 "metadata": {
  "kernelspec": {
   "display_name": "Python 3",
   "language": "python",
   "name": "python3"
  },
  "language_info": {
   "codemirror_mode": {
    "name": "ipython",
    "version": 3
   },
   "file_extension": ".py",
   "mimetype": "text/x-python",
   "name": "python",
   "nbconvert_exporter": "python",
   "pygments_lexer": "ipython3",
   "version": "3.6.0"
  }
 },
 "nbformat": 4,
 "nbformat_minor": 2
}
