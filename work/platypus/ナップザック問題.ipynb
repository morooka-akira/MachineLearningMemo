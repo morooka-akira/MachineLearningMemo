{
 "cells": [
  {
   "cell_type": "markdown",
   "metadata": {},
   "source": [
    "目的\n",
    "---\n",
    "ナップザック問題をカスタムクラスを使って解いてみる"
   ]
  },
  {
   "cell_type": "markdown",
   "metadata": {},
   "source": [
    "参考\n",
    "---\n",
    "- https://prog.suke-blog.jp/entry/2018/06/30/170549\n",
    "- https://prog.suke-blog.jp/entry/2018/08/27/170537"
   ]
  },
  {
   "cell_type": "code",
   "execution_count": 13,
   "metadata": {},
   "outputs": [],
   "source": [
    "from platypus import NSGAII, Type, Problem,Constraint, Binary, nondominated, unique\n",
    "import pandas as pd\n",
    "import random"
   ]
  },
  {
   "cell_type": "markdown",
   "metadata": {},
   "source": [
    "# 決定変数(Type)の定義\n",
    "\n",
    "- 決定変数はTypeを継承することで独自定義する\n",
    "- (サンプルで使われるRealもTypeを継承したクラス)"
   ]
  },
  {
   "cell_type": "code",
   "execution_count": 14,
   "metadata": {},
   "outputs": [
    {
     "data": {
      "text/html": [
       "<div>\n",
       "<style scoped>\n",
       "    .dataframe tbody tr th:only-of-type {\n",
       "        vertical-align: middle;\n",
       "    }\n",
       "\n",
       "    .dataframe tbody tr th {\n",
       "        vertical-align: top;\n",
       "    }\n",
       "\n",
       "    .dataframe thead th {\n",
       "        text-align: right;\n",
       "    }\n",
       "</style>\n",
       "<table border=\"1\" class=\"dataframe\">\n",
       "  <thead>\n",
       "    <tr style=\"text-align: right;\">\n",
       "      <th></th>\n",
       "      <th>価値</th>\n",
       "      <th>重さ</th>\n",
       "    </tr>\n",
       "  </thead>\n",
       "  <tbody>\n",
       "    <tr>\n",
       "      <th>0</th>\n",
       "      <td>32</td>\n",
       "      <td>20</td>\n",
       "    </tr>\n",
       "    <tr>\n",
       "      <th>1</th>\n",
       "      <td>52</td>\n",
       "      <td>80</td>\n",
       "    </tr>\n",
       "    <tr>\n",
       "      <th>2</th>\n",
       "      <td>69</td>\n",
       "      <td>49</td>\n",
       "    </tr>\n",
       "    <tr>\n",
       "      <th>3</th>\n",
       "      <td>42</td>\n",
       "      <td>95</td>\n",
       "    </tr>\n",
       "    <tr>\n",
       "      <th>4</th>\n",
       "      <td>19</td>\n",
       "      <td>68</td>\n",
       "    </tr>\n",
       "  </tbody>\n",
       "</table>\n",
       "</div>"
      ],
      "text/plain": [
       "   価値  重さ\n",
       "0  32  20\n",
       "1  52  80\n",
       "2  69  49\n",
       "3  42  95\n",
       "4  19  68"
      ]
     },
     "execution_count": 14,
     "metadata": {},
     "output_type": "execute_result"
    }
   ],
   "source": [
    "# サンプルデータ\n",
    "# 価値と重さの組み合わせ配列\n",
    "df_items = pd.read_csv('./files/items.csv')\n",
    "df_items.head()"
   ]
  },
  {
   "cell_type": "code",
   "execution_count": 57,
   "metadata": {},
   "outputs": [],
   "source": [
    "items = 7\n",
    "capacity = 9\n",
    "weights = [2, 3, 6, 7, 5, 9, 4]\n",
    "values = [6, 5, 8, 9, 6, 7, 3]\n"
   ]
  },
  {
   "cell_type": "markdown",
   "metadata": {},
   "source": [
    "Problemの定義\n",
    "---\n"
   ]
  },
  {
   "cell_type": "code",
   "execution_count": 56,
   "metadata": {},
   "outputs": [],
   "source": [
    "class Knapsack(Problem):\n",
    "    \"\"\"問題定義のクラス\n",
    "    \"\"\"\n",
    "    def __init__(self, values, weights, capacity):\n",
    "        \"\"\"\n",
    "        https://github.com/Project-Platypus/Platypus/blob/master/platypus/core.py#L93\n",
    "        Problemはコンストラクタで\n",
    "        1: 決定変数の数\n",
    "        2: 目的変数の数\n",
    "        3: (option) 制約の数\n",
    "        4: (option) 目的関数\n",
    "        を受け取る\n",
    "        \"\"\"\n",
    "        super(Knapsack, self).__init__(1, 1, 1)\n",
    "        # Binaryは0:1(false:true)\n",
    "        self.types[:] = Binary(len(values))\n",
    "        self.directions[0] = Problem.MAXIMIZE\n",
    "        self.constraints[0] = Constraint(\"<=\", capacity)\n",
    "        \n",
    "    def evaluate(self, solution):\n",
    "        selection = solution.variables[0]\n",
    "        total_weight = sum([weights[i] if selection[i] else 0 for i in range(items)])\n",
    "        total_profit = sum([values[i] if selection[i] else 0 for i in range(items)])\n",
    "        solution.objectives = [total_profit]\n",
    "        solution.constraints = [total_weight]"
   ]
  },
  {
   "cell_type": "code",
   "execution_count": 55,
   "metadata": {},
   "outputs": [
    {
     "name": "stdout",
     "output_type": "stream",
     "text": [
      "[[True, False, False, True, False, False, False]] [15]\n"
     ]
    }
   ],
   "source": [
    "items = 7\n",
    "capacity = 9.0\n",
    "weights = [2, 3, 6, 7, 5, 9, 4]\n",
    "values = [6, 5, 8, 9, 6, 7, 3]\n",
    "\n",
    "knapsack = Knapsack(values, weights, capacity)\n",
    "algorithm = NSGAII(knapsack)\n",
    "algorithm.run(100)\n",
    "\n",
    "# nondominated(algorithm.result)\n",
    "# 支配的でない解をフィルタリングする(支配的？ってどういう意味?)\n",
    "# unique(objectives)\n",
    "# 同じ解を除外する\n",
    "for solution in unique(nondominated(algorithm.result)):\n",
    "    print(solution.variables, solution.objectives)"
   ]
  },
  {
   "cell_type": "code",
   "execution_count": 54,
   "metadata": {},
   "outputs": [
    {
     "name": "stdout",
     "output_type": "stream",
     "text": [
      "[[True, False, False, True, False, False, False]] [15]\n"
     ]
    }
   ],
   "source": [
    "from platypus import GeneticAlgorithm, Problem, Constraint, Binary, nondominated, unique\n",
    "\n",
    "# This simple example has an optimal value of 15 when picking items 1 and 4.\n",
    "items = 7\n",
    "capacity = 9\n",
    "weights = [2, 3, 6, 7, 5, 9, 4]\n",
    "profits = [6, 5, 8, 9, 6, 7, 3]\n",
    "    \n",
    "def knapsack(x):\n",
    "    selection = x[0]\n",
    "    total_weight = sum([weights[i] if selection[i] else 0 for i in range(items)])\n",
    "    total_profit = sum([profits[i] if selection[i] else 0 for i in range(items)])\n",
    "    return total_profit, total_weight\n",
    "\n",
    "problem = Problem(1, 1, 1)\n",
    "problem.types[0] = Binary(items)\n",
    "problem.directions[0] = Problem.MAXIMIZE\n",
    "problem.constraints[0] = Constraint(\"<=\", capacity)\n",
    "problem.function = knapsack\n",
    "\n",
    "algorithm = NSGAII(problem)\n",
    "algorithm.run(10000)\n",
    "\n",
    "for solution in unique(nondominated(algorithm.result)):\n",
    "    print(solution.variables, solution.objectives)"
   ]
  },
  {
   "cell_type": "code",
   "execution_count": null,
   "metadata": {},
   "outputs": [],
   "source": []
  },
  {
   "cell_type": "code",
   "execution_count": null,
   "metadata": {},
   "outputs": [],
   "source": []
  }
 ],
 "metadata": {
  "kernelspec": {
   "display_name": "Python 3",
   "language": "python",
   "name": "python3"
  },
  "language_info": {
   "codemirror_mode": {
    "name": "ipython",
    "version": 3
   },
   "file_extension": ".py",
   "mimetype": "text/x-python",
   "name": "python",
   "nbconvert_exporter": "python",
   "pygments_lexer": "ipython3",
   "version": "3.7.3"
  }
 },
 "nbformat": 4,
 "nbformat_minor": 2
}
