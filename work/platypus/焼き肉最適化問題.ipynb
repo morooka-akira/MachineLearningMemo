{
 "cells": [
  {
   "cell_type": "markdown",
   "metadata": {},
   "source": [
    "# 焼き肉最適化問題\n",
    "\n",
    "https://ntddk.github.io/2016/12/04/yakiniku-optimization/\n",
    "\n",
    "- 上記ブログの内容を拝借して決められた値段ないで最適なメニューを選択するアルゴリズムを作ってみる"
   ]
  },
  {
   "cell_type": "code",
   "execution_count": 5,
   "metadata": {},
   "outputs": [],
   "source": [
    "from platypus import NSGAII, Type, Problem,Constraint, Binary, nondominated, unique\n",
    "import pandas as pd\n",
    "import numpy as np\n",
    "import random"
   ]
  },
  {
   "cell_type": "code",
   "execution_count": 17,
   "metadata": {},
   "outputs": [],
   "source": [
    "# テストデータ\n",
    "menu = ['カルビ', '和牛カルビ', '和牛中落ちカルビ', 'ハラミ', '厚切りロース', 'ネギ牛タン塩', '牛タン塩', \n",
    "        'イベリコ豚', 'カシラ', '豚トロ', 'ネギ豚タン塩', '豚タン塩', '厚切りベーコン', 'ウインナー', 'チョリソ', \n",
    "        'ホルモン', 'シロコロホルモン', 'レバー', '白レバー', 'ハツ', 'ミノ', \n",
    "        'お得!! 三種盛り', '本日の塩三種盛り', '本日の味噌三種盛り']\n",
    "price = [720, 950, 850, 720, 690, 950, 850, \n",
    "        600, 550, 580, 680, 580, 500, 380, 400, \n",
    "        550, 600, 550, 450, 550, 650, \n",
    "        1280, 780, 780]\n",
    "\n",
    "n = len(menu)\n",
    "np.random.seed(0)\n",
    "# 満足度、焼き時間、量は適当に乱数で生成\n",
    "df = pd.DataFrame({\n",
    "    '品目': menu,\n",
    "    '値段': price,\n",
    "    '満足度': np.random.randint(10, 20, n),\n",
    "    '焼き時間': np.random.randint(5, 10, n),\n",
    "    '量': np.random.randint(10, 20, n),\n",
    "    })"
   ]
  },
  {
   "cell_type": "code",
   "execution_count": 15,
   "metadata": {},
   "outputs": [],
   "source": [
    "# Itemの生成\n",
    "class Item(Type):\n",
    "    \"\"\"ナップザック問題のアイテムの決定変数クラス\n",
    "    values: 価値の配列\n",
    "    weights: 重さの配列\n",
    "    \"\"\"\n",
    "    def __init__(self, values, weights):\n",
    "        super(Item, self) # superには自身のクラス定義とオブジェクトを渡す\n",
    "        self.items = len(values)\n",
    "        self.values = values\n",
    "        self.weights = weights\n",
    "        \n",
    "    def rand(self):\n",
    "        r = random.randint(0, len(self.values) - 1)\n",
    "        return [self.values[r], self.weights[r]]"
   ]
  }
 ],
 "metadata": {
  "kernelspec": {
   "display_name": "Python 3",
   "language": "python",
   "name": "python3"
  },
  "language_info": {
   "codemirror_mode": {
    "name": "ipython",
    "version": 3
   },
   "file_extension": ".py",
   "mimetype": "text/x-python",
   "name": "python",
   "nbconvert_exporter": "python",
   "pygments_lexer": "ipython3",
   "version": "3.7.3"
  }
 },
 "nbformat": 4,
 "nbformat_minor": 2
}
