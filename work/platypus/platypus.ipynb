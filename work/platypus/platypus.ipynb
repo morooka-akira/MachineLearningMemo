{
 "cells": [
  {
   "cell_type": "code",
   "execution_count": 7,
   "metadata": {},
   "outputs": [],
   "source": [
    "from platypus import NSGAII, NSGAIII, DTLZ2, Hypervolume, experiment, calculate, display\n",
    "%matplotlib inline"
   ]
  },
  {
   "cell_type": "markdown",
   "metadata": {},
   "source": [
    "# このドキュメントは\n",
    "https://platypus.readthedocs.io/en/latest/getting-started.html\n",
    "のサンプルを動かして理解を深める"
   ]
  },
  {
   "cell_type": "markdown",
   "metadata": {},
   "source": [
    "DTLZ2のサンプル\n",
    "---\n",
    "- DTLZ2(単方峰問題)\n",
    "- パレート最適解集合が凹型のパレート境界を有する3目的最適化問題"
   ]
  },
  {
   "cell_type": "code",
   "execution_count": 2,
   "metadata": {},
   "outputs": [
    {
     "data": {
      "image/png": "[encoded data removed]",
      "text/plain": [
       "<Figure size 432x288 with 1 Axes>"
      ]
     },
     "metadata": {
      "needs_background": "light"
     },
     "output_type": "display_data"
    }
   ],
   "source": [
    "from platypus import NSGAII, DTLZ2\n",
    "\n",
    "# define the problem definition\n",
    "problem = DTLZ2()\n",
    "\n",
    "# instantiate the optimization algorithm\n",
    "algorithm = NSGAII(problem)\n",
    "\n",
    "# optimize the problem using 10,000 function evaluations\n",
    "algorithm.run(10000)\n",
    "\n",
    "# plot the results using matplotlib\n",
    "import matplotlib.pyplot as plt\n",
    "\n",
    "plt.scatter([s.objectives[0] for s in algorithm.result],\n",
    "            [s.objectives[1] for s in algorithm.result])\n",
    "plt.xlim([0, 1.1])\n",
    "plt.ylim([0, 1.1])\n",
    "plt.xlabel(\"$f_1(x)$\")\n",
    "plt.ylabel(\"$f_2(x)$\")\n",
    "plt.show()"
   ]
  },
  {
   "cell_type": "markdown",
   "metadata": {},
   "source": [
    "制約のない問題\n",
    "---\n",
    "- 制約のない問題の場合、「決定変数のリスト」と「目的地のリストを返す関数」を定義する\n",
    "\n",
    "$$\n",
    "minimize(X^2, (x-2)^2) for x \\in [-10, 10]\n",
    "$$\n",
    "\n",
    "- $X^2$ と $(x-2)^2)$ の最小値が-10~10になる数の問題?"
   ]
  },
  {
   "cell_type": "code",
   "execution_count": 3,
   "metadata": {},
   "outputs": [],
   "source": [
    "def schaffer(x):\n",
    "    return [x[0]**2, (x[0]-2)**2]\n",
    "\n",
    "problem = Problem(1, 2)\n",
    "problem.types[:] = Real(-10, 10)\n",
    "problem.function = schaffer\n",
    "\n",
    "algorithm = NSGAII(problem)\n",
    "algorithm.run(10000)"
   ]
  },
  {
   "cell_type": "markdown",
   "metadata": {},
   "source": [
    "- Problemクラスは2つの引数を受け取る\n",
    "- 第一引数は決定変数の数\n",
    "- 第二引数は目的変数の数\n",
    "- typesでは決定変数のタイプを指定する\n",
    "    - ここでは、-10から10までの実数値を範囲に指定している\n",
    "- functionでは問題を評価するための関数を定義する"
   ]
  },
  {
   "cell_type": "code",
   "execution_count": 4,
   "metadata": {},
   "outputs": [
    {
     "name": "stdout",
     "output_type": "stream",
     "text": [
      "x\t f1\t f2\n",
      "2.001\t4.002\t0.000\n",
      "-0.000\t0.000\t4.001\n",
      "1.336\t1.786\t0.441\n",
      "1.738\t3.022\t0.069\n",
      "0.494\t0.244\t2.268\n",
      "1.704\t2.904\t0.088\n",
      "1.623\t2.635\t0.142\n",
      "1.484\t2.203\t0.266\n",
      "1.643\t2.700\t0.127\n",
      "1.590\t2.527\t0.168\n",
      "1.040\t1.082\t0.921\n",
      "0.127\t0.016\t3.508\n",
      "1.366\t1.867\t0.402\n",
      "1.178\t1.387\t0.676\n",
      "0.056\t0.003\t3.779\n",
      "1.151\t1.325\t0.721\n",
      "0.454\t0.206\t2.391\n",
      "1.572\t2.472\t0.183\n",
      "0.237\t0.056\t3.108\n",
      "1.018\t1.037\t0.964\n",
      "1.069\t1.142\t0.868\n",
      "0.214\t0.046\t3.191\n",
      "1.675\t2.806\t0.106\n",
      "0.030\t0.001\t3.882\n",
      "0.896\t0.802\t1.219\n",
      "0.161\t0.026\t3.383\n",
      "1.300\t1.690\t0.490\n",
      "0.093\t0.009\t3.636\n",
      "1.932\t3.731\t0.005\n",
      "1.787\t3.194\t0.045\n",
      "0.692\t0.479\t1.710\n",
      "1.384\t1.914\t0.380\n",
      "1.864\t3.475\t0.018\n",
      "1.126\t1.267\t0.764\n",
      "1.097\t1.204\t0.815\n",
      "1.806\t3.261\t0.038\n",
      "0.142\t0.020\t3.452\n",
      "1.822\t3.318\t0.032\n",
      "1.546\t2.391\t0.206\n",
      "1.416\t2.005\t0.341\n",
      "1.952\t3.809\t0.002\n",
      "1.402\t1.965\t0.358\n",
      "0.674\t0.454\t1.760\n",
      "1.763\t3.108\t0.056\n",
      "0.332\t0.110\t2.782\n",
      "0.257\t0.066\t3.040\n",
      "0.015\t0.000\t3.939\n",
      "1.964\t3.857\t0.001\n",
      "1.981\t3.925\t0.000\n",
      "0.999\t0.999\t1.001\n",
      "1.294\t1.675\t0.498\n",
      "1.684\t2.836\t0.100\n",
      "0.736\t0.542\t1.598\n",
      "0.196\t0.039\t3.253\n",
      "0.526\t0.277\t2.172\n",
      "0.963\t0.927\t1.076\n",
      "0.589\t0.347\t1.991\n",
      "1.509\t2.278\t0.241\n",
      "1.457\t2.124\t0.294\n",
      "0.347\t0.120\t2.732\n",
      "0.292\t0.085\t2.918\n",
      "0.856\t0.733\t1.308\n",
      "1.846\t3.407\t0.024\n",
      "1.198\t1.435\t0.643\n",
      "1.132\t1.282\t0.753\n",
      "1.225\t1.501\t0.600\n",
      "0.569\t0.324\t2.048\n",
      "0.547\t0.299\t2.111\n",
      "0.433\t0.187\t2.455\n",
      "0.180\t0.033\t3.311\n",
      "1.915\t3.669\t0.007\n",
      "1.839\t3.381\t0.026\n",
      "1.270\t1.613\t0.533\n",
      "1.769\t3.131\t0.053\n",
      "0.925\t0.856\t1.155\n",
      "0.369\t0.136\t2.661\n",
      "0.714\t0.509\t1.654\n",
      "0.410\t0.168\t2.527\n",
      "0.371\t0.138\t2.653\n",
      "0.755\t0.569\t1.551\n",
      "0.599\t0.359\t1.961\n",
      "0.799\t0.638\t1.443\n",
      "0.774\t0.599\t1.503\n",
      "0.393\t0.154\t2.584\n",
      "0.916\t0.838\t1.176\n",
      "1.245\t1.549\t0.570\n",
      "0.426\t0.181\t2.479\n",
      "1.081\t1.169\t0.844\n",
      "0.311\t0.097\t2.854\n",
      "1.220\t1.488\t0.609\n",
      "1.438\t2.066\t0.316\n",
      "0.809\t0.655\t1.418\n",
      "0.510\t0.260\t2.221\n",
      "1.203\t1.447\t0.635\n",
      "1.881\t3.538\t0.014\n",
      "1.435\t2.058\t0.320\n",
      "1.264\t1.597\t0.542\n",
      "0.978\t0.957\t1.044\n",
      "1.898\t3.604\t0.010\n",
      "0.945\t0.894\t1.112\n"
     ]
    }
   ],
   "source": [
    "print(\"x\\t f1\\t f2\")\n",
    "\n",
    "for solution in algorithm.result:\n",
    "    print(\"%0.3f\\t%0.3f\\t%0.3f\" \\\n",
    "          % tuple(solution.variables + solution.objectives[:]))"
   ]
  },
  {
   "cell_type": "markdown",
   "metadata": {},
   "source": [
    "### クラスを拡張する\n",
    "- 再利用可能にするためにクラスを拡張することができる\n",
    "- typesは__init__メソッドで定義する\n",
    "- 評価関数は、 evaluate メソッドで定義する"
   ]
  },
  {
   "cell_type": "code",
   "execution_count": 5,
   "metadata": {},
   "outputs": [],
   "source": [
    "class Schaffer(Problem):\n",
    "    def __init__(self):\n",
    "        super(Schaffer, self).__init__(1, 2)\n",
    "        self.types[:] = Real(-10, 10)\n",
    "        \n",
    "    def evaluate(self, solution):\n",
    "        x = solution.variables[:]\n",
    "        solution.objectives[:] = [x[0]**2, (x[0]-2)**2]\n",
    "        \n",
    "algorithm = NSGAII(Schaffer())\n",
    "algorithm.run(10000)"
   ]
  },
  {
   "cell_type": "markdown",
   "metadata": {},
   "source": [
    "制約付きの問題\n",
    "---\n",
    "\n",
    "$$\n",
    "minimize(-2x + y, 2x + y)\\ subject\\ to\\ y - x \\leq　1 and x + y \\leq 7\n",
    "$$\n",
    "\n",
    "- この問題には2つの不等号条件が存在する\n",
    "- まずは不等式を左に整理する\n",
    "\n",
    "\n",
    "$$\n",
    "minimize(-2x + y, 2x + y)\\ subject\\ to\\ y - x - 1 \\leq　0 and x + y - 7 \\leq 0\n",
    "$$"
   ]
  },
  {
   "cell_type": "code",
   "execution_count": 6,
   "metadata": {},
   "outputs": [],
   "source": [
    "def belegundu(vars):\n",
    "    x = vars[0]\n",
    "    y = vars[1]\n",
    "    return [-2 * x + y, 2 * x + y], [-x + y - 1, x + y - 7]\n",
    "\n",
    "problem = Problem(2, 2, 2)\n",
    "problem.types[:] = [Real(0, 5), Real(0, 3)]\n",
    "problem.constraints[:] = \"<=0\" # 制約を入れる\n",
    "problem.function = belegundu\n",
    "\n",
    "algorithm = NSGAII(problem)\n",
    "algorithm.run(10000)"
   ]
  },
  {
   "cell_type": "code",
   "execution_count": 8,
   "metadata": {},
   "outputs": [
    {
     "name": "stdout",
     "output_type": "stream",
     "text": [
      "NSGAII\n",
      "    DTLZ2\n",
      "        Hypervolume : [0.373, 0.372, 0.364, 0.375, 0.359, 0.363, 0.37, 0.366, 0.372, 0.371]\n",
      "NSGAIII\n",
      "    DTLZ2\n",
      "        Hypervolume : [0.402, 0.406, 0.403, 0.406, 0.404, 0.405, 0.405, 0.404, 0.408, 0.406]\n"
     ]
    }
   ],
   "source": [
    "algorithms = [NSGAII, (NSGAIII, {\"divisions_outer\":12})]\n",
    "problems = [DTLZ2(3)]\n",
    "\n",
    "# run the experiment\n",
    "results = experiment(algorithms, problems, nfe=10000, seeds=10)\n",
    "\n",
    "# calculate the hypervolume indicator\n",
    "hyp = Hypervolume(minimum=[0, 0, 0], maximum=[1, 1, 1])\n",
    "hyp_result = calculate(results, hyp)\n",
    "display(hyp_result, ndigits=3)"
   ]
  }
 ],
 "metadata": {
  "kernelspec": {
   "display_name": "Python 3",
   "language": "python",
   "name": "python3"
  },
  "language_info": {
   "codemirror_mode": {
    "name": "ipython",
    "version": 3
   },
   "file_extension": ".py",
   "mimetype": "text/x-python",
   "name": "python",
   "nbconvert_exporter": "python",
   "pygments_lexer": "ipython3",
   "version": "3.7.3"
  }
 },
 "nbformat": 4,
 "nbformat_minor": 2
}
