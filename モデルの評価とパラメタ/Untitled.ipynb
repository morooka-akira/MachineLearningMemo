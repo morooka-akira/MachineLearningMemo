{
 "cells": [
  {
   "cell_type": "code",
   "execution_count": 3,
   "metadata": {},
   "outputs": [
    {
     "name": "stdout",
     "output_type": "stream",
     "text": [
      "Requirement already satisfied: mglearn in /Users/amoro/.pyenv/versions/anaconda3-4.3.1/lib/python3.6/site-packages (0.1.6)\r\n",
      "Requirement already satisfied: pillow in /Users/amoro/.pyenv/versions/anaconda3-4.3.1/lib/python3.6/site-packages (from mglearn) (4.0.0)\r\n",
      "Requirement already satisfied: numpy in /Users/amoro/.pyenv/versions/anaconda3-4.3.1/lib/python3.6/site-packages (from mglearn) (1.14.3)\r\n",
      "Requirement already satisfied: matplotlib in /Users/amoro/.pyenv/versions/anaconda3-4.3.1/lib/python3.6/site-packages (from mglearn) (2.0.2)\r\n",
      "Requirement already satisfied: cycler in /Users/amoro/.pyenv/versions/anaconda3-4.3.1/lib/python3.6/site-packages (from mglearn) (0.10.0)\r\n",
      "Requirement already satisfied: pandas in /Users/amoro/.pyenv/versions/anaconda3-4.3.1/lib/python3.6/site-packages (from mglearn) (0.20.3)\r\n",
      "Requirement already satisfied: scikit-learn in /Users/amoro/.pyenv/versions/anaconda3-4.3.1/lib/python3.6/site-packages (from mglearn) (0.19.1)\r\n",
      "Requirement already satisfied: olefile in /Users/amoro/.pyenv/versions/anaconda3-4.3.1/lib/python3.6/site-packages (from pillow->mglearn) (0.45.1)\r\n",
      "Requirement already satisfied: six>=1.10 in /Users/amoro/.pyenv/versions/anaconda3-4.3.1/lib/python3.6/site-packages (from matplotlib->mglearn) (1.11.0)\r\n",
      "Requirement already satisfied: python-dateutil in /Users/amoro/.pyenv/versions/anaconda3-4.3.1/lib/python3.6/site-packages (from matplotlib->mglearn) (2.6.0)\r\n",
      "Requirement already satisfied: pytz in /Users/amoro/.pyenv/versions/anaconda3-4.3.1/lib/python3.6/site-packages (from matplotlib->mglearn) (2016.10)\r\n",
      "Requirement already satisfied: pyparsing!=2.0.4,!=2.1.2,!=2.1.6,>=1.5.6 in /Users/amoro/.pyenv/versions/anaconda3-4.3.1/lib/python3.6/site-packages (from matplotlib->mglearn) (2.1.4)\r\n"
     ]
    }
   ],
   "source": [
    "from IPython.display import set_matplotlib_formats, display\n",
    "import pandas as pd\n",
    "import numpy as np\n",
    "!pip install mglearn\n",
    "import matplotlib.pyplot as plt\n",
    "import mglearn\n",
    "from cycler import cycler\n",
    "%matplotlib inline\n",
    "from sklearn.model_selection import train_test_split"
   ]
  },
  {
   "cell_type": "markdown",
   "metadata": {},
   "source": [
    "# グリッドサーチ\n",
    "- モデルの重要なパラメタに対して最良の汎化性能を与えるセット見つけることが重要\n",
    "- sciket-learnでこれを支援するための方法の一つとして「グリッドサーチ(grid search)」がある\n",
    "- これは基本的にパラメタのすべての組み合わせに対して試してみる方法"
   ]
  },
  {
   "cell_type": "markdown",
   "metadata": {},
   "source": [
    "RBF(radial basis function)を用いたカーネル法を用いたSVMを使ったサンプル\n",
    "---\n",
    "- この手法の重要なパラメータはカーネルのバンド幅を表す「gamma」と、正則化パラメータ「C」である\n",
    "- Cとgammaに対してそれぞれ0.001, 0.01, 0.1, 1, 10, 100の6通りを試してみる\n",
    "- すべてのパラメータの組み合わせは6*6=36通りある"
   ]
  },
  {
   "cell_type": "markdown",
   "metadata": {},
   "source": [
    "### 単純なグリットサーチ\n",
    "- 2つのパラメタに対するただのforループで実装"
   ]
  },
  {
   "cell_type": "code",
   "execution_count": 6,
   "metadata": {},
   "outputs": [],
   "source": [
    "from sklearn.datasets import load_iris\n",
    "iris = load_iris()\n",
    "# ナイーブなグリッドサーチの実装\n",
    "from sklearn.svm import SVC\n",
    "X_train, X_test, y_train, y_test = train_test_split(iris.data, iris.target, random_state=0)\n",
    "print(\"Size of training set: {}\")"
   ]
  },
  {
   "cell_type": "code",
   "execution_count": null,
   "metadata": {
    "collapsed": true
   },
   "outputs": [],
   "source": []
  }
 ],
 "metadata": {
  "kernelspec": {
   "display_name": "Python 3",
   "language": "python",
   "name": "python3"
  },
  "language_info": {
   "codemirror_mode": {
    "name": "ipython",
    "version": 3
   },
   "file_extension": ".py",
   "mimetype": "text/x-python",
   "name": "python",
   "nbconvert_exporter": "python",
   "pygments_lexer": "ipython3",
   "version": "3.6.0"
  }
 },
 "nbformat": 4,
 "nbformat_minor": 2
}
