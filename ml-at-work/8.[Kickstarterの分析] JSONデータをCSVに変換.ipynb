{
 "cells": [
  {
   "cell_type": "markdown",
   "metadata": {},
   "source": [
    "### 元のソース\n",
    "- https://github.com/oreilly-japan/ml-at-work/blob/master/chap08/kickstarter_result_to_csv.py\n",
    "- 「result」ディレクトリ配下にファイルがない場合は「Kickstaterのクローラ.ipynb」を実行する"
   ]
  },
  {
   "cell_type": "code",
   "execution_count": 19,
   "metadata": {},
   "outputs": [],
   "source": [
    "import glob\n",
    "import json\n",
    "import pandas\n",
    "import pandas.io.json\n",
    "\n",
    "project_list = []\n",
    "\n",
    "# globでresultフォルダにあるファイルを走査して読み込む\n",
    "for filename in glob.glob(\"result/*\"):\n",
    "    #print(filename)\n",
    "    project = json.loads(open(filename).read())\n",
    "    project_list.append(project)\n",
    "    \n",
    "# json_normalizeを使ってDataFrameに変換する\n",
    "df = pandas.io.json.json_normalize(project_list)"
   ]
  },
  {
   "cell_type": "code",
   "execution_count": 20,
   "metadata": {},
   "outputs": [],
   "source": [
    "# 末尾が\"_at\"で終わるunixtimeのカラムをdatetimeに変換する\n",
    "datetime_columns = filter(lambda a: a[-3:] == \"_at\", df.columns)\n",
    "for column in datetime_columns:\n",
    "    df[column] = pandas.to_datetime(df[column], unit='s')\n",
    "\n",
    "# DataFrameからCSV形式のstrへ変換\n",
    "csv_data = df.to_csv()\n",
    "\n",
    "# WindowsのExcelに読み込ませるために文字コードをCP932にする\n",
    "csv_data = csv_data.encode(\"cp932\", \"ignore\")\n",
    "\n",
    "# 結果をファイルに書き込む\n",
    "fp = open(\"kickstarter_result.csv\", \"wb\")\n",
    "fp.write(csv_data)\n",
    "fp.close()"
   ]
  }
 ],
 "metadata": {
  "kernelspec": {
   "display_name": "Python 3",
   "language": "python",
   "name": "python3"
  },
  "language_info": {
   "codemirror_mode": {
    "name": "ipython",
    "version": 3
   },
   "file_extension": ".py",
   "mimetype": "text/x-python",
   "name": "python",
   "nbconvert_exporter": "python",
   "pygments_lexer": "ipython3",
   "version": "3.6.0"
  }
 },
 "nbformat": 4,
 "nbformat_minor": 2
}
