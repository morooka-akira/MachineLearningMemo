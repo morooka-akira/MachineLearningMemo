{
 "cells": [
  {
   "cell_type": "markdown",
   "metadata": {},
   "source": [
    "データセットの生成\n",
    "-------------------\n",
    "- [0, 1]の乱数を8こ持った特徴量(feature_vector)を生成\n",
    "- 実験群か統制群か(is_treat)を乱数で決め、それぞれの場合について内部コンバージョンレートを決める\n",
    "- 内部コンバージョンレートはfeatture_vectorとbase_weightの内積で定義する\n",
    "    - 実験群であった場合はfeature_vectorとlift_weightの内積を加算する"
   ]
  },
  {
   "cell_type": "code",
   "execution_count": 8,
   "metadata": {
    "collapsed": true
   },
   "outputs": [],
   "source": [
    "import random\n",
    "def generate_sample_data(num,  seed=1):\n",
    "    # 返却するリストを確保\n",
    "    is_cv_list = []\n",
    "    is_treat_list = []\n",
    "    feature_vector_list =[]\n",
    "    \n",
    "    random_instance = random.Random(seed)\n",
    "    print(random_instance)\n",
    "    \n",
    "    feature_num = 8\n",
    "    # 重みが0の変数は、観測できているがコンバージョンに寄与しない変数を意味する\n",
    "    base_weight = [0.02, 0.03, 0.05, -0.04, 0.00, 0.00, 0.00, 0.00]\n",
    "    lift_weight = [0.00, 0.00, 0.00, 0.05, -0.05, 0.00, 0.00, 0.00]\n",
    "        \n",
    "    for i in range(num):\n",
    "        # 特徴ベクトルで乱数を生成(randomは0.0-1.0を返す)\n",
    "        feature_vector = [random_instance.random() for n in range(feature_num)]\n",
    "        # 実験群かどうかを乱数で決定\n",
    "        is_treat = random_instance.choice((True, False))\n",
    "        # 内部的なコンバージョンレートを算出\n",
    "        cv_rate = sum([feature_vector[n] * base_weight[n] for n in range(feature_num)])\n",
    "        \n",
    "        if is_treat:\n",
    "            # 実験群であれば、lift_weightを加味する\n",
    "            cv_rate += sum([feature_vector[n] * lift_weight[n] for n in range(feature_num)])\n",
    "           \n",
    "        # 実際にコンバージョンしたかどうかを決定する\n",
    "        is_cv = cv_rate > random_instance.random()\n",
    "        \n",
    "        # 生成した値を格納\n",
    "        is_cv_list.append(is_cv)\n",
    "        is_treat_list.append(is_treat)\n",
    "        feature_vector_list.append(feature_vector)\n",
    "    # 値を返す\n",
    "    return is_cv_list, is_treat_list, feature_vector_list"
   ]
  },
  {
   "cell_type": "markdown",
   "metadata": {},
   "source": [
    "2つの予測モデルを利用したUpliftModeling\n",
    "-------------------------------\n",
    "\n",
    "- まずは学習用のサンプルデータを作成してコンバージョンレートを計測する"
   ]
  },
  {
   "cell_type": "code",
   "execution_count": 9,
   "metadata": {},
   "outputs": [
    {
     "name": "stdout",
     "output_type": "stream",
     "text": [
      "<random.Random object at 0x7fe88c120018>\n",
      "treatment_cvr 0.041666666666666664\n",
      "control_cvr 0.05040322580645161\n"
     ]
    }
   ],
   "source": [
    "# trainデータの作成\n",
    "sample_num = 1000\n",
    "train_is_cv_list, train_is_treat_list, train_feature_vector_list = \\\n",
    "    generate_sample_data(sample_num, seed=1)\n",
    "\n",
    "# データをtreatmentとcontrolに分離\n",
    "treat_is_cv_list = []\n",
    "treat_feature_vector_list = []\n",
    "control_is_cv_list = []\n",
    "control_feature_vector_list = []\n",
    "\n",
    "for i in range(sample_num):\n",
    "    if train_is_treat_list[i]:\n",
    "        treat_is_cv_list.append(train_is_cv_list[i])\n",
    "        treat_feature_vector_list.append(train_feature_vector_list[i])\n",
    "    else:\n",
    "        control_is_cv_list.append(train_is_cv_list[i])\n",
    "        control_feature_vector_list.append(train_feature_vector_list[i])\n",
    "# コンバージョンレートを表示\n",
    "print(\"treatment_cvr\", treat_is_cv_list.count(True) / len(treat_is_cv_list))\n",
    "print(\"control_cvr\", control_is_cv_list.count(True) / len(control_is_cv_list))"
   ]
  },
  {
   "cell_type": "markdown",
   "metadata": {},
   "source": [
    "- 現状の結果では統制群と実験群の差は殆どない\n",
    "\n",
    "- 次に学習器を構築してtrainデータの学習を行う\n",
    "- コンバージョン予測の問題であるため、このようなケースでよく使われるロジスティック回帰を使用"
   ]
  },
  {
   "cell_type": "code",
   "execution_count": 12,
   "metadata": {},
   "outputs": [
    {
     "data": {
      "text/plain": [
       "LogisticRegression(C=0.01, class_weight=None, dual=False, fit_intercept=True,\n",
       "          intercept_scaling=1, max_iter=100, multi_class='ovr', n_jobs=1,\n",
       "          penalty='l2', random_state=None, solver='liblinear', tol=0.0001,\n",
       "          verbose=0, warm_start=False)"
      ]
     },
     "execution_count": 12,
     "metadata": {},
     "output_type": "execute_result"
    }
   ],
   "source": [
    "from sklearn.linear_model import LogisticRegression\n",
    "\n",
    "# 学習器の生成\n",
    "treat_model = LogisticRegression(C=0.01)\n",
    "control_model = LogisticRegression(C=0.01)\n",
    "\n",
    "# 学習器の構築\n",
    "treat_model.fit(treat_feature_vector_list, treat_is_cv_list)\n",
    "control_model.fit(control_feature_vector_list, control_is_cv_list)"
   ]
  },
  {
   "cell_type": "markdown",
   "metadata": {},
   "source": [
    "- 2つの予測モデルを利用したUpliftModelingの場合、統制群の予測値と実験群の予測値の2つが得られる\n",
    "- このままだと扱いにくいため一次元の値に変換する\n",
    "\n",
    "### 説得可能な顧客と天邪鬼な顧客\n",
    "- 統制群の予測値が低く、実験群の予測値が高い場合、説得可能な顧客なので高いスコアになって欲しい\n",
    "- 統制群の予測値が高く、実験群の予測値が低い場合、天邪鬼な顧客なので低いスコアになって欲しい\n",
    "\n",
    "したがって、予測地の比または差を利用することで、説得可能な顧客は高いスコアに、天邪鬼な顧客は低いスコアに変換することができる。今回は予測値の比を利用する\n",
    "\n",
    "$$ PuliftModelingのスコア=\\frac{実験群の予測値}{統制群の予測値} $$"
   ]
  },
  {
   "cell_type": "code",
   "execution_count": 13,
   "metadata": {},
   "outputs": [
    {
     "name": "stdout",
     "output_type": "stream",
     "text": [
      "<random.Random object at 0x7fe88ea87618>\n"
     ]
    }
   ],
   "source": [
    "# seedを変えて、テストデータを生成\n",
    "test_is_cv_list, test_is_treat_list, test_feature_vector_list = \\\n",
    "    generate_sample_data(sample_num, seed=42)\n",
    "\n",
    "# それぞれの学習器でコンバージョンレートを予測\n",
    "treat_score = treat_model.predict_proba(test_feature_vector_list)\n",
    "control_score = control_model.predict_proba(test_feature_vector_list)\n",
    "\n",
    "# スコアの算出、スコアは実験群の予測CVR / 統制群の予測CVR\n",
    "# predict_probaはクラス所属確率のリストを返すため1番目を参照する\n",
    "# numpy.ndarrayなので、そのまま割り算しても、要素の割り算になる\n",
    "score_list = treat_score[:,1] / control_score[:,1]"
   ]
  },
  {
   "cell_type": "markdown",
   "metadata": {},
   "source": [
    "- scikit-learnのクラス分類機はpredict_proba関数をもっており、特徴ベクトルを引数に与えると、numpy.ndarray型の配列でクラスの所属確率を得ることができる\n",
    "- 今回はクラスがTrue,Falseの2個であることがわかっているので配列の1番目の値を参照する(Trueの値)\n",
    "- model.classes_を参照することで、どのクラスが何番目に格納されているかがわかる"
   ]
  },
  {
   "cell_type": "code",
   "execution_count": 14,
   "metadata": {},
   "outputs": [
    {
     "data": {
      "text/plain": [
       "<matplotlib.text.Text at 0x11e840f98>"
      ]
     },
     "execution_count": 14,
     "metadata": {},
     "output_type": "execute_result"
    },
    {
     "data": {
      "image/png": "[encoded data removed]",
      "text/plain": [
       "<matplotlib.figure.Figure at 0x11e8092e8>"
      ]
     },
     "metadata": {},
     "output_type": "display_data"
    }
   ],
   "source": [
    "import pandas as pd\n",
    "import matplotlib.pyplot as plt\n",
    "from operator import itemgetter\n",
    "plt.style.use('ggplot')\n",
    "%matplotlib inline\n",
    "\n",
    "# スコアが高い順に並べる\n",
    "result = list(zip(test_is_cv_list, test_is_treat_list, score_list))\n",
    "result.sort(key=itemgetter(2), reverse=True)\n",
    "qdf = pd.DataFrame(columns=('treat_cvr', 'control_cvr'))\n",
    "\n",
    "for n in range(10):\n",
    "    # 結果を10%ごとに切断\n",
    "    start = int(n * len(result) / 10)\n",
    "    end = int((n + 1) *  len(result) / 10) - 1\n",
    "    quantiled_result = result[start:end]\n",
    "    \n",
    "    # 実験群と統制群の数を数える\n",
    "    treat_uu = list(map(lambda item: item[1], quantiled_result)).count(True)\n",
    "    controll_uu = list(map(lambda item: item[1], quantiled_result)).count(False)\n",
    "    \n",
    "    # 実験群と統制群のコンバージョン数を計測\n",
    "    treat_cv = [item[0] for item in quantiled_result if item[1] is True].count(True)\n",
    "    control_cv = [item[0] for item in quantiled_result if item[1] is False].count(True)\n",
    "   \n",
    "    # コンバージョンレートに変換し、表示用のDataFrameに格納\n",
    "    treat_cvr = treat_cv / treat_uu\n",
    "    control_cvr = control_cv / controll_uu\n",
    "    \n",
    "    label = \"{}%~{}%\".format(n * 10, (n + 1) * 10)\n",
    "    qdf.loc[label] = [treat_cvr, control_cvr]\n",
    "    \n",
    "qdf.plot.bar()\n",
    "plt.xlabel(\"percentile\")\n",
    "plt.ylabel(\"conversion rate\")"
   ]
  },
  {
   "cell_type": "markdown",
   "metadata": {},
   "source": [
    "UpliftModelingの評価方法、AUUC\n",
    "---------------------\n",
    "- Uplift Modelingの評価にはAreaUnder the UpliftCurve(AUUC)という指標を使います\n",
    "- AUUCが大きければ大きいほど性能はよい\n",
    "- AUUCの算出にはliftという指標を用いる\n",
    "    - あるスコア以上の顧客には、介入行為を行い、有るスコア未満の顧客には介入行為は行わない場合、介入行為を行わなかった場合と比較してどのくらいコンバージョンが上がったか\n",
    "\n",
    "### AUUCの手順\n",
    "- スコアが高い順に操作し、その時点までのコンバージョンレートを計測する\n",
    "- コンバージョンレートの差から介入行為によるコンバージョンの上昇すう(lift)を算出する\n",
    "- ランダムに介入を行った場合の想定コンバージョン上昇数として、liftの原点と終点を結んだ直線をベースライン(base_line)とする\n",
    "- liftとbase_listに囲まれた領域の面積を算出して、正規化し、これをAUUCとする\n"
   ]
  },
  {
   "cell_type": "code",
   "execution_count": 15,
   "metadata": {},
   "outputs": [],
   "source": [
    "treat_uu = 0\n",
    "control_uu = 0\n",
    "treat_cv = 0\n",
    "control_cv = 0\n",
    "treat_cvr = 0\n",
    "control_cvr = 0\n",
    "lift = 0.0\n",
    "\n",
    "stat_data = []\n",
    "\n",
    "for is_cv, is_treat, score in result:\n",
    "    if is_treat:\n",
    "        treat_uu += 1\n",
    "        if is_cv:\n",
    "            treat_cv += 1\n",
    "        treat_cvr = treat_cv / treat_uu\n",
    "    else:\n",
    "        control_uu += 1\n",
    "        if is_cv:\n",
    "            control_cv += 1\n",
    "        control_cvr = control_cv / control_uu"
   ]
  }
 ],
 "metadata": {
  "kernelspec": {
   "display_name": "Python 3",
   "language": "python",
   "name": "python3"
  },
  "language_info": {
   "codemirror_mode": {
    "name": "ipython",
    "version": 3
   },
   "file_extension": ".py",
   "mimetype": "text/x-python",
   "name": "python",
   "nbconvert_exporter": "python",
   "pygments_lexer": "ipython3",
   "version": "3.6.0"
  }
 },
 "nbformat": 4,
 "nbformat_minor": 2
}
