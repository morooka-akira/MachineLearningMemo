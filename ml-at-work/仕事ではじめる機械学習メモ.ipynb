{
 "cells": [
  {
   "cell_type": "code",
   "execution_count": 8,
   "metadata": {},
   "outputs": [
    {
     "data": {
      "text/plain": [
       "<matplotlib.text.Text at 0x10f23dda0>"
      ]
     },
     "execution_count": 8,
     "metadata": {},
     "output_type": "execute_result"
    },
    {
     "data": {
      "image/png": "[encoded data removed]",
      "text/plain": [
       "<matplotlib.figure.Figure at 0x1055af978>"
      ]
     },
     "metadata": {},
     "output_type": "display_data"
    }
   ],
   "source": [
    "import numpy as np\n",
    "import matplotlib.pyplot as plt\n",
    "import scipy.stats\n",
    "%matplotlib inline\n",
    "\n",
    "x = np.arange(0, 21)\n",
    "# 2項分布\n",
    "y = scipy.stats.binom.pmf(x, 20, 0.5)\n",
    "plt.figure(figsize=(8, 2))\n",
    "plt.bar(x, y)\n",
    "plt.xlabel('表がでる回数')\n",
    "plt.ylabel('確率')"
   ]
  },
  {
   "cell_type": "code",
   "execution_count": 17,
   "metadata": {},
   "outputs": [
    {
     "name": "stdout",
     "output_type": "stream",
     "text": [
      "0.02069473266601554\n"
     ]
    }
   ],
   "source": [
    "import pandas as pd\n",
    "p_value = pd.DataFrame({'表がでる回数':x ,'確率': y}).query(\n",
    "    '表がでる回数 >= 15'\n",
    ")['確率'].sum()\n",
    "print(p_value)"
   ]
  },
  {
   "cell_type": "markdown",
   "metadata": {},
   "source": [
    "二群の母比率の差の検定\n",
    "---------------------"
   ]
  },
  {
   "cell_type": "code",
   "execution_count": 2,
   "metadata": {
    "collapsed": true
   },
   "outputs": [],
   "source": [
    "# テストデータ、継続化人数、離脱人数\n",
    "a = [40, 165]\n",
    "b = [62, 228]"
   ]
  },
  {
   "cell_type": "code",
   "execution_count": 37,
   "metadata": {},
   "outputs": [
    {
     "name": "stdout",
     "output_type": "stream",
     "text": [
      "Sample A: size = 205 converted = 40, mean = 0.195\n",
      "Sample B: size = 290 converted = 62, mean = 0.214\n"
     ]
    }
   ],
   "source": [
    "# 継続率=継続した人数/全体の人数\n",
    "print('Sample A: size = {} converted = {}, mean = {:.3f}'.format(sum(a), a[0], a[0]/sum(a)))\n",
    "print('Sample B: size = {} converted = {}, mean = {:.3f}'.format(sum(b), b[0], b[0]/sum(b)))"
   ]
  },
  {
   "cell_type": "code",
   "execution_count": 25,
   "metadata": {},
   "outputs": [
    {
     "name": "stdout",
     "output_type": "stream",
     "text": [
      "0.1951219512195122\n"
     ]
    }
   ],
   "source": [
    "x = np.linspace(0, 1, 200)\n",
    "# 流入元がAの標本\n",
    "n = sum(a)\n",
    "p = a[0]/n\n",
    "std = np.sqrt(p * (1-p)/n)\n",
    "# 統計的な関数はscipy.stats.xxxで表現されている\n",
    "y_a = scipy.stats.norm.pdf(x, p, std)"
   ]
  },
  {
   "cell_type": "code",
   "execution_count": 19,
   "metadata": {},
   "outputs": [
    {
     "name": "stdout",
     "output_type": "stream",
     "text": [
      "[  1.24505508e-016   7.77537870e-016   4.64872086e-015   2.66087407e-014\n",
      "   1.45812282e-013   7.64967219e-013   3.84211604e-012   1.84746859e-011\n",
      "   8.50477016e-011   3.74823691e-010   1.58150445e-009   6.38840936e-009\n",
      "   2.47055194e-008   9.14690514e-008   3.24215142e-007   1.10019925e-006\n",
      "   3.57427803e-006   1.11169141e-005   3.31023710e-005   9.43654223e-005\n",
      "   2.57540543e-004   6.72910428e-004   1.68324698e-003   4.03104237e-003\n",
      "   9.24199684e-003   2.02858496e-002   4.26284479e-002   8.57600000e-002\n",
      "   1.65176766e-001   3.04573474e-001   5.37667925e-001   9.08688673e-001\n",
      "   1.47026302e+000   2.27747640e+000   3.37747133e+000   4.79521838e+000\n",
      "   6.51784522e+000   8.48161644e+000   1.05665241e+001   1.26027291e+001\n",
      "   1.43905034e+001   1.57313613e+001   1.64640076e+001   1.64961935e+001\n",
      "   1.58238028e+001   1.45317164e+001   1.27762058e+001   1.07538957e+001\n",
      "   8.66580020e+000   6.68544711e+000   4.93777364e+000   3.49149021e+000\n",
      "   2.36357515e+000   1.53181717e+000   9.50437114e-001   5.64571268e-001\n",
      "   3.21065094e-001   1.74801979e-001   9.11126190e-002   4.54663038e-002\n",
      "   2.17209943e-002   9.93456117e-003   4.35007362e-003   1.82357429e-003\n",
      "   7.31862081e-004   2.81199125e-004   1.03437405e-004   3.64267314e-005\n",
      "   1.22812260e-005   3.96407786e-006   1.22495903e-006   3.62393068e-007\n",
      "   1.02640116e-007   2.78312889e-008   7.22484342e-009   1.79557063e-009\n",
      "   4.27223839e-010   9.73167054e-011   2.12225835e-011   4.43086009e-012\n",
      "   8.85639047e-013   1.69474519e-013   3.10478116e-014   5.44548435e-015\n",
      "   9.14367892e-016   1.46988837e-016   2.26217747e-017   3.33309679e-018\n",
      "   4.70162635e-019   6.34932023e-020   8.20890604e-021   1.01606682e-021\n",
      "   1.20403245e-022   1.36594447e-023   1.48356586e-024   1.54262210e-025\n",
      "   1.53564632e-026   1.46353054e-027   1.33533831e-028   1.16643290e-029\n",
      "   9.75454794e-031   7.80968410e-032   5.98602767e-033   4.39261263e-034\n",
      "   3.08592968e-035   2.07552553e-036   1.33643877e-037   8.23851592e-039\n",
      "   4.86214424e-040   2.74717057e-041   1.48601210e-042   7.69552047e-044\n",
      "   3.81533419e-045   1.81094852e-046   8.22921780e-048   3.58005702e-049\n",
      "   1.49107766e-050   5.94551551e-052   2.26964379e-053   8.29477906e-055\n",
      "   2.90222364e-056   9.72155780e-058   3.11759562e-059   9.57155801e-061\n",
      "   2.81335426e-062   7.91671740e-064   2.13277379e-065   5.50076868e-067\n",
      "   1.35825372e-068   3.21083032e-070   7.26662489e-072   1.57444343e-073\n",
      "   3.26588069e-075   6.48563497e-077   1.23305833e-078   2.24436597e-080\n",
      "   3.91095359e-082   6.52455027e-084   1.04207130e-085   1.59339416e-087\n",
      "   2.33253378e-089   3.26897497e-091   4.38605610e-093   5.63398521e-095\n",
      "   6.92845109e-097   8.15709542e-099   9.19419822e-101   9.92135789e-103\n",
      "   1.02496091e-104   1.01373029e-106   9.59878970e-109   8.70140661e-111\n",
      "   7.55164183e-113   6.27440051e-115   4.99093627e-117   3.80076260e-119\n",
      "   2.77101194e-121   1.93412699e-123   1.29244034e-125   8.26827587e-128\n",
      "   5.06405420e-130   2.96934504e-132   1.66687073e-134   8.95822789e-137\n",
      "   4.60915408e-139   2.27038381e-141   1.07067156e-143   4.83383907e-146\n",
      "   2.08933001e-148   8.64571327e-151   3.42510231e-153   1.29904801e-155\n",
      "   4.71689045e-158   1.63970345e-160   5.45699761e-163   1.73868597e-165\n",
      "   5.30355981e-168   1.54879067e-170   4.33008989e-173   1.15899092e-175\n",
      "   2.96990178e-178   7.28589778e-181   1.71120876e-183   3.84770571e-186\n",
      "   8.28284692e-189   1.70701114e-191   3.36799943e-194   6.36189646e-197\n",
      "   1.15048277e-199   1.99183138e-202   3.30144418e-205   5.23882968e-208\n",
      "   7.95872563e-211   1.15752857e-213   1.61175431e-216   2.14854718e-219\n",
      "   2.74201535e-222   3.35022367e-225   3.91883210e-228   4.38852366e-231]\n"
     ]
    }
   ],
   "source": [
    "# 流入元がBの標本\n",
    "n = sum(b)\n",
    "p = b[0]/n\n",
    "std = np.sqrt(p*(1-p)/n)\n",
    "y_b = scipy.stats.norm.pdf(x, p, std)"
   ]
  },
  {
   "cell_type": "code",
   "execution_count": 26,
   "metadata": {},
   "outputs": [
    {
     "data": {
      "text/plain": [
       "<matplotlib.text.Text at 0x1129aa518>"
      ]
     },
     "execution_count": 26,
     "metadata": {},
     "output_type": "execute_result"
    },
    {
     "data": {
      "image/png": "[encoded data removed]",
      "text/plain": [
       "<matplotlib.figure.Figure at 0x1126679b0>"
      ]
     },
     "metadata": {},
     "output_type": "display_data"
    }
   ],
   "source": [
    "plt.figure(figsize=(7 , 2))\n",
    "plt.plot(x, y_a, label = 'Sample A')\n",
    "plt.plot(x, y_b, label = 'Sample B')\n",
    "plt.legend(loc='best')\n",
    "plt.xlabel('新規ユーザーの継続率')\n",
    "plt.ylabel('尤度')"
   ]
  },
  {
   "cell_type": "code",
   "execution_count": 29,
   "metadata": {},
   "outputs": [
    {
     "name": "stdout",
     "output_type": "stream",
     "text": [
      "0.694254736449\n"
     ]
    }
   ],
   "source": [
    "_, p_value, _, _= scipy.stats.chi2_contingency([a, b])\n",
    "print(p_value)"
   ]
  },
  {
   "cell_type": "markdown",
   "metadata": {},
   "source": [
    "繰り返し検定をしてしまう\n",
    "-------------------"
   ]
  },
  {
   "cell_type": "code",
   "execution_count": 43,
   "metadata": {},
   "outputs": [
    {
     "data": {
      "text/plain": [
       "<matplotlib.text.Text at 0x1125cfe10>"
      ]
     },
     "execution_count": 43,
     "metadata": {},
     "output_type": "execute_result"
    },
    {
     "data": {
      "image/png": "[encoded data removed]",
      "text/plain": [
       "<matplotlib.figure.Figure at 0x11285d048>"
      ]
     },
     "metadata": {},
     "output_type": "display_data"
    }
   ],
   "source": [
    "mu = 0.5\n",
    "# ベルヌーイ分布\n",
    "init_sample = list(scipy.stats.bernoulli.rvs(mu, size=20))\n",
    "\n",
    "sample = init_sample\n",
    "p_value_history = []\n",
    "for i in range(200):\n",
    "    # 直近20回の結果を使って検定\n",
    "    _, p_value = scipy.stats.ttest_1samp(sample[-20:], 0.5)\n",
    "    p_value_history.append(p_value)\n",
    "    # 新たにコインを投げて結果を保持\n",
    "    sample.append(scipy.stats.bernoulli.rvs(mu))\n",
    "    \n",
    "plt.figure(figsize=(10, 4))\n",
    "plt.plot(p_value_history)\n",
    "plt.xlabel('Test Epoch')\n",
    "plt.ylabel('p値')"
   ]
  },
  {
   "cell_type": "markdown",
   "metadata": {},
   "source": [
    "有意差とビジネスインパクト\n",
    "---------------------"
   ]
  },
  {
   "cell_type": "code",
   "execution_count": 47,
   "metadata": {
    "collapsed": true
   },
   "outputs": [],
   "source": [
    "max_sample = 3000000\n",
    "# 標本A 平均: 45.1%\n",
    "a = scipy.stats.bernoulli.rvs(0.451, size=max_sample)\n",
    "# 標本B 平均: 45.2%\n",
    "b = scipy.stats.bernoulli.rvs(0.452, size=max_sample)\n",
    "p_values = []\n",
    "# 5000づつ標本サイズを増やして検定を行う\n",
    "sample_sizes = np.arange(1000, max_sample, 5000)\n",
    "for sample_size in sample_sizes:\n",
    "    _, p_value = scipy"
   ]
  }
 ],
 "metadata": {
  "kernelspec": {
   "display_name": "Python 3",
   "language": "python",
   "name": "python3"
  },
  "language_info": {
   "codemirror_mode": {
    "name": "ipython",
    "version": 3
   },
   "file_extension": ".py",
   "mimetype": "text/x-python",
   "name": "python",
   "nbconvert_exporter": "python",
   "pygments_lexer": "ipython3",
   "version": "3.6.0"
  }
 },
 "nbformat": 4,
 "nbformat_minor": 2
}
