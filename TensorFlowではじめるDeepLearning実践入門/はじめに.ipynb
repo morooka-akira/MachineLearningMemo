{
 "cells": [
  {
   "cell_type": "markdown",
   "metadata": {},
   "source": [
    "サンプルソース\n",
    "-----------------\n",
    "\n",
    "https://github.com/thinkitcojp/TensorFlowDL-samples"
   ]
  },
  {
   "cell_type": "markdown",
   "metadata": {},
   "source": [
    "TensorFlowとは\n",
    "---------------\n",
    "- Define & Run形式\n",
    "- 分散のプラットフォームができている\n",
    "- サーバーで使うときはdockerを使うと便利(nvidia-docker)\n",
    "\n",
    "Define & runのメリット\n",
    "---------------\n",
    "- リソースの効率化\n",
    "- 実行計画の最適化ができる"
   ]
  },
  {
   "cell_type": "code",
   "execution_count": 3,
   "metadata": {},
   "outputs": [],
   "source": [
    "import tensorflow as tf"
   ]
  },
  {
   "cell_type": "markdown",
   "metadata": {},
   "source": [
    "### tf.Variableとtf.constant\n",
    "- Variableは変数\n",
    "- constantは定数\n",
    "\n",
    "### サンプル"
   ]
  },
  {
   "cell_type": "code",
   "execution_count": 28,
   "metadata": {},
   "outputs": [
    {
     "name": "stdout",
     "output_type": "stream",
     "text": [
      "8\n",
      "12\n",
      "18\n",
      "24\n"
     ]
    }
   ],
   "source": [
    "# constantは定数\n",
    "a = tf.constant(3, name=\"const1\")\n",
    "# Variableは変数(objectも可)\n",
    "# 名前を指定しなくてもよい\n",
    "b = tf.Variable(1, name=\"val1\")\n",
    "# 加算\n",
    "add = tf.add(a, b)\n",
    "# 変数bに代入\n",
    "# assignは代入する関数\n",
    "assign = tf.assign(b, add)\n",
    "# プレースホルダ\n",
    "c = tf.placeholder(tf.int32, name=\"input\")\n",
    "#掛け算\n",
    "mul = tf.multiply(assign, c)\n",
    "# 変数の初期化\n",
    "# 多分これで変数名と代入するキーの紐付けをしてるのでは?\n",
    "init = tf.global_variables_initializer()\n",
    "with tf.Session() as sess:\n",
    "    sess.run(init)\n",
    "    print(sess.run(mul, feed_dict={c:2}))\n",
    "    # aも入れることができる\n",
    "    print(sess.run(mul, feed_dict={a:2, c:2}))"
   ]
  },
  {
   "cell_type": "code",
   "execution_count": 22,
   "metadata": {},
   "outputs": [
    {
     "name": "stdout",
     "output_type": "stream",
     "text": [
      "3\n",
      "6\n",
      "9\n"
     ]
    }
   ],
   "source": [
    "a = tf.constant(3, name='const1')\n",
    "b = tf.Variable(0, name='val1')\n",
    "add = tf.add(a, b)\n",
    "c = tf.placeholder(tf.int32, name=\"input\")\n",
    "assign = tf.assign(b, add)\n",
    "mul = tf.multiply(assign, c)\n",
    "\n",
    "init = tf.global_variables_initializer() #変数の初期化！！\n",
    "with tf.Session() as sess:\n",
    "    sess.run(init)\n",
    "    print(sess.run(mul, feed_dict={c:1}))\n",
    "    print(sess.run(mul, feed_dict={c:1})) #assignで変数bに値が蓄積されていくので値が変わっていく\n",
    "    print(sess.run(mul, feed_dict={c:1}))"
   ]
  },
  {
   "cell_type": "markdown",
   "metadata": {},
   "source": [
    "## テンソルボード"
   ]
  },
  {
   "cell_type": "code",
   "execution_count": 24,
   "metadata": {},
   "outputs": [
    {
     "name": "stdout",
     "output_type": "stream",
     "text": [
      "WARNING:tensorflow:From /Users/amoro/.pyenv/versions/anaconda3-4.3.1/lib/python3.6/site-packages/tensorflow/python/util/tf_should_use.py:118: initialize_all_variables (from tensorflow.python.ops.variables) is deprecated and will be removed after 2017-03-02.\n",
      "Instructions for updating:\n",
      "Use `tf.global_variables_initializer` instead.\n",
      "36\n"
     ]
    },
    {
     "data": {
      "text/html": [
       "\n",
       "        <iframe seamless style=\"width:1200px;height:620px;border:0\" srcdoc=\"\n",
       "        <script>\n",
       "          function load() {\n",
       "            document.getElementById(&quot;graph0.7992181684854169&quot;).pbtxt = 'node {\\n  name: &quot;Placeholder&quot;\\n  op: &quot;Placeholder&quot;\\n  attr {\\n    key: &quot;dtype&quot;\\n    value {\\n      type: DT_INT32\\n    }\\n  }\\n  attr {\\n    key: &quot;shape&quot;\\n    value {\\n      shape {\\n        unknown_rank: true\\n      }\\n    }\\n  }\\n}\\nnode {\\n  name: &quot;Placeholder_1&quot;\\n  op: &quot;Placeholder&quot;\\n  attr {\\n    key: &quot;dtype&quot;\\n    value {\\n      type: DT_INT32\\n    }\\n  }\\n  attr {\\n    key: &quot;shape&quot;\\n    value {\\n      shape {\\n        unknown_rank: true\\n      }\\n    }\\n  }\\n}\\nnode {\\n  name: &quot;Add&quot;\\n  op: &quot;Add&quot;\\n  input: &quot;Placeholder&quot;\\n  input: &quot;Placeholder_1&quot;\\n  attr {\\n    key: &quot;T&quot;\\n    value {\\n      type: DT_INT32\\n    }\\n  }\\n}\\nnode {\\n  name: &quot;Variable/initial_value&quot;\\n  op: &quot;Const&quot;\\n  attr {\\n    key: &quot;dtype&quot;\\n    value {\\n      type: DT_INT32\\n    }\\n  }\\n  attr {\\n    key: &quot;value&quot;\\n    value {\\n      tensor {\\n        dtype: DT_INT32\\n        tensor_shape {\\n        }\\n        int_val: 20\\n      }\\n    }\\n  }\\n}\\nnode {\\n  name: &quot;Variable&quot;\\n  op: &quot;VariableV2&quot;\\n  attr {\\n    key: &quot;container&quot;\\n    value {\\n      s: &quot;&quot;\\n    }\\n  }\\n  attr {\\n    key: &quot;dtype&quot;\\n    value {\\n      type: DT_INT32\\n    }\\n  }\\n  attr {\\n    key: &quot;shape&quot;\\n    value {\\n      shape {\\n      }\\n    }\\n  }\\n  attr {\\n    key: &quot;shared_name&quot;\\n    value {\\n      s: &quot;&quot;\\n    }\\n  }\\n}\\nnode {\\n  name: &quot;Variable/Assign&quot;\\n  op: &quot;Assign&quot;\\n  input: &quot;Variable&quot;\\n  input: &quot;Variable/initial_value&quot;\\n  attr {\\n    key: &quot;T&quot;\\n    value {\\n      type: DT_INT32\\n    }\\n  }\\n  attr {\\n    key: &quot;_class&quot;\\n    value {\\n      list {\\n        s: &quot;loc:@Variable&quot;\\n      }\\n    }\\n  }\\n  attr {\\n    key: &quot;use_locking&quot;\\n    value {\\n      b: true\\n    }\\n  }\\n  attr {\\n    key: &quot;validate_shape&quot;\\n    value {\\n      b: true\\n    }\\n  }\\n}\\nnode {\\n  name: &quot;Variable/read&quot;\\n  op: &quot;Identity&quot;\\n  input: &quot;Variable&quot;\\n  attr {\\n    key: &quot;T&quot;\\n    value {\\n      type: DT_INT32\\n    }\\n  }\\n  attr {\\n    key: &quot;_class&quot;\\n    value {\\n      list {\\n        s: &quot;loc:@Variable&quot;\\n      }\\n    }\\n  }\\n}\\nnode {\\n  name: &quot;Assign&quot;\\n  op: &quot;Assign&quot;\\n  input: &quot;Variable&quot;\\n  input: &quot;Add&quot;\\n  attr {\\n    key: &quot;T&quot;\\n    value {\\n      type: DT_INT32\\n    }\\n  }\\n  attr {\\n    key: &quot;_class&quot;\\n    value {\\n      list {\\n        s: &quot;loc:@Variable&quot;\\n      }\\n    }\\n  }\\n  attr {\\n    key: &quot;use_locking&quot;\\n    value {\\n      b: true\\n    }\\n  }\\n  attr {\\n    key: &quot;validate_shape&quot;\\n    value {\\n      b: true\\n    }\\n  }\\n}\\nnode {\\n  name: &quot;Mul&quot;\\n  op: &quot;Mul&quot;\\n  input: &quot;Add&quot;\\n  input: &quot;Assign&quot;\\n  attr {\\n    key: &quot;T&quot;\\n    value {\\n      type: DT_INT32\\n    }\\n  }\\n}\\nnode {\\n  name: &quot;init&quot;\\n  op: &quot;NoOp&quot;\\n  input: &quot;^Variable/Assign&quot;\\n}\\nnode {\\n  name: &quot;init_1&quot;\\n  op: &quot;NoOp&quot;\\n  input: &quot;^Variable/Assign&quot;\\n}\\n';\n",
       "          }\n",
       "        </script>\n",
       "        <link rel=&quot;import&quot; href=&quot;https://tensorboard.appspot.com/tf-graph-basic.build.html&quot; onload=load()>\n",
       "        <div style=&quot;height:600px&quot;>\n",
       "          <tf-graph-basic id=&quot;graph0.7992181684854169&quot;></tf-graph-basic>\n",
       "        </div>\n",
       "    \"></iframe>\n",
       "    "
      ],
      "text/plain": [
       "<IPython.core.display.HTML object>"
      ]
     },
     "metadata": {},
     "output_type": "display_data"
    }
   ],
   "source": [
    "#インライン　テンソルボード\n",
    "from IPython.display import clear_output, Image, display, HTML\n",
    "import numpy as np\n",
    "\n",
    "def strip_consts(graph_def, max_const_size=32):\n",
    "    \"\"\"Strip large constant values from graph_def.\"\"\"\n",
    "    strip_def = tf.GraphDef()\n",
    "    for n0 in graph_def.node:\n",
    "        n = strip_def.node.add() \n",
    "        n.MergeFrom(n0)\n",
    "        if n.op == 'Const':\n",
    "            tensor = n.attr['value'].tensor\n",
    "            size = len(tensor.tensor_content)\n",
    "            if size > max_const_size:\n",
    "                tensor.tensor_content = \"<stripped %d bytes>\"%size\n",
    "    return strip_def\n",
    "\n",
    "def show_graph(graph_def, max_const_size=32):\n",
    "    \"\"\"Visualize TensorFlow graph.\"\"\"\n",
    "    if hasattr(graph_def, 'as_graph_def'):\n",
    "        graph_def = graph_def.as_graph_def()\n",
    "    strip_def = strip_consts(graph_def, max_const_size=max_const_size)\n",
    "    code = \"\"\"\n",
    "        <script>\n",
    "          function load() {{\n",
    "            document.getElementById(\"{id}\").pbtxt = {data};\n",
    "          }}\n",
    "        </script>\n",
    "        <link rel=\"import\" href=\"https://tensorboard.appspot.com/tf-graph-basic.build.html\" onload=load()>\n",
    "        <div style=\"height:600px\">\n",
    "          <tf-graph-basic id=\"{id}\"></tf-graph-basic>\n",
    "        </div>\n",
    "    \"\"\".format(data=repr(str(strip_def)), id='graph'+str(np.random.rand()))\n",
    "\n",
    "    iframe = \"\"\"\n",
    "        <iframe seamless style=\"width:1200px;height:620px;border:0\" srcdoc=\"{}\"></iframe>\n",
    "    \"\"\".format(code.replace('\"', '&quot;'))\n",
    "    display(HTML(iframe))\n",
    "    \n",
    "#セッション上の計算グラフをクリア\n",
    "tf.reset_default_graph()\n",
    "#=====================\n",
    "h1 = tf.placeholder(tf.int32)\n",
    "h2 = tf.placeholder(tf.int32)\n",
    "# add_op = h1+h2\n",
    "#5+1=6\n",
    "add_op = tf.add(h1, h2)\n",
    "var1 = tf.Variable(20) \n",
    "#update_var1 = add_op\n",
    "#var1 = add_op\n",
    "update_var1 = tf.assign(var1, add_op) \n",
    "#6*6\n",
    "# mul_op = add_op * update_var1\n",
    "mul_op = tf.multiply(add_op, update_var1)\n",
    "\n",
    "init = tf.global_variables_initializer()\n",
    "with tf.Session() as sess:\n",
    "    sess.run(tf.initialize_all_variables())\n",
    "    result = sess.run(mul_op, feed_dict={h1:5, h2:1})\n",
    "    print(result)\n",
    "    show_graph(tf.get_default_graph().as_graph_def()) # show graph"
   ]
  },
  {
   "cell_type": "markdown",
   "metadata": {},
   "source": [
    "### tf.placeholder()\n",
    "- 宣言時には値が分からないもの\n",
    "\n",
    "```\n",
    "assign = tf.assign(b, add)\n",
    "c = tf.placeholder(tf.int32, name=\"input\")\n",
    "mul = tf.mul(d, e)\n",
    "```\n",
    "\n",
    "- 初期化時に型だけ決めておき実行時にdictionary型で実際の値を与える"
   ]
  },
  {
   "cell_type": "markdown",
   "metadata": {},
   "source": [
    "### 変数の初期化\n",
    "- tf.global_variables_initializerで初期化する"
   ]
  },
  {
   "cell_type": "markdown",
   "metadata": {},
   "source": [
    "### tf.Session()で実行する\n"
   ]
  },
  {
   "cell_type": "markdown",
   "metadata": {},
   "source": [
    "### tf.reduce_mean()\n",
    "- テンソルの平均値を計算する\n",
    "- numpyのnp.mean()と同じ\n",
    "- 第２引数にaxisをとる"
   ]
  },
  {
   "cell_type": "code",
   "execution_count": 24,
   "metadata": {},
   "outputs": [
    {
     "name": "stdout",
     "output_type": "stream",
     "text": [
      "[[1.0, 2.0, 3.0], [4.0, 5.0, 6.0]]\n",
      "[2.5 3.5 4.5]\n",
      "[2. 5.]\n",
      "3.5\n"
     ]
    }
   ],
   "source": [
    "import tensorflow as tf\n",
    "\n",
    "a = [[1., 2., 3.], [4., 5., 6.]]\n",
    "\n",
    "x = tf.placeholder(tf.float32, [2, 3])\n",
    "y_1 = tf.reduce_mean(x, axis=0)\n",
    "y_2 = tf.reduce_mean(x, axis=1)\n",
    "y_3 = tf.reduce_mean(x)\n",
    "\n",
    "with tf.Session() as sess:\n",
    "    print(a)\n",
    "    print(sess.run(y_1, feed_dict={x: a}))\n",
    "    print(sess.run(y_2, feed_dict={x: a}))\n",
    "    print(sess.run(y_3, feed_dict={x: a}))"
   ]
  },
  {
   "cell_type": "markdown",
   "metadata": {},
   "source": [
    "- axis(軸)が0だと列に対して平均値を出す\n",
    "- axis(軸)が1だと行に対して平均値を出す\n",
    "- axis(軸)が指定なしだと全ての値の平均値をだす"
   ]
  },
  {
   "cell_type": "markdown",
   "metadata": {},
   "source": [
    "MNISTを使った入門\n",
    "----------------------"
   ]
  },
  {
   "cell_type": "code",
   "execution_count": 31,
   "metadata": {},
   "outputs": [],
   "source": [
    "import pandas as pd\n",
    "# mnistはtensorflowにあるexampleを使う\n",
    "# (バイナリからベクトルに変換するのが大変なので)\n",
    "from tensorflow.examples.tutorials.mnist import input_data\n",
    "import tensorflow as tf"
   ]
  },
  {
   "cell_type": "code",
   "execution_count": 32,
   "metadata": {},
   "outputs": [
    {
     "name": "stdout",
     "output_type": "stream",
     "text": [
      "Extracting data/train-images-idx3-ubyte.gz\n",
      "Extracting data/train-labels-idx1-ubyte.gz\n",
      "Extracting data/t10k-images-idx3-ubyte.gz\n",
      "Extracting data/t10k-labels-idx1-ubyte.gz\n"
     ]
    }
   ],
   "source": [
    "# mnistデータを格納したオブジェクトを呼び出す\n",
    "# 第一引数で指定したディレクトリにダウンロードされる\n",
    "# one_hotとは0か1かどちらかのデータ\n",
    "mnist = input_data.read_data_sets(\"data/\", one_hot=True)\n",
    "\n",
    "# 全訓練データの取得\n",
    "\n",
    "# 訓練用の入力データ、正解データをミニバッチ数を指定して取得\n",
    "train_images, train_labels = mnist.train.next_batch(50)\n",
    "\n",
    "# テスト用の全画像データを取得\n",
    "test_images = mnist.test.images\n",
    "# テスト用の全正解データを取得\n",
    "test_labels = mnist.test.labels"
   ]
  },
  {
   "cell_type": "markdown",
   "metadata": {},
   "source": [
    "### 順伝播"
   ]
  },
  {
   "cell_type": "code",
   "execution_count": 33,
   "metadata": {
    "collapsed": true
   },
   "outputs": [],
   "source": [
    "# 入力データを定義\n",
    "\n",
    "# モデル構築時にどの画像を渡すか決められないので、tf.placeholder()を使って実行時に引数で渡す\n",
    "# 画素値は正規化してあるため浮動小数点=>float32\n",
    "# 入力は[ミニバッチサイズ、１枚の画像の画素数]\n",
    "## Noneに指定するのは、入力時に自動で計算するため値はなんでもいいという意味\n",
    "x = tf.placeholder(tf.float32, [None, 784])"
   ]
  },
  {
   "cell_type": "code",
   "execution_count": 34,
   "metadata": {
    "collapsed": true
   },
   "outputs": [],
   "source": [
    "# 入力層から中間層\n",
    "\n",
    "# 中間層のユニット数は64にする\n",
    "# 64という数字は、経験則\n",
    "# 層が多すぎる場合は、過学習になる(drop_out)\n",
    "# 学習パラメタ、バイアスともに確率勾配法を用いてアップデートされる変数なのでtf.Variableで宣言\n",
    "w_1 = tf.Variable(tf.truncated_normal([784, 64], stddev=0.1), name=\"w1\")\n",
    "# バイアスはしきい値\n",
    "b_1 = tf.Variable(tf.zeros([64]), name=\"b1\")\n",
    "h_1 = tf.nn.relu(tf.matmul(x, w_1) + b_1)"
   ]
  },
  {
   "cell_type": "markdown",
   "metadata": {},
   "source": [
    "- truncated_normalは正規分布をもとに指定したshapeの値を自動生成するオペレーション\n",
    "    - ニューラルネットワークの重みを初期化するときには基本的にこれを使用する\n",
    "- tf.Variable(tf.zeros([64]), name=\"b1\")\n",
    "    - バイアスは一般的に0で初期化する\n",
    "    - shapeが合わないがブロードキャスティング機能で演算されるため問題ない\n",
    "        - ※ブロードキャスティング機能: shapeが合わないテンソル同士の演算で階層が多い方のshapeに合わせて上手く演算してくれる\n",
    "- tf.matmul(x, w_1)で行列の積を出しReLUにかける"
   ]
  },
  {
   "cell_type": "code",
   "execution_count": 35,
   "metadata": {
    "collapsed": true
   },
   "outputs": [],
   "source": [
    "# 中間層から出力層\n",
    "\n",
    "w_2 = tf.Variable(tf.truncated_normal([64, 10], stddev=0.1), name=\"w2\")\n",
    "b_2 = tf.Variable(tf.zeros([10]), name=\"b2\")\n",
    "out = tf.nn.softmax(tf.matmul(h_1, w_2) + b_2)"
   ]
  },
  {
   "cell_type": "markdown",
   "metadata": {},
   "source": [
    "### 誤差関数、訓練"
   ]
  },
  {
   "cell_type": "code",
   "execution_count": 36,
   "metadata": {
    "collapsed": true
   },
   "outputs": [],
   "source": [
    "# 正解ラベルも実行時に渡せるようにplaceholderにする\n",
    "y = tf.placeholder(tf.float32, [None, 10])\n",
    "# 二乗誤差関数を採用\n",
    "loss = tf.reduce_mean(tf.square(y - out))"
   ]
  },
  {
   "cell_type": "code",
   "execution_count": 40,
   "metadata": {
    "collapsed": true
   },
   "outputs": [],
   "source": [
    "# 訓練\n",
    "train_step = tf.train.GradientDescentOptimizer(0.5).minimize(loss)"
   ]
  },
  {
   "cell_type": "markdown",
   "metadata": {},
   "source": [
    "- GradientDescentOptimizerは確率的勾配降下法の実装オペレーション\n",
    "    - 引数の0.5は学習率を表す\n",
    "    - 学習率は非常に重要"
   ]
  },
  {
   "cell_type": "code",
   "execution_count": 41,
   "metadata": {
    "collapsed": true
   },
   "outputs": [],
   "source": [
    "# 評価\n",
    "# 一番高い数値の配列のindexが等しければ正解とみなしている\n",
    "correct = tf.equal(tf.argmax(out, 1), tf.argmax(y, 1))\n",
    "# castでfloatに変換している\n",
    "accuracy = tf.reduce_mean(tf.cast(correct, tf.float32))"
   ]
  },
  {
   "cell_type": "markdown",
   "metadata": {},
   "source": [
    "- tf.argmaxで正解データと出力データで一番大きな値を求める\n",
    "    - 引数1はaxisのため行に対して最大値を求めている\n",
    "- tf.equalで同じラベルを指しているかを判定する\n",
    "- Trueの割合を求めることで正解率を出している"
   ]
  },
  {
   "cell_type": "code",
   "execution_count": 42,
   "metadata": {
    "collapsed": true
   },
   "outputs": [],
   "source": [
    "# 変数の初期化\n",
    "init = tf.global_variables_initializer()"
   ]
  },
  {
   "cell_type": "markdown",
   "metadata": {},
   "source": [
    "### 実行"
   ]
  },
  {
   "cell_type": "code",
   "execution_count": 45,
   "metadata": {},
   "outputs": [
    {
     "name": "stdout",
     "output_type": "stream",
     "text": [
      "Step 10: accuracy = 0.11\n",
      "Step 20: accuracy = 0.16\n",
      "Step 30: accuracy = 0.21\n",
      "Step 40: accuracy = 0.27\n",
      "Step 50: accuracy = 0.33\n",
      "Step 60: accuracy = 0.37\n",
      "Step 70: accuracy = 0.39\n",
      "Step 80: accuracy = 0.42\n",
      "Step 90: accuracy = 0.43\n",
      "Step 100: accuracy = 0.45\n",
      "Step 110: accuracy = 0.46\n",
      "Step 120: accuracy = 0.47\n",
      "Step 130: accuracy = 0.48\n",
      "Step 140: accuracy = 0.5\n",
      "Step 150: accuracy = 0.51\n",
      "Step 160: accuracy = 0.53\n",
      "Step 170: accuracy = 0.55\n",
      "Step 180: accuracy = 0.59\n",
      "Step 190: accuracy = 0.61\n",
      "Step 200: accuracy = 0.63\n",
      "Step 210: accuracy = 0.65\n",
      "Step 220: accuracy = 0.65\n",
      "Step 230: accuracy = 0.68\n",
      "Step 240: accuracy = 0.69\n",
      "Step 250: accuracy = 0.72\n",
      "Step 260: accuracy = 0.73\n",
      "Step 270: accuracy = 0.74\n",
      "Step 280: accuracy = 0.75\n",
      "Step 290: accuracy = 0.76\n",
      "Step 300: accuracy = 0.77\n",
      "Step 310: accuracy = 0.78\n",
      "Step 320: accuracy = 0.8\n",
      "Step 330: accuracy = 0.8\n",
      "Step 340: accuracy = 0.81\n",
      "Step 350: accuracy = 0.82\n",
      "Step 360: accuracy = 0.82\n",
      "Step 370: accuracy = 0.82\n",
      "Step 380: accuracy = 0.82\n",
      "Step 390: accuracy = 0.83\n",
      "Step 400: accuracy = 0.83\n",
      "Step 410: accuracy = 0.84\n",
      "Step 420: accuracy = 0.84\n",
      "Step 430: accuracy = 0.84\n",
      "Step 440: accuracy = 0.84\n",
      "Step 450: accuracy = 0.84\n",
      "Step 460: accuracy = 0.85\n",
      "Step 470: accuracy = 0.85\n",
      "Step 480: accuracy = 0.86\n",
      "Step 490: accuracy = 0.85\n",
      "Step 500: accuracy = 0.85\n",
      "Step 510: accuracy = 0.86\n",
      "Step 520: accuracy = 0.86\n",
      "Step 530: accuracy = 0.86\n",
      "Step 540: accuracy = 0.86\n",
      "Step 550: accuracy = 0.86\n",
      "Step 560: accuracy = 0.87\n",
      "Step 570: accuracy = 0.87\n",
      "Step 580: accuracy = 0.87\n",
      "Step 590: accuracy = 0.87\n",
      "Step 600: accuracy = 0.87\n",
      "Step 610: accuracy = 0.87\n",
      "Step 620: accuracy = 0.87\n",
      "Step 630: accuracy = 0.87\n",
      "Step 640: accuracy = 0.88\n",
      "Step 650: accuracy = 0.87\n",
      "Step 660: accuracy = 0.88\n",
      "Step 670: accuracy = 0.87\n",
      "Step 680: accuracy = 0.88\n",
      "Step 690: accuracy = 0.88\n",
      "Step 700: accuracy = 0.88\n",
      "Step 710: accuracy = 0.88\n",
      "Step 720: accuracy = 0.88\n",
      "Step 730: accuracy = 0.88\n",
      "Step 740: accuracy = 0.88\n",
      "Step 750: accuracy = 0.88\n",
      "Step 760: accuracy = 0.88\n",
      "Step 770: accuracy = 0.88\n",
      "Step 780: accuracy = 0.89\n",
      "Step 790: accuracy = 0.88\n",
      "Step 800: accuracy = 0.88\n",
      "Step 810: accuracy = 0.89\n",
      "Step 820: accuracy = 0.89\n",
      "Step 830: accuracy = 0.89\n",
      "Step 840: accuracy = 0.89\n",
      "Step 850: accuracy = 0.89\n",
      "Step 860: accuracy = 0.89\n",
      "Step 870: accuracy = 0.89\n",
      "Step 880: accuracy = 0.89\n",
      "Step 890: accuracy = 0.89\n",
      "Step 900: accuracy = 0.89\n",
      "Step 910: accuracy = 0.89\n",
      "Step 920: accuracy = 0.89\n",
      "Step 930: accuracy = 0.89\n",
      "Step 940: accuracy = 0.89\n",
      "Step 950: accuracy = 0.89\n",
      "Step 960: accuracy = 0.89\n",
      "Step 970: accuracy = 0.89\n",
      "Step 980: accuracy = 0.89\n",
      "Step 990: accuracy = 0.89\n",
      "Step 1000: accuracy = 0.89\n"
     ]
    }
   ],
   "source": [
    "with tf.Session() as sess:\n",
    "    sess.run(init)\n",
    "    \n",
    "    #　テストデータのロード\n",
    "    test_images = mnist.test.images\n",
    "    test_labels = mnist.test.labels\n",
    "    \n",
    "    for i in range(1000):\n",
    "        step = i + 1\n",
    "        train_images, train_labels = mnist.train.next_batch(50)\n",
    "        # 学習\n",
    "        sess.run(train_step, feed_dict={x: train_images, y: train_labels})\n",
    "       \n",
    "        # 10stepごとに評価もする\n",
    "        if step % 10 == 0:\n",
    "            acc_val = sess.run(accuracy, feed_dict={x: test_images, y: test_labels})\n",
    "            print(\"Step {:d}: accuracy = {:.2}\".format(step, acc_val))"
   ]
  },
  {
   "cell_type": "markdown",
   "metadata": {},
   "source": [
    "Tenserbord\n",
    "------------------\n",
    "- 構築した計算グラフを可視化するためのツール"
   ]
  },
  {
   "cell_type": "markdown",
   "metadata": {
    "collapsed": true
   },
   "source": [
    "### Tenserbordで取得できるログ\n",
    "- 精度などのスカラー値の推移を可視化したScalars\n",
    "- 入力や加工された画像データを可視化するImages\n",
    "- 音声情報を扱うAudio\n",
    "- 構築された計算グラフを可視化するGraphs\n",
    "- 重みなどの分布情報の推移を可視化するHistograms/Distributions\n",
    "- 高次元データを空間上に埋め込んで可視化するEmbedding\n",
    "- 文章情報を扱うText"
   ]
  },
  {
   "cell_type": "markdown",
   "metadata": {},
   "source": [
    "### TensorBordでログを見るまでのプロセス\n",
    "- モデル構築時に必要なところでログを取得するオペレーションを記載\n",
    "- 全てログを配置し終わったら、そのログをマージするオペレーションを記載\n",
    "- `tf.summary.FileWriter`を呼び出してログの出力先と対象グラフを指定する\n",
    "- ログを取得するds"
   ]
  }
 ],
 "metadata": {
  "kernelspec": {
   "display_name": "Python 3",
   "language": "python",
   "name": "python3"
  },
  "language_info": {
   "codemirror_mode": {
    "name": "ipython",
    "version": 3
   },
   "file_extension": ".py",
   "mimetype": "text/x-python",
   "name": "python",
   "nbconvert_exporter": "python",
   "pygments_lexer": "ipython3",
   "version": "3.6.0"
  }
 },
 "nbformat": 4,
 "nbformat_minor": 2
}
