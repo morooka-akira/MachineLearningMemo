{
 "cells": [
  {
   "cell_type": "markdown",
   "metadata": {},
   "source": [
    "### 元のサンプルソース\n",
    "https://github.com/thinkitcojp/TensorFlowDL-samples/blob/master/board/mnist.py\n"
   ]
  },
  {
   "cell_type": "code",
   "execution_count": 22,
   "metadata": {},
   "outputs": [],
   "source": [
    "from tensorflow.examples.tutorials.mnist import input_data\n",
    "import tensorflow as tf"
   ]
  },
  {
   "cell_type": "code",
   "execution_count": 5,
   "metadata": {},
   "outputs": [
    {
     "name": "stdout",
     "output_type": "stream",
     "text": [
      "Successfully downloaded train-images-idx3-ubyte.gz 9912422 bytes.\n",
      "Extracting data/train-images-idx3-ubyte.gz\n",
      "Successfully downloaded train-labels-idx1-ubyte.gz 28881 bytes.\n",
      "Extracting data/train-labels-idx1-ubyte.gz\n",
      "Successfully downloaded t10k-images-idx3-ubyte.gz 1648877 bytes.\n",
      "Extracting data/t10k-images-idx3-ubyte.gz\n",
      "Successfully downloaded t10k-labels-idx1-ubyte.gz 4542 bytes.\n",
      "Extracting data/t10k-labels-idx1-ubyte.gz\n"
     ]
    }
   ],
   "source": [
    "# tensorflowのメソッド経由でmnistのデータを取得しオブジェクトに格納する\n",
    "mnist = input_data.read_data_sets(\"data/\", one_hot=True)"
   ]
  },
  {
   "cell_type": "code",
   "execution_count": 6,
   "metadata": {
    "collapsed": true
   },
   "outputs": [],
   "source": [
    "# 入力データを定義\n",
    "x = tf.placeholder(tf.float32, [None, 784])"
   ]
  },
  {
   "cell_type": "code",
   "execution_count": 7,
   "metadata": {},
   "outputs": [
    {
     "data": {
      "text/plain": [
       "<tf.Tensor 'input_data:0' shape=() dtype=string>"
      ]
     },
     "execution_count": 7,
     "metadata": {},
     "output_type": "execute_result"
    }
   ],
   "source": [
    "# 入力画像をログに出力\n",
    "img = tf.reshape(x, [-1, 28, 28, 1])\n",
    "# 第一引数: 登録名\n",
    "# 第二引数: 画像群\n",
    "# 第三引数: 最大で何枚の画像をログに記録するか\n",
    "tf.summary.image(\"input_data\", img, 10)"
   ]
  },
  {
   "cell_type": "markdown",
   "metadata": {},
   "source": [
    "- Imagesは画像を表示する機能\n",
    "    - 用途はバイナリデータの確認\n",
    "    - 回転やノイズを与えて画像を擬似的に増やすなど\n",
    "- 画像群として扱うには[ミニバッチサイズ、縦、横、チャンネル数]の4階テンソルである必要がある\n",
    "    - そのため、元画像と同じ28*28の1チャンネル画像にreshapeしている\n",
    "    - ※ 第一引数の-1はなんだ？\n",
    "- チャンネル数は1, 3, 4のいずれか\n",
    "    - 1: グレースケール\n",
    "    - 3: RGB画像\n",
    "    - 4: RGBA画像"
   ]
  },
  {
   "cell_type": "code",
   "execution_count": 12,
   "metadata": {},
   "outputs": [],
   "source": [
    "# 入力層から中間層\n",
    "with tf.name_scope(\"hidden\"):\n",
    "    w_1 = tf.Variable(tf.truncated_normal([784, 64], stddev=0.1), name=\"w1\")\n",
    "    b_1 = tf.Variable(tf.zeros([64]), name=\"b1\")\n",
    "    h_1 = tf.nn.relu(tf.matmul(x, w_1) + b_1)\n",
    "    \n",
    "    # 中間層の重み分布をログに出力\n",
    "    tf.summary.histogram('w_1', w_1)"
   ]
  },
  {
   "cell_type": "markdown",
   "metadata": {},
   "source": [
    "### name_scope\n",
    "- `tf.summary.histogram('w_1', w_1)`\n",
    "- 処理単位にブロックを分けることで計算グラフを可視化するときの粒度もこの処理単位に分けることができる"
   ]
  },
  {
   "cell_type": "code",
   "execution_count": 14,
   "metadata": {
    "collapsed": true
   },
   "outputs": [],
   "source": [
    "#中間層から出力層\n",
    "with tf.name_scope(\"output\"):\n",
    "    w_2 = tf.Variable(tf.truncated_normal([64, 10], stddev=0.1), name=\"w2\")\n",
    "    b_2 = tf.Variable(tf.zeros([10]), name=\"b2\")\n",
    "    out = tf.nn.softmax(tf.matmul(h_1, w_2) + b_2)\n",
    "    \n",
    "y = tf.placeholder(tf.float32, [None, 10])"
   ]
  },
  {
   "cell_type": "code",
   "execution_count": 15,
   "metadata": {
    "collapsed": true
   },
   "outputs": [],
   "source": [
    "#誤差関数\n",
    "with tf.name_scope(\"loss\"):    \n",
    "    loss = tf.reduce_mean(tf.square(y - out))\n",
    "\n",
    "    #誤差をログ出力\n",
    "    tf.summary.scalar(\"loss\", loss)"
   ]
  },
  {
   "cell_type": "markdown",
   "metadata": {},
   "source": [
    "### Scalars\n",
    "- `tf.summary.scalar(\"loss\", loss)`\n",
    "- 誤差や精度がどのように変化していくかのログを取得する\n",
    "- 入力はスカラ(0階テンソル)でなければならない\n",
    "\n",
    "### Histograms/Distributions\n",
    "- スカラでない値を分布として表示する場合は、tf.summary.histogramを用いる\n",
    "    - 数値データのTensorであれば何階TensorでもOK\n",
    "    - Nan値が入るとエラーになる\n",
    "- Histograms: ステップの度数分布を確認できる\n",
    "- Distributions: 確率分布を表し、その遷移を時間軸ごとに見ることができる"
   ]
  },
  {
   "cell_type": "code",
   "execution_count": 16,
   "metadata": {
    "collapsed": true
   },
   "outputs": [],
   "source": [
    "#訓練\n",
    "with tf.name_scope(\"train\"):\n",
    "    train_step = tf.train.GradientDescentOptimizer(0.5).minimize(loss)"
   ]
  },
  {
   "cell_type": "code",
   "execution_count": 17,
   "metadata": {
    "collapsed": true
   },
   "outputs": [],
   "source": [
    "#評価\n",
    "with tf.name_scope(\"accuracy\"):\n",
    "    correct = tf.equal(tf.argmax(out,1), tf.argmax(y,1))\n",
    "    accuracy = tf.reduce_mean(tf.cast(correct, tf.float32))\n",
    "\n",
    "    #精度をログ出力\n",
    "    tf.summary.scalar(\"accuracy\", accuracy)"
   ]
  },
  {
   "cell_type": "code",
   "execution_count": 18,
   "metadata": {
    "collapsed": true
   },
   "outputs": [],
   "source": [
    "#初期化\n",
    "init =tf.global_variables_initializer()\n",
    "\n",
    "summary_op = tf.summary.merge_all()"
   ]
  },
  {
   "cell_type": "markdown",
   "metadata": {},
   "source": [
    "### ログのマージ\n",
    "- 今までに仕込んだログを全てマージして、1回の実行で全てのログを取得するオペレーション\n",
    "\n",
    "```\n",
    "# 一部のログをmerge\n",
    "merge = tf.summary.merge([a, b, c])\n",
    "\n",
    "# 全てのログをマージ\n",
    "summary_op = tf.summary.merge_all()\n",
    "```"
   ]
  },
  {
   "cell_type": "code",
   "execution_count": 19,
   "metadata": {
    "collapsed": true
   },
   "outputs": [],
   "source": [
    "with tf.Session() as sess:\n",
    "    # 第一引数はログ出力対象のディレクトリ\n",
    "    summary_writer = tf.summary.FileWriter(\"logs\", sess.graph)\n",
    "\n",
    "    sess.run(init)    \n",
    "\n",
    "    #テストデータをロード    \n",
    "    test_images = mnist.test.images    \n",
    "    test_labels = mnist.test.labels    \n",
    "    \n",
    "    for step in range(1000):        \n",
    "        train_images, train_labels = mnist.train.next_batch(50)\n",
    "        sess.run(train_step, feed_dict={x:train_images ,y:train_labels})\n",
    "\n",
    "        if step % 10 == 0:\n",
    "            #ログを取る処理を実行する（出力はログ情報が書かれたプロトコルバッファ）\n",
    "            summary_str = sess.run(summary_op, feed_dict={x:test_images, y:test_labels})\n",
    "            #ログ情報のプロトコルバッファを書き込む\n",
    "            summary_writer.add_summary(summary_str, step)\n"
   ]
  },
  {
   "cell_type": "markdown",
   "metadata": {},
   "source": [
    "### ログの書き込み\n",
    "- `tf.summary.FileWriter(\"logs\", sess.graph)`\n",
    "- tf.summary.FileWriterを使うとログファイルを書き出せる\n",
    "- "
   ]
  }
 ],
 "metadata": {
  "kernelspec": {
   "display_name": "Python 3",
   "language": "python",
   "name": "python3"
  },
  "language_info": {
   "codemirror_mode": {
    "name": "ipython",
    "version": 3
   },
   "file_extension": ".py",
   "mimetype": "text/x-python",
   "name": "python",
   "nbconvert_exporter": "python",
   "pygments_lexer": "ipython3",
   "version": "3.6.0"
  }
 },
 "nbformat": 4,
 "nbformat_minor": 2
}
