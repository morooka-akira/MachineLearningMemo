{
 "cells": [
  {
   "cell_type": "markdown",
   "metadata": {},
   "source": [
    "画像キャプショニング\n",
    "-------------------\n",
    "- NIC(NeuralImageCaptioning)の代表的なモデルとして「Show and Tell」がある\n",
    "- Google社が2015年に発表したモデル\n",
    "- 画像分類のために訓練されたCNNを用いて入力画像を順伝播させ、出力層の直前の特徴を抽出してRNNへの入力とし、そのRNNがキャプションを生成する\n",
    "- 画像をCNNを用いて固定長の特徴空間にエンコードして、その特徴を出力側のRNNでデコードして画像の生成をするイメージ\n",
    "- Show and Tellではエンコーダ側のCNNは画像分類用に訓練したモデルを採用している\n",
    "    - あるドメインのタスクを元に訓練されたモデルを異なるタスクに利用することを「転移学習(Transfer Learning)」と呼ぶ\n",
    "        - キャプションを生成するために学習されたわけではなくてもよく訓練されたモデルであれば画像の特徴をうまく捉えているため活用できる\n",
    "- 自前でCNNを作成してRNNにつなげてすべてを1から学習してもうまくいかない\n",
    "    - 自前で作るにはデータ量が少なすぎる\n",
    "    - 画像と文書という異なるものを一気通貫でがく酒するのに誤差計算を行うのが文章に関する情報のみであり、過学習してしまうため\n",
    "    - エンコーダ側は事前学習したモデルを用いる"
   ]
  },
  {
   "cell_type": "markdown",
   "metadata": {},
   "source": [
    "画像キャプショニングのためのデータセット\n",
    "-------------------------------\n",
    "- 最もメジャーなものは、マイクロソフト社が提供しているMS-COCO(MichroSoft Common Objects in Context)\n",
    "    - http://cocodataset.org/ からDLできる\n",
    "    - キャプショニングだけではなく、物体認識や矩形検知、セグメンテーションなどもある"
   ]
  }
 ],
 "metadata": {
  "kernelspec": {
   "display_name": "Python 3",
   "language": "python",
   "name": "python3"
  },
  "language_info": {
   "codemirror_mode": {
    "name": "ipython",
    "version": 3
   },
   "file_extension": ".py",
   "mimetype": "text/x-python",
   "name": "python",
   "nbconvert_exporter": "python",
   "pygments_lexer": "ipython3",
   "version": "3.6.0"
  }
 },
 "nbformat": 4,
 "nbformat_minor": 2
}
