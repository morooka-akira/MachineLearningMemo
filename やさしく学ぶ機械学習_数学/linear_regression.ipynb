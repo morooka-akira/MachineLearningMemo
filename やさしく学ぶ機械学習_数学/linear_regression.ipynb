{
 "cells": [
  {
   "cell_type": "code",
   "execution_count": 2,
   "metadata": {},
   "outputs": [],
   "source": [
    "import numpy as np\n",
    "import pandas as pd\n",
    "import matplotlib.pyplot as plt\n",
    "%matplotlib inline"
   ]
  },
  {
   "cell_type": "code",
   "execution_count": 3,
   "metadata": {},
   "outputs": [],
   "source": [
    "# 学習用データの読み込み\n",
    "df = np.loadtxt('../files/click.csv', delimiter=',', skiprows=1)"
   ]
  },
  {
   "cell_type": "code",
   "execution_count": 4,
   "metadata": {},
   "outputs": [
    {
     "data": {
      "text/plain": [
       "(20, 2)"
      ]
     },
     "execution_count": 4,
     "metadata": {},
     "output_type": "execute_result"
    }
   ],
   "source": [
    "df.shape"
   ]
  },
  {
   "cell_type": "code",
   "execution_count": 5,
   "metadata": {},
   "outputs": [],
   "source": [
    "train_x = df[:, 0]\n",
    "train_y = df[:, 1]"
   ]
  },
  {
   "cell_type": "code",
   "execution_count": 6,
   "metadata": {},
   "outputs": [
    {
     "data": {
      "text/plain": [
       "[<matplotlib.lines.Line2D at 0x1202e6fd0>]"
      ]
     },
     "execution_count": 6,
     "metadata": {},
     "output_type": "execute_result"
    },
    {
     "data": {
      "image/png": "[encoded data removed]",
      "text/plain": [
       "<matplotlib.figure.Figure at 0x120257860>"
      ]
     },
     "metadata": {},
     "output_type": "display_data"
    }
   ],
   "source": [
    "plt.plot(train_x, train_y, 'o')"
   ]
  },
  {
   "cell_type": "markdown",
   "metadata": {},
   "source": [
    "１次関数での予測\n",
    "---"
   ]
  },
  {
   "cell_type": "markdown",
   "metadata": {},
   "source": [
    "### 予測関数\n",
    "$f\\theta(x) = \\theta_0 + \\theta_1x$  \n",
    "\n",
    "### 目的関数\n",
    "$\\displaystyle E(\\theta) = \\frac{1}{2}\\sum_{i=1}^n(y_i - f\\theta(x_i))^2$"
   ]
  },
  {
   "cell_type": "code",
   "execution_count": 7,
   "metadata": {},
   "outputs": [],
   "source": [
    "# パラメータを初期化(乱数)\n",
    "theta0 = np.random.rand()\n",
    "theta1 = np.random.rand()"
   ]
  },
  {
   "cell_type": "code",
   "execution_count": 8,
   "metadata": {},
   "outputs": [],
   "source": [
    "# 予測関数\n",
    "def f(x):\n",
    "    return theta0 + theta1 * x"
   ]
  },
  {
   "cell_type": "code",
   "execution_count": 10,
   "metadata": {},
   "outputs": [],
   "source": [
    "# 目的関数\n",
    "def E(x, y):\n",
    "    return 0.5 * np.sum((y - f(x)) ** 2)"
   ]
  },
  {
   "cell_type": "markdown",
   "metadata": {},
   "source": [
    "### データの標準化(正規化)\n",
    "\n",
    "$\\displaystyle z^{(i)} = \\frac{x^{(i)} - \\mu}{\\sigma}$\n",
    "- 平均を0\n",
    "- 分散を1にする"
   ]
  },
  {
   "cell_type": "code",
   "execution_count": 11,
   "metadata": {},
   "outputs": [],
   "source": [
    "# 標準化\n",
    "mu = train_x.mean()\n",
    "sigma = train_x.std()\n",
    "def standardize(x):\n",
    "    return (x - mu) / sigma"
   ]
  },
  {
   "cell_type": "code",
   "execution_count": 12,
   "metadata": {},
   "outputs": [],
   "source": [
    "train_z = standardize(train_x)"
   ]
  },
  {
   "cell_type": "code",
   "execution_count": 13,
   "metadata": {},
   "outputs": [
    {
     "data": {
      "text/plain": [
       "[<matplotlib.lines.Line2D at 0x12033ec50>]"
      ]
     },
     "execution_count": 13,
     "metadata": {},
     "output_type": "execute_result"
    },
    {
     "data": {
      "image/png": "[encoded data removed]",
      "text/plain": [
       "<matplotlib.figure.Figure at 0x120257400>"
      ]
     },
     "metadata": {},
     "output_type": "display_data"
    }
   ],
   "source": [
    "plt.plot(train_z, train_y, 'o')"
   ]
  },
  {
   "cell_type": "markdown",
   "metadata": {},
   "source": [
    "- 横軸のスケールだけが変わる"
   ]
  },
  {
   "cell_type": "markdown",
   "metadata": {},
   "source": [
    "### パラメタ更新式"
   ]
  },
  {
   "cell_type": "markdown",
   "metadata": {},
   "source": [
    "$\\displaystyle \\theta_0 := \\theta_0 - \\eta \\sum_{i=1}^n(f_\\theta(x^{i}) - y^{i})$\n",
    "\n",
    "$\\displaystyle \\theta_1 := \\theta_1 - \\eta \\sum_{i=1}^n(f_\\theta(x^{i}) - y^{i})x^{(i)}$"
   ]
  },
  {
   "cell_type": "code",
   "execution_count": 16,
   "metadata": {},
   "outputs": [],
   "source": [
    "# 学習率\n",
    "ETA = 1e-3"
   ]
  },
  {
   "cell_type": "code",
   "execution_count": 18,
   "metadata": {},
   "outputs": [],
   "source": [
    "# 誤差の差分\n",
    "diff = 1"
   ]
  },
  {
   "cell_type": "code",
   "execution_count": 19,
   "metadata": {},
   "outputs": [],
   "source": [
    "# 更新回数\n",
    "count = 0"
   ]
  },
  {
   "cell_type": "code",
   "execution_count": 20,
   "metadata": {},
   "outputs": [
    {
     "name": "stdout",
     "output_type": "stream",
     "text": [
      "1回目: theta0 = 9.157, theta1 = 2.642, 差分 = 76134.5081\n",
      "2回目: theta0 = 17.557, theta1 = 4.459, 差分 = 73119.5816\n",
      "3回目: theta0 = 25.789, theta1 = 6.239, 差分 = 70224.0461\n",
      "4回目: theta0 = 33.856, theta1 = 7.984, 差分 = 67443.1739\n",
      "5回目: theta0 = 41.762, theta1 = 9.694, 差分 = 64772.4242\n",
      "6回目: theta0 = 49.510, theta1 = 11.370, 差分 = 62207.4362\n",
      "7回目: theta0 = 57.102, theta1 = 13.012, 差分 = 59744.0218\n",
      "8回目: theta0 = 64.543, theta1 = 14.621, 差分 = 57378.1585\n",
      "9回目: theta0 = 71.835, theta1 = 16.198, 差分 = 55105.9834\n",
      "10回目: theta0 = 78.982, theta1 = 17.744, 差分 = 52923.7865\n",
      "11回目: theta0 = 85.985, theta1 = 19.259, 差分 = 50828.0045\n",
      "12回目: theta0 = 92.848, theta1 = 20.743, 差分 = 48815.2155\n",
      "13回目: theta0 = 99.574, theta1 = 22.198, 差分 = 46882.1330\n",
      "14回目: theta0 = 106.166, theta1 = 23.623, 差分 = 45025.6005\n",
      "15回目: theta0 = 112.626, theta1 = 25.021, 差分 = 43242.5868\n",
      "16回目: theta0 = 118.956, theta1 = 26.390, 差分 = 41530.1803\n",
      "17回目: theta0 = 125.160, theta1 = 27.731, 差分 = 39885.5852\n",
      "18回目: theta0 = 131.240, theta1 = 29.046, 差分 = 38306.1160\n",
      "19回目: theta0 = 137.198, theta1 = 30.335, 差分 = 36789.1938\n",
      "20回目: theta0 = 143.037, theta1 = 31.598, 差分 = 35332.3417\n",
      "21回目: theta0 = 148.759, theta1 = 32.836, 差分 = 33933.1810\n",
      "22回目: theta0 = 154.367, theta1 = 34.048, 差分 = 32589.4270\n",
      "23回目: theta0 = 159.863, theta1 = 35.237, 差分 = 31298.8857\n",
      "24回目: theta0 = 165.249, theta1 = 36.402, 差分 = 30059.4499\n",
      "25回目: theta0 = 170.527, theta1 = 37.543, 差分 = 28869.0956\n",
      "26回目: theta0 = 175.699, theta1 = 38.662, 差分 = 27725.8795\n",
      "27回目: theta0 = 180.768, theta1 = 39.758, 差分 = 26627.9346\n",
      "28回目: theta0 = 185.736, theta1 = 40.833, 差分 = 25573.4684\n",
      "29回目: theta0 = 190.604, theta1 = 41.886, 差分 = 24560.7591\n",
      "30回目: theta0 = 195.375, theta1 = 42.918, 差分 = 23588.1530\n",
      "31回目: theta0 = 200.050, theta1 = 43.929, 差分 = 22654.0621\n",
      "32回目: theta0 = 204.632, theta1 = 44.920, 差分 = 21756.9613\n",
      "33回目: theta0 = 209.123, theta1 = 45.891, 差分 = 20895.3856\n",
      "34回目: theta0 = 213.523, theta1 = 46.843, 差分 = 20067.9284\n",
      "35回目: theta0 = 217.836, theta1 = 47.775, 差分 = 19273.2384\n",
      "36回目: theta0 = 222.062, theta1 = 48.690, 差分 = 18510.0181\n",
      "37回目: theta0 = 226.204, theta1 = 49.585, 差分 = 17777.0214\n",
      "38回目: theta0 = 230.263, theta1 = 50.463, 差分 = 17073.0514\n",
      "39回目: theta0 = 234.241, theta1 = 51.324, 差分 = 16396.9585\n",
      "40回目: theta0 = 238.139, theta1 = 52.167, 差分 = 15747.6390\n",
      "41回目: theta0 = 241.959, theta1 = 52.993, 差分 = 15124.0325\n",
      "42回目: theta0 = 245.703, theta1 = 53.803, 差分 = 14525.1208\n",
      "43回目: theta0 = 249.372, theta1 = 54.596, 差分 = 13949.9260\n",
      "44回目: theta0 = 252.967, theta1 = 55.374, 差分 = 13397.5089\n",
      "45回目: theta0 = 256.491, theta1 = 56.136, 差分 = 12866.9676\n",
      "46回目: theta0 = 259.944, theta1 = 56.883, 差分 = 12357.4357\n",
      "47回目: theta0 = 263.328, theta1 = 57.615, 差分 = 11868.0812\n",
      "48回目: theta0 = 266.645, theta1 = 58.332, 差分 = 11398.1052\n",
      "49回目: theta0 = 269.895, theta1 = 59.035, 差分 = 10946.7402\n",
      "50回目: theta0 = 273.080, theta1 = 59.724, 差分 = 10513.2493\n",
      "51回目: theta0 = 276.201, theta1 = 60.399, 差分 = 10096.9247\n",
      "52回目: theta0 = 279.260, theta1 = 61.060, 差分 = 9697.0864\n",
      "53回目: theta0 = 282.258, theta1 = 61.709, 差分 = 9313.0818\n",
      "54回目: theta0 = 285.196, theta1 = 62.344, 差分 = 8944.2838\n",
      "55回目: theta0 = 288.075, theta1 = 62.967, 差分 = 8590.0901\n",
      "56回目: theta0 = 290.896, theta1 = 63.577, 差分 = 8249.9226\n",
      "57回目: theta0 = 293.662, theta1 = 64.175, 差分 = 7923.2256\n",
      "58回目: theta0 = 296.371, theta1 = 64.761, 差分 = 7609.4659\n",
      "59回目: theta0 = 299.027, theta1 = 65.336, 差分 = 7308.1310\n",
      "60回目: theta0 = 301.629, theta1 = 65.898, 差分 = 7018.7291\n",
      "61回目: theta0 = 304.180, theta1 = 66.450, 差分 = 6740.7874\n",
      "62回目: theta0 = 306.679, theta1 = 66.991, 差分 = 6473.8522\n",
      "63回目: theta0 = 309.129, theta1 = 67.520, 差分 = 6217.4877\n",
      "64回目: theta0 = 311.529, theta1 = 68.040, 差分 = 5971.2751\n",
      "65回目: theta0 = 313.881, theta1 = 68.548, 差分 = 5734.8127\n",
      "66回目: theta0 = 316.187, theta1 = 69.047, 差分 = 5507.7141\n",
      "67回目: theta0 = 318.446, theta1 = 69.536, 差分 = 5289.6086\n",
      "68回目: theta0 = 320.660, theta1 = 70.014, 差分 = 5080.1401\n",
      "69回目: theta0 = 322.830, theta1 = 70.484, 差分 = 4878.9665\n",
      "70回目: theta0 = 324.956, theta1 = 70.944, 差分 = 4685.7595\n",
      "71回目: theta0 = 327.040, theta1 = 71.394, 差分 = 4500.2034\n",
      "72回目: theta0 = 329.082, theta1 = 71.836, 差分 = 4321.9953\n",
      "73回目: theta0 = 331.084, theta1 = 72.269, 差分 = 4150.8443\n",
      "74回目: theta0 = 333.045, theta1 = 72.693, 差分 = 3986.4709\n",
      "75回目: theta0 = 334.967, theta1 = 73.109, 差分 = 3828.6066\n",
      "76回目: theta0 = 336.851, theta1 = 73.516, 差分 = 3676.9938\n",
      "77回目: theta0 = 338.697, theta1 = 73.915, 差分 = 3531.3849\n",
      "78回目: theta0 = 340.506, theta1 = 74.307, 差分 = 3391.5420\n",
      "79回目: theta0 = 342.279, theta1 = 74.690, 差分 = 3257.2370\n",
      "80回目: theta0 = 344.016, theta1 = 75.066, 差分 = 3128.2504\n",
      "81回目: theta0 = 345.719, theta1 = 75.434, 差分 = 3004.3717\n",
      "82回目: theta0 = 347.387, theta1 = 75.795, 差分 = 2885.3985\n",
      "83回目: theta0 = 349.023, theta1 = 76.149, 差分 = 2771.1368\n",
      "84回目: theta0 = 350.625, theta1 = 76.495, 差分 = 2661.3997\n",
      "85回目: theta0 = 352.196, theta1 = 76.835, 差分 = 2556.0083\n",
      "86回目: theta0 = 353.735, theta1 = 77.168, 差分 = 2454.7904\n",
      "87回目: theta0 = 355.243, theta1 = 77.494, 差分 = 2357.5807\n",
      "88回目: theta0 = 356.721, theta1 = 77.814, 差分 = 2264.2205\n",
      "89回目: theta0 = 358.170, theta1 = 78.127, 差分 = 2174.5574\n",
      "90回目: theta0 = 359.589, theta1 = 78.434, 差分 = 2088.4449\n",
      "91回目: theta0 = 360.981, theta1 = 78.735, 差分 = 2005.7425\n",
      "92回目: theta0 = 362.344, theta1 = 79.030, 差分 = 1926.3151\n",
      "93回目: theta0 = 363.680, theta1 = 79.319, 差分 = 1850.0330\n",
      "94回目: theta0 = 364.990, theta1 = 79.602, 差分 = 1776.7717\n",
      "95回目: theta0 = 366.273, theta1 = 79.880, 差分 = 1706.4115\n",
      "96回目: theta0 = 367.530, theta1 = 80.152, 差分 = 1638.8376\n",
      "97回目: theta0 = 368.763, theta1 = 80.418, 差分 = 1573.9397\n",
      "98回目: theta0 = 369.970, theta1 = 80.679, 差分 = 1511.6117\n",
      "99回目: theta0 = 371.154, theta1 = 80.935, 差分 = 1451.7518\n",
      "100回目: theta0 = 372.314, theta1 = 81.186, 差分 = 1394.2625\n",
      "101回目: theta0 = 373.451, theta1 = 81.432, 差分 = 1339.0497\n",
      "102回目: theta0 = 374.565, theta1 = 81.673, 差分 = 1286.0233\n",
      "103回目: theta0 = 375.656, theta1 = 81.909, 差分 = 1235.0968\n",
      "104回目: theta0 = 376.726, theta1 = 82.141, 差分 = 1186.1869\n",
      "105回目: theta0 = 377.775, theta1 = 82.367, 差分 = 1139.2139\n",
      "106回目: theta0 = 378.802, theta1 = 82.589, 差分 = 1094.1011\n",
      "107回目: theta0 = 379.809, theta1 = 82.807, 差分 = 1050.7747\n",
      "108回目: theta0 = 380.796, theta1 = 83.021, 差分 = 1009.1640\n",
      "109回目: theta0 = 381.763, theta1 = 83.230, 差分 = 969.2011\n",
      "110回目: theta0 = 382.711, theta1 = 83.435, 差分 = 930.8207\n",
      "111回目: theta0 = 383.640, theta1 = 83.636, 差分 = 893.9602\n",
      "112回目: theta0 = 384.550, theta1 = 83.833, 差分 = 858.5594\n",
      "113回目: theta0 = 385.442, theta1 = 84.026, 差分 = 824.5605\n",
      "114回目: theta0 = 386.316, theta1 = 84.215, 差分 = 791.9079\n",
      "115回目: theta0 = 387.173, theta1 = 84.400, 差分 = 760.5483\n",
      "116回目: theta0 = 388.012, theta1 = 84.581, 差分 = 730.4306\n",
      "117回目: theta0 = 388.835, theta1 = 84.759, 差分 = 701.5055\n",
      "118回目: theta0 = 389.641, theta1 = 84.934, 差分 = 673.7259\n",
      "119回目: theta0 = 390.431, theta1 = 85.105, 差分 = 647.0464\n",
      "120回目: theta0 = 391.206, theta1 = 85.272, 差分 = 621.4233\n",
      "121回目: theta0 = 391.965, theta1 = 85.436, 差分 = 596.8150\n",
      "122回目: theta0 = 392.708, theta1 = 85.597, 差分 = 573.1811\n",
      "123回目: theta0 = 393.437, theta1 = 85.755, 差分 = 550.4831\n",
      "124回目: theta0 = 394.152, theta1 = 85.909, 差分 = 528.6840\n",
      "125回目: theta0 = 394.851, theta1 = 86.061, 差分 = 507.7481\n",
      "126回目: theta0 = 395.537, theta1 = 86.209, 差分 = 487.6413\n",
      "127回目: theta0 = 396.210, theta1 = 86.354, 差分 = 468.3307\n",
      "128回目: theta0 = 396.869, theta1 = 86.497, 差分 = 449.7848\n",
      "129回目: theta0 = 397.514, theta1 = 86.637, 差分 = 431.9733\n",
      "130回目: theta0 = 398.147, theta1 = 86.773, 差分 = 414.8672\n",
      "131回目: theta0 = 398.767, theta1 = 86.907, 差分 = 398.4384\n",
      "132回目: theta0 = 399.375, theta1 = 87.039, 差分 = 382.6603\n",
      "133回目: theta0 = 399.970, theta1 = 87.168, 差分 = 367.5069\n",
      "134回目: theta0 = 400.554, theta1 = 87.294, 差分 = 352.9537\n",
      "135回目: theta0 = 401.126, theta1 = 87.418, 差分 = 338.9767\n",
      "136回目: theta0 = 401.686, theta1 = 87.539, 差分 = 325.5532\n",
      "137回目: theta0 = 402.235, theta1 = 87.658, 差分 = 312.6613\n",
      "138回目: theta0 = 402.774, theta1 = 87.774, 差分 = 300.2799\n",
      "139回目: theta0 = 403.301, theta1 = 87.888, 差分 = 288.3888\n",
      "140回目: theta0 = 403.818, theta1 = 88.000, 差分 = 276.9686\n",
      "141回目: theta0 = 404.325, theta1 = 88.110, 差分 = 266.0007\n",
      "142回目: theta0 = 404.821, theta1 = 88.217, 差分 = 255.4670\n",
      "143回目: theta0 = 405.308, theta1 = 88.322, 差分 = 245.3506\n",
      "144回目: theta0 = 405.785, theta1 = 88.425, 差分 = 235.6347\n",
      "145回目: theta0 = 406.252, theta1 = 88.526, 差分 = 226.3035\n",
      "146回目: theta0 = 406.710, theta1 = 88.625, 差分 = 217.3419\n",
      "147回目: theta0 = 407.159, theta1 = 88.722, 差分 = 208.7352\n",
      "148回目: theta0 = 407.599, theta1 = 88.818, 差分 = 200.4693\n",
      "149回目: theta0 = 408.030, theta1 = 88.911, 差分 = 192.5307\n",
      "150回目: theta0 = 408.452, theta1 = 89.002, 差分 = 184.9065\n",
      "151回目: theta0 = 408.866, theta1 = 89.092, 差分 = 177.5842\n",
      "152回目: theta0 = 409.272, theta1 = 89.179, 差分 = 170.5518\n",
      "153回目: theta0 = 409.669, theta1 = 89.265, 差分 = 163.7980\n",
      "154回目: theta0 = 410.059, theta1 = 89.350, 差分 = 157.3116\n",
      "155回目: theta0 = 410.441, theta1 = 89.432, 差分 = 151.0820\n",
      "156回目: theta0 = 410.815, theta1 = 89.513, 差分 = 145.0992\n",
      "157回目: theta0 = 411.182, theta1 = 89.593, 差分 = 139.3533\n",
      "158回目: theta0 = 411.541, theta1 = 89.670, 差分 = 133.8349\n",
      "159回目: theta0 = 411.893, theta1 = 89.746, 差分 = 128.5350\n",
      "160回目: theta0 = 412.238, theta1 = 89.821, 差分 = 123.4450\n",
      "161回目: theta0 = 412.577, theta1 = 89.894, 差分 = 118.5566\n",
      "162回目: theta0 = 412.908, theta1 = 89.966, 差分 = 113.8618\n",
      "163回目: theta0 = 413.233, theta1 = 90.036, 差分 = 109.3528\n",
      "164回目: theta0 = 413.551, theta1 = 90.105, 差分 = 105.0225\n",
      "165回目: theta0 = 413.863, theta1 = 90.173, 差分 = 100.8636\n",
      "166回目: theta0 = 414.169, theta1 = 90.239, 差分 = 96.8694\n",
      "167回目: theta0 = 414.468, theta1 = 90.303, 差分 = 93.0334\n",
      "168回目: theta0 = 414.762, theta1 = 90.367, 差分 = 89.3492\n",
      "169回目: theta0 = 415.050, theta1 = 90.429, 差分 = 85.8110\n",
      "170回目: theta0 = 415.332, theta1 = 90.490, 差分 = 82.4129\n",
      "171回目: theta0 = 415.608, theta1 = 90.550, 差分 = 79.1493\n",
      "172回目: theta0 = 415.879, theta1 = 90.609, 差分 = 76.0150\n",
      "173回目: theta0 = 416.144, theta1 = 90.666, 差分 = 73.0048\n",
      "174回目: theta0 = 416.405, theta1 = 90.722, 差分 = 70.1138\n",
      "175回目: theta0 = 416.660, theta1 = 90.777, 差分 = 67.3373\n",
      "176回目: theta0 = 416.909, theta1 = 90.831, 差分 = 64.6708\n",
      "177回目: theta0 = 417.154, theta1 = 90.884, 差分 = 62.1098\n",
      "178回目: theta0 = 417.394, theta1 = 90.936, 差分 = 59.6503\n",
      "179回目: theta0 = 417.629, theta1 = 90.987, 差分 = 57.2881\n",
      "180回目: theta0 = 417.860, theta1 = 91.037, 差分 = 55.0195\n",
      "181回目: theta0 = 418.085, theta1 = 91.086, 差分 = 52.8407\n",
      "182回目: theta0 = 418.307, theta1 = 91.134, 差分 = 50.7482\n",
      "183回目: theta0 = 418.524, theta1 = 91.180, 差分 = 48.7386\n",
      "184回目: theta0 = 418.736, theta1 = 91.226, 差分 = 46.8086\n",
      "185回目: theta0 = 418.944, theta1 = 91.271, 差分 = 44.9549\n",
      "186回目: theta0 = 419.148, theta1 = 91.316, 差分 = 43.1747\n",
      "187回目: theta0 = 419.349, theta1 = 91.359, 差分 = 41.4650\n",
      "188回目: theta0 = 419.545, theta1 = 91.401, 差分 = 39.8230\n",
      "189回目: theta0 = 419.737, theta1 = 91.443, 差分 = 38.2460\n",
      "190回目: theta0 = 419.925, theta1 = 91.484, 差分 = 36.7315\n",
      "191回目: theta0 = 420.109, theta1 = 91.523, 差分 = 35.2769\n",
      "192回目: theta0 = 420.290, theta1 = 91.563, 差分 = 33.8799\n",
      "193回目: theta0 = 420.467, theta1 = 91.601, 差分 = 32.5383\n",
      "194回目: theta0 = 420.641, theta1 = 91.638, 差分 = 31.2498\n",
      "195回目: theta0 = 420.811, theta1 = 91.675, 差分 = 30.0123\n",
      "196回目: theta0 = 420.978, theta1 = 91.711, 差分 = 28.8238\n",
      "197回目: theta0 = 421.141, theta1 = 91.747, 差分 = 27.6824\n",
      "198回目: theta0 = 421.302, theta1 = 91.781, 差分 = 26.5861\n",
      "199回目: theta0 = 421.459, theta1 = 91.815, 差分 = 25.5333\n",
      "200回目: theta0 = 421.612, theta1 = 91.849, 差分 = 24.5222\n",
      "201回目: theta0 = 421.763, theta1 = 91.881, 差分 = 23.5511\n",
      "202回目: theta0 = 421.911, theta1 = 91.913, 差分 = 22.6185\n",
      "203回目: theta0 = 422.056, theta1 = 91.944, 差分 = 21.7228\n",
      "204回目: theta0 = 422.198, theta1 = 91.975, 差分 = 20.8626\n",
      "205回目: theta0 = 422.337, theta1 = 92.005, 差分 = 20.0364\n",
      "206回目: theta0 = 422.473, theta1 = 92.035, 差分 = 19.2430\n",
      "207回目: theta0 = 422.606, theta1 = 92.064, 差分 = 18.4810\n",
      "208回目: theta0 = 422.737, theta1 = 92.092, 差分 = 17.7491\n",
      "209回目: theta0 = 422.866, theta1 = 92.120, 差分 = 17.0463\n",
      "210回目: theta0 = 422.991, theta1 = 92.147, 差分 = 16.3712\n",
      "211回目: theta0 = 423.114, theta1 = 92.173, 差分 = 15.7229\n",
      "212回目: theta0 = 423.235, theta1 = 92.199, 差分 = 15.1003\n",
      "213回目: theta0 = 423.353, theta1 = 92.225, 差分 = 14.5023\n",
      "214回目: theta0 = 423.469, theta1 = 92.250, 差分 = 13.9280\n",
      "215回目: theta0 = 423.583, theta1 = 92.275, 差分 = 13.3765\n",
      "216回目: theta0 = 423.694, theta1 = 92.299, 差分 = 12.8468\n",
      "217回目: theta0 = 423.803, theta1 = 92.322, 差分 = 12.3380\n",
      "218回目: theta0 = 423.910, theta1 = 92.346, 差分 = 11.8495\n",
      "219回目: theta0 = 424.015, theta1 = 92.368, 差分 = 11.3802\n",
      "220回目: theta0 = 424.118, theta1 = 92.390, 差分 = 10.9296\n",
      "221回目: theta0 = 424.219, theta1 = 92.412, 差分 = 10.4967\n",
      "222回目: theta0 = 424.317, theta1 = 92.434, 差分 = 10.0811\n",
      "223回目: theta0 = 424.414, theta1 = 92.454, 差分 = 9.6819\n",
      "224回目: theta0 = 424.509, theta1 = 92.475, 差分 = 9.2985\n",
      "225回目: theta0 = 424.601, theta1 = 92.495, 差分 = 8.9302\n",
      "226回目: theta0 = 424.692, theta1 = 92.515, 差分 = 8.5766\n",
      "227回目: theta0 = 424.781, theta1 = 92.534, 差分 = 8.2370\n",
      "228回目: theta0 = 424.869, theta1 = 92.553, 差分 = 7.9108\n",
      "229回目: theta0 = 424.954, theta1 = 92.571, 差分 = 7.5975\n",
      "230回目: theta0 = 425.038, theta1 = 92.590, 差分 = 7.2967\n",
      "231回目: theta0 = 425.121, theta1 = 92.607, 差分 = 7.0077\n",
      "232回目: theta0 = 425.201, theta1 = 92.625, 差分 = 6.7302\n",
      "233回目: theta0 = 425.280, theta1 = 92.642, 差分 = 6.4637\n",
      "234回目: theta0 = 425.358, theta1 = 92.659, 差分 = 6.2077\n",
      "235回目: theta0 = 425.433, theta1 = 92.675, 差分 = 5.9619\n",
      "236回目: theta0 = 425.508, theta1 = 92.691, 差分 = 5.7258\n",
      "237回目: theta0 = 425.581, theta1 = 92.707, 差分 = 5.4991\n",
      "238回目: theta0 = 425.652, theta1 = 92.722, 差分 = 5.2813\n",
      "239回目: theta0 = 425.722, theta1 = 92.737, 差分 = 5.0722\n",
      "240回目: theta0 = 425.791, theta1 = 92.752, 差分 = 4.8713\n",
      "241回目: theta0 = 425.858, theta1 = 92.767, 差分 = 4.6784\n",
      "242回目: theta0 = 425.924, theta1 = 92.781, 差分 = 4.4931\n",
      "243回目: theta0 = 425.988, theta1 = 92.795, 差分 = 4.3152\n",
      "244回目: theta0 = 426.051, theta1 = 92.809, 差分 = 4.1443\n",
      "245回目: theta0 = 426.113, theta1 = 92.822, 差分 = 3.9802\n",
      "246回目: theta0 = 426.174, theta1 = 92.835, 差分 = 3.8226\n",
      "247回目: theta0 = 426.234, theta1 = 92.848, 差分 = 3.6712\n",
      "248回目: theta0 = 426.292, theta1 = 92.861, 差分 = 3.5258\n",
      "249回目: theta0 = 426.349, theta1 = 92.873, 差分 = 3.3862\n",
      "250回目: theta0 = 426.405, theta1 = 92.885, 差分 = 3.2521\n",
      "251回目: theta0 = 426.460, theta1 = 92.897, 差分 = 3.1233\n",
      "252回目: theta0 = 426.514, theta1 = 92.909, 差分 = 2.9997\n",
      "253回目: theta0 = 426.566, theta1 = 92.920, 差分 = 2.8809\n",
      "254回目: theta0 = 426.618, theta1 = 92.931, 差分 = 2.7668\n",
      "255回目: theta0 = 426.669, theta1 = 92.942, 差分 = 2.6572\n",
      "256回目: theta0 = 426.718, theta1 = 92.953, 差分 = 2.5520\n",
      "257回目: theta0 = 426.767, theta1 = 92.963, 差分 = 2.4509\n",
      "258回目: theta0 = 426.815, theta1 = 92.974, 差分 = 2.3539\n",
      "259回目: theta0 = 426.861, theta1 = 92.984, 差分 = 2.2607\n",
      "260回目: theta0 = 426.907, theta1 = 92.994, 差分 = 2.1711\n",
      "261回目: theta0 = 426.952, theta1 = 93.003, 差分 = 2.0852\n",
      "262回目: theta0 = 426.996, theta1 = 93.013, 差分 = 2.0026\n",
      "263回目: theta0 = 427.039, theta1 = 93.022, 差分 = 1.9233\n",
      "264回目: theta0 = 427.081, theta1 = 93.031, 差分 = 1.8471\n",
      "265回目: theta0 = 427.123, theta1 = 93.040, 差分 = 1.7740\n",
      "266回目: theta0 = 427.163, theta1 = 93.049, 差分 = 1.7037\n",
      "267回目: theta0 = 427.203, theta1 = 93.058, 差分 = 1.6363\n",
      "268回目: theta0 = 427.242, theta1 = 93.066, 差分 = 1.5715\n",
      "269回目: theta0 = 427.280, theta1 = 93.074, 差分 = 1.5092\n",
      "270回目: theta0 = 427.317, theta1 = 93.082, 差分 = 1.4495\n",
      "271回目: theta0 = 427.354, theta1 = 93.090, 差分 = 1.3921\n",
      "272回目: theta0 = 427.390, theta1 = 93.098, 差分 = 1.3369\n",
      "273回目: theta0 = 427.425, theta1 = 93.106, 差分 = 1.2840\n",
      "274回目: theta0 = 427.460, theta1 = 93.113, 差分 = 1.2332\n",
      "275回目: theta0 = 427.494, theta1 = 93.121, 差分 = 1.1843\n",
      "276回目: theta0 = 427.527, theta1 = 93.128, 差分 = 1.1374\n",
      "277回目: theta0 = 427.559, theta1 = 93.135, 差分 = 1.0924\n",
      "278回目: theta0 = 427.591, theta1 = 93.142, 差分 = 1.0491\n",
      "279回目: theta0 = 427.622, theta1 = 93.148, 差分 = 1.0076\n",
      "280回目: theta0 = 427.653, theta1 = 93.155, 差分 = 0.9677\n",
      "281回目: theta0 = 427.683, theta1 = 93.161, 差分 = 0.9294\n",
      "282回目: theta0 = 427.712, theta1 = 93.168, 差分 = 0.8926\n",
      "283回目: theta0 = 427.741, theta1 = 93.174, 差分 = 0.8572\n",
      "284回目: theta0 = 427.769, theta1 = 93.180, 差分 = 0.8233\n",
      "285回目: theta0 = 427.797, theta1 = 93.186, 差分 = 0.7907\n",
      "286回目: theta0 = 427.824, theta1 = 93.192, 差分 = 0.7594\n",
      "287回目: theta0 = 427.850, theta1 = 93.198, 差分 = 0.7293\n",
      "288回目: theta0 = 427.876, theta1 = 93.203, 差分 = 0.7004\n",
      "289回目: theta0 = 427.902, theta1 = 93.209, 差分 = 0.6727\n",
      "290回目: theta0 = 427.927, theta1 = 93.214, 差分 = 0.6460\n",
      "291回目: theta0 = 427.951, theta1 = 93.219, 差分 = 0.6204\n",
      "292回目: theta0 = 427.975, theta1 = 93.225, 差分 = 0.5959\n",
      "293回目: theta0 = 427.999, theta1 = 93.230, 差分 = 0.5723\n",
      "294回目: theta0 = 428.022, theta1 = 93.235, 差分 = 0.5496\n",
      "295回目: theta0 = 428.044, theta1 = 93.240, 差分 = 0.5279\n",
      "296回目: theta0 = 428.066, theta1 = 93.244, 差分 = 0.5070\n",
      "297回目: theta0 = 428.088, theta1 = 93.249, 差分 = 0.4869\n",
      "298回目: theta0 = 428.109, theta1 = 93.254, 差分 = 0.4676\n",
      "299回目: theta0 = 428.130, theta1 = 93.258, 差分 = 0.4491\n",
      "300回目: theta0 = 428.150, theta1 = 93.263, 差分 = 0.4313\n",
      "301回目: theta0 = 428.170, theta1 = 93.267, 差分 = 0.4142\n",
      "302回目: theta0 = 428.190, theta1 = 93.271, 差分 = 0.3978\n",
      "303回目: theta0 = 428.209, theta1 = 93.275, 差分 = 0.3821\n",
      "304回目: theta0 = 428.228, theta1 = 93.279, 差分 = 0.3669\n",
      "305回目: theta0 = 428.246, theta1 = 93.283, 差分 = 0.3524\n",
      "306回目: theta0 = 428.264, theta1 = 93.287, 差分 = 0.3384\n",
      "307回目: theta0 = 428.282, theta1 = 93.291, 差分 = 0.3250\n",
      "308回目: theta0 = 428.300, theta1 = 93.295, 差分 = 0.3122\n",
      "309回目: theta0 = 428.317, theta1 = 93.299, 差分 = 0.2998\n",
      "310回目: theta0 = 428.333, theta1 = 93.302, 差分 = 0.2879\n",
      "311回目: theta0 = 428.350, theta1 = 93.306, 差分 = 0.2765\n",
      "312回目: theta0 = 428.366, theta1 = 93.309, 差分 = 0.2656\n",
      "313回目: theta0 = 428.381, theta1 = 93.313, 差分 = 0.2551\n",
      "314回目: theta0 = 428.397, theta1 = 93.316, 差分 = 0.2450\n",
      "315回目: theta0 = 428.412, theta1 = 93.319, 差分 = 0.2353\n",
      "316回目: theta0 = 428.426, theta1 = 93.322, 差分 = 0.2259\n",
      "317回目: theta0 = 428.441, theta1 = 93.325, 差分 = 0.2170\n",
      "318回目: theta0 = 428.455, theta1 = 93.328, 差分 = 0.2084\n",
      "319回目: theta0 = 428.469, theta1 = 93.331, 差分 = 0.2002\n",
      "320回目: theta0 = 428.483, theta1 = 93.334, 差分 = 0.1922\n",
      "321回目: theta0 = 428.496, theta1 = 93.337, 差分 = 0.1846\n",
      "322回目: theta0 = 428.509, theta1 = 93.340, 差分 = 0.1773\n",
      "323回目: theta0 = 428.522, theta1 = 93.343, 差分 = 0.1703\n",
      "324回目: theta0 = 428.534, theta1 = 93.346, 差分 = 0.1635\n",
      "325回目: theta0 = 428.547, theta1 = 93.348, 差分 = 0.1571\n",
      "326回目: theta0 = 428.559, theta1 = 93.351, 差分 = 0.1508\n",
      "327回目: theta0 = 428.571, theta1 = 93.353, 差分 = 0.1449\n",
      "328回目: theta0 = 428.582, theta1 = 93.356, 差分 = 0.1391\n",
      "329回目: theta0 = 428.594, theta1 = 93.358, 差分 = 0.1336\n",
      "330回目: theta0 = 428.605, theta1 = 93.361, 差分 = 0.1283\n",
      "331回目: theta0 = 428.616, theta1 = 93.363, 差分 = 0.1233\n",
      "332回目: theta0 = 428.626, theta1 = 93.366, 差分 = 0.1184\n",
      "333回目: theta0 = 428.637, theta1 = 93.368, 差分 = 0.1137\n",
      "334回目: theta0 = 428.647, theta1 = 93.370, 差分 = 0.1092\n",
      "335回目: theta0 = 428.657, theta1 = 93.372, 差分 = 0.1049\n",
      "336回目: theta0 = 428.667, theta1 = 93.374, 差分 = 0.1007\n",
      "337回目: theta0 = 428.677, theta1 = 93.376, 差分 = 0.0967\n",
      "338回目: theta0 = 428.686, theta1 = 93.378, 差分 = 0.0929\n",
      "339回目: theta0 = 428.695, theta1 = 93.380, 差分 = 0.0892\n",
      "340回目: theta0 = 428.704, theta1 = 93.382, 差分 = 0.0857\n",
      "341回目: theta0 = 428.713, theta1 = 93.384, 差分 = 0.0823\n",
      "342回目: theta0 = 428.722, theta1 = 93.386, 差分 = 0.0790\n",
      "343回目: theta0 = 428.731, theta1 = 93.388, 差分 = 0.0759\n",
      "344回目: theta0 = 428.739, theta1 = 93.390, 差分 = 0.0729\n",
      "345回目: theta0 = 428.747, theta1 = 93.392, 差分 = 0.0700\n",
      "346回目: theta0 = 428.755, theta1 = 93.393, 差分 = 0.0672\n",
      "347回目: theta0 = 428.763, theta1 = 93.395, 差分 = 0.0646\n",
      "348回目: theta0 = 428.771, theta1 = 93.397, 差分 = 0.0620\n",
      "349回目: theta0 = 428.779, theta1 = 93.398, 差分 = 0.0596\n",
      "350回目: theta0 = 428.786, theta1 = 93.400, 差分 = 0.0572\n",
      "351回目: theta0 = 428.793, theta1 = 93.402, 差分 = 0.0549\n",
      "352回目: theta0 = 428.800, theta1 = 93.403, 差分 = 0.0528\n",
      "353回目: theta0 = 428.807, theta1 = 93.405, 差分 = 0.0507\n",
      "354回目: theta0 = 428.814, theta1 = 93.406, 差分 = 0.0487\n",
      "355回目: theta0 = 428.821, theta1 = 93.408, 差分 = 0.0467\n",
      "356回目: theta0 = 428.828, theta1 = 93.409, 差分 = 0.0449\n",
      "357回目: theta0 = 428.834, theta1 = 93.410, 差分 = 0.0431\n",
      "358回目: theta0 = 428.840, theta1 = 93.412, 差分 = 0.0414\n",
      "359回目: theta0 = 428.846, theta1 = 93.413, 差分 = 0.0398\n",
      "360回目: theta0 = 428.853, theta1 = 93.414, 差分 = 0.0382\n",
      "361回目: theta0 = 428.859, theta1 = 93.416, 差分 = 0.0367\n",
      "362回目: theta0 = 428.864, theta1 = 93.417, 差分 = 0.0352\n",
      "363回目: theta0 = 428.870, theta1 = 93.418, 差分 = 0.0338\n",
      "364回目: theta0 = 428.876, theta1 = 93.419, 差分 = 0.0325\n",
      "365回目: theta0 = 428.881, theta1 = 93.421, 差分 = 0.0312\n",
      "366回目: theta0 = 428.887, theta1 = 93.422, 差分 = 0.0300\n",
      "367回目: theta0 = 428.892, theta1 = 93.423, 差分 = 0.0288\n",
      "368回目: theta0 = 428.897, theta1 = 93.424, 差分 = 0.0276\n",
      "369回目: theta0 = 428.902, theta1 = 93.425, 差分 = 0.0265\n",
      "370回目: theta0 = 428.907, theta1 = 93.426, 差分 = 0.0255\n",
      "371回目: theta0 = 428.912, theta1 = 93.427, 差分 = 0.0245\n",
      "372回目: theta0 = 428.917, theta1 = 93.428, 差分 = 0.0235\n",
      "373回目: theta0 = 428.921, theta1 = 93.429, 差分 = 0.0226\n",
      "374回目: theta0 = 428.926, theta1 = 93.430, 差分 = 0.0217\n",
      "375回目: theta0 = 428.930, theta1 = 93.431, 差分 = 0.0208\n",
      "376回目: theta0 = 428.935, theta1 = 93.432, 差分 = 0.0200\n",
      "377回目: theta0 = 428.939, theta1 = 93.433, 差分 = 0.0192\n",
      "378回目: theta0 = 428.943, theta1 = 93.434, 差分 = 0.0185\n",
      "379回目: theta0 = 428.947, theta1 = 93.435, 差分 = 0.0177\n",
      "380回目: theta0 = 428.951, theta1 = 93.436, 差分 = 0.0170\n",
      "381回目: theta0 = 428.955, theta1 = 93.437, 差分 = 0.0163\n",
      "382回目: theta0 = 428.959, theta1 = 93.438, 差分 = 0.0157\n",
      "383回目: theta0 = 428.963, theta1 = 93.438, 差分 = 0.0151\n",
      "384回目: theta0 = 428.967, theta1 = 93.439, 差分 = 0.0145\n",
      "385回目: theta0 = 428.971, theta1 = 93.440, 差分 = 0.0139\n",
      "386回目: theta0 = 428.974, theta1 = 93.441, 差分 = 0.0134\n",
      "387回目: theta0 = 428.978, theta1 = 93.441, 差分 = 0.0128\n",
      "388回目: theta0 = 428.981, theta1 = 93.442, 差分 = 0.0123\n",
      "389回目: theta0 = 428.984, theta1 = 93.443, 差分 = 0.0118\n",
      "390回目: theta0 = 428.988, theta1 = 93.444, 差分 = 0.0114\n",
      "391回目: theta0 = 428.991, theta1 = 93.444, 差分 = 0.0109\n",
      "392回目: theta0 = 428.994, theta1 = 93.445, 差分 = 0.0105\n",
      "393回目: theta0 = 428.997, theta1 = 93.446, 差分 = 0.0101\n",
      "394回目: theta0 = 429.000, theta1 = 93.446, 差分 = 0.0097\n"
     ]
    }
   ],
   "source": [
    "# 学習\n",
    "error = E(train_z, train_y)\n",
    "while diff > 1e-2:\n",
    "    # 更新結果を一時変数に保存\n",
    "    tmp0 = theta0 - ETA * np.sum((f(train_z) - train_y))\n",
    "    tmp1 = theta1 - ETA * np.sum((f(train_z) - train_y) * train_z)\n",
    "    # パラメタを更新\n",
    "    theta0 = tmp0\n",
    "    theta1 = tmp1\n",
    "    # 前回との誤差との差分を計算\n",
    "    current_error = E(train_z, train_y)\n",
    "    diff = error - current_error\n",
    "    error = current_error\n",
    "    # ログ出力\n",
    "    count += 1\n",
    "    log = '{}回目: theta0 = {:.3f}, theta1 = {:.3f}, 差分 = {:.4f}'\n",
    "    print(log.format(count, theta0, theta1, diff))"
   ]
  },
  {
   "cell_type": "code",
   "execution_count": 21,
   "metadata": {},
   "outputs": [
    {
     "data": {
      "text/plain": [
       "[<matplotlib.lines.Line2D at 0x122530c18>]"
      ]
     },
     "execution_count": 21,
     "metadata": {},
     "output_type": "execute_result"
    },
    {
     "data": {
      "image/png": "[encoded data removed]",
      "text/plain": [
       "<matplotlib.figure.Figure at 0x122530518>"
      ]
     },
     "metadata": {},
     "output_type": "display_data"
    }
   ],
   "source": [
    "# 学習結果を描画\n",
    "x = np.linspace(-3, 3, 100)\n",
    "plt.plot(train_z, train_y, 'o')\n",
    "plt.plot(x, f(x))"
   ]
  },
  {
   "cell_type": "markdown",
   "metadata": {},
   "source": [
    "### 予測/検証"
   ]
  },
  {
   "cell_type": "code",
   "execution_count": 22,
   "metadata": {},
   "outputs": [
    {
     "data": {
      "text/plain": [
       "370.9672231802331"
      ]
     },
     "execution_count": 22,
     "metadata": {},
     "output_type": "execute_result"
    }
   ],
   "source": [
    "f(standardize(100))"
   ]
  },
  {
   "cell_type": "code",
   "execution_count": 23,
   "metadata": {},
   "outputs": [
    {
     "data": {
      "text/plain": [
       "510.46992104420326"
      ]
     },
     "execution_count": 23,
     "metadata": {},
     "output_type": "execute_result"
    }
   ],
   "source": [
    "f(standardize(200))"
   ]
  },
  {
   "cell_type": "code",
   "execution_count": 24,
   "metadata": {},
   "outputs": [
    {
     "data": {
      "text/plain": [
       "649.9726189081734"
      ]
     },
     "execution_count": 24,
     "metadata": {},
     "output_type": "execute_result"
    }
   ],
   "source": [
    "f(standardize(300))"
   ]
  }
 ],
 "metadata": {
  "kernelspec": {
   "display_name": "Python 3",
   "language": "python",
   "name": "python3"
  },
  "language_info": {
   "codemirror_mode": {
    "name": "ipython",
    "version": 3
   },
   "file_extension": ".py",
   "mimetype": "text/x-python",
   "name": "python",
   "nbconvert_exporter": "python",
   "pygments_lexer": "ipython3",
   "version": "3.6.0"
  }
 },
 "nbformat": 4,
 "nbformat_minor": 2
}
