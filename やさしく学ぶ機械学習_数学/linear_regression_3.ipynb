{
 "cells": [
  {
   "cell_type": "code",
   "execution_count": 24,
   "metadata": {},
   "outputs": [],
   "source": [
    "import numpy as np\n",
    "import pandas as pd\n",
    "import matplotlib.pyplot as plt\n",
    "%matplotlib inline"
   ]
  },
  {
   "cell_type": "code",
   "execution_count": 25,
   "metadata": {},
   "outputs": [],
   "source": [
    "# 学習用データの読み込み\n",
    "df = np.loadtxt('../files/click.csv', delimiter=',', skiprows=1)"
   ]
  },
  {
   "cell_type": "code",
   "execution_count": 26,
   "metadata": {},
   "outputs": [],
   "source": [
    "train_x = df[:, 0]\n",
    "train_y = df[:, 1]"
   ]
  },
  {
   "cell_type": "markdown",
   "metadata": {},
   "source": [
    "# 平均二乗誤差をプロットする"
   ]
  },
  {
   "cell_type": "markdown",
   "metadata": {},
   "source": [
    "$ f\\theta(x) = \\theta_0 + \\theta_1x + \\theta_2x  $\n",
    "\n",
    "- パラメタと特徴量をベクトルとして考えて積をとる\n",
    "\n",
    "$\n",
    "    X\\theta = \\begin{bmatrix} \n",
    "    1 & x^{(1)} & x^{(1)^2} \\\\ \n",
    "    1  & x^{(2)} & x^{(2)^2}  \\\\ \n",
    "    1 & x ^{(3)} & x^{(3)^2} \\\\ \n",
    "    \\dots \\\\ \n",
    "    1 & x ^{(n)} & x^{(n)^2} \\\\ \n",
    "    \\end{bmatrix}\n",
    "    \\begin{bmatrix}\n",
    "    \\theta_0 \\\\\n",
    "    \\theta_1 \\\\\n",
    "    \\theta_2 \\\\\n",
    "    \\end{bmatrix}\n",
    "    =\n",
    "    \\begin{bmatrix}\n",
    "    \\theta_0 + \\theta_1x^{(1)} + \\theta_2x^{(1)^2}\\\\\n",
    "    \\theta_0 + \\theta_1x^{(2)} + \\theta_2x^{(2)^2}\\\\\n",
    "    \\dots \\\\ \n",
    "    \\theta_0 + \\theta_1x^{(n)} + \\theta_2x^{(n)^2}\\\\\n",
    "    \\end{bmatrix}\n",
    "$"
   ]
  },
  {
   "cell_type": "code",
   "execution_count": 27,
   "metadata": {},
   "outputs": [],
   "source": [
    "# パラメタの初期化\n",
    "theta = np.random.rand(3)"
   ]
  },
  {
   "cell_type": "code",
   "execution_count": 28,
   "metadata": {},
   "outputs": [],
   "source": [
    "# 標準化\n",
    "mu = train_x.mean()\n",
    "sigma = train_x.std()\n",
    "def standardize(x):\n",
    "    return (x - mu) / sigma"
   ]
  },
  {
   "cell_type": "code",
   "execution_count": 29,
   "metadata": {},
   "outputs": [],
   "source": [
    "# 学習データの行列を作る\n",
    "def to_matrix(x):\n",
    "    # np.onesは、値１の配列を作る(=特徴量0をつくっている)\n",
    "    return np.vstack([np.ones(x.shape[0]), x, x ** 2]).T"
   ]
  },
  {
   "cell_type": "code",
   "execution_count": 30,
   "metadata": {},
   "outputs": [],
   "source": [
    "# 訓練データの標準化\n",
    "train_z = standardize(train_x) "
   ]
  },
  {
   "cell_type": "code",
   "execution_count": 31,
   "metadata": {},
   "outputs": [],
   "source": [
    "X = to_matrix(train_z)"
   ]
  },
  {
   "cell_type": "code",
   "execution_count": 32,
   "metadata": {},
   "outputs": [],
   "source": [
    "# 予測関数\n",
    "def f(x):\n",
    "    return np.dot(x, theta)"
   ]
  },
  {
   "cell_type": "code",
   "execution_count": 33,
   "metadata": {},
   "outputs": [],
   "source": [
    "# 目的関数\n",
    "def E(x, y):\n",
    "    return 0.5 * np.sum((y - f(x)) ** 2)"
   ]
  },
  {
   "cell_type": "code",
   "execution_count": 34,
   "metadata": {},
   "outputs": [],
   "source": [
    "# 平均誤二乗差\n",
    "def MSE(x, y):\n",
    "    return (1 / x.shape[0]) * np.sum((y - f(x)) ** 2)"
   ]
  },
  {
   "cell_type": "markdown",
   "metadata": {},
   "source": [
    "### パラメタ更新式"
   ]
  },
  {
   "cell_type": "markdown",
   "metadata": {},
   "source": [
    "$\\displaystyle \\theta_j := \\theta_j - \\eta \\sum_{i=1}^n(f_\\theta(x^{(i)}) - y^{(i)})x_j^{(i)}$\n",
    "\n",
    "- パラメタ更新式はベクトルの直積として考えることができる"
   ]
  },
  {
   "cell_type": "code",
   "execution_count": 35,
   "metadata": {},
   "outputs": [],
   "source": [
    "# 学習率\n",
    "ETA = 1e-3"
   ]
  },
  {
   "cell_type": "code",
   "execution_count": 36,
   "metadata": {},
   "outputs": [],
   "source": [
    "# 誤差の差分\n",
    "diff = 1"
   ]
  },
  {
   "cell_type": "code",
   "execution_count": 37,
   "metadata": {},
   "outputs": [],
   "source": [
    "# 更新回数\n",
    "count = 0"
   ]
  },
  {
   "cell_type": "code",
   "execution_count": 38,
   "metadata": {},
   "outputs": [],
   "source": [
    "# 平均二乗誤差の履歴\n",
    "errors = []"
   ]
  },
  {
   "cell_type": "code",
   "execution_count": 39,
   "metadata": {},
   "outputs": [],
   "source": [
    "# 学習\n",
    "errors.append(MSE(X, train_y))\n",
    "while diff > 1e-2:\n",
    "    # パラメタを更新\n",
    "    theta = theta - ETA * np.dot(f(X) - train_y, X)\n",
    "    errors.append(MSE(X, train_y))\n",
    "    diff = errors[-2] - errors[-1]"
   ]
  },
  {
   "cell_type": "code",
   "execution_count": 40,
   "metadata": {},
   "outputs": [],
   "source": [
    "# 誤差をプロット\n",
    "x = np.arange(len(errors))"
   ]
  },
  {
   "cell_type": "code",
   "execution_count": 41,
   "metadata": {},
   "outputs": [
    {
     "data": {
      "image/png": "[encoded data removed]",
      "text/plain": [
       "<matplotlib.figure.Figure at 0x119093cc0>"
      ]
     },
     "metadata": {},
     "output_type": "display_data"
    }
   ],
   "source": [
    "plt.plot(x, errors)\n",
    "plt.show()"
   ]
  }
 ],
 "metadata": {
  "kernelspec": {
   "display_name": "Python 3",
   "language": "python",
   "name": "python3"
  },
  "language_info": {
   "codemirror_mode": {
    "name": "ipython",
    "version": 3
   },
   "file_extension": ".py",
   "mimetype": "text/x-python",
   "name": "python",
   "nbconvert_exporter": "python",
   "pygments_lexer": "ipython3",
   "version": "3.6.0"
  }
 },
 "nbformat": 4,
 "nbformat_minor": 2
}
