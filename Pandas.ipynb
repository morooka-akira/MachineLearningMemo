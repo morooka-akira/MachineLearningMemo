{
 "cells": [
  {
   "cell_type": "code",
   "execution_count": 2,
   "metadata": {
    "collapsed": true
   },
   "outputs": [],
   "source": [
    "import pandas as pd\n",
    "import math\n",
    "import numpy as np\n",
    "import matplotlib.pyplot as plt\n",
    "%matplotlib inline"
   ]
  },
  {
   "cell_type": "code",
   "execution_count": 10,
   "metadata": {},
   "outputs": [
    {
     "name": "stdout",
     "output_type": "stream",
     "text": [
      "Index(['uuid', 'name', 'email', 'url', 'phone_number', 'establish',\n",
      "       'number_of_employees', 'location', 'characteristic', 'tag_name',\n",
      "       'headline', 'contact_url', 'zip_code', 'sale', 'sales_growth_rate',\n",
      "       'corp_number'],\n",
      "      dtype='object')\n"
     ]
    }
   ],
   "source": [
    "# 列名の表示\n",
    "csv = pd.read_csv('/Users/amoro/works_pr/Python/q/20180309_baseconnct_all_data.csv')\n",
    "print(csv.columns)"
   ]
  },
  {
   "cell_type": "code",
   "execution_count": 11,
   "metadata": {},
   "outputs": [
    {
     "name": "stdout",
     "output_type": "stream",
     "text": [
      "                                   uuid         name email  \\\n",
      "0  00001b03-6d63-474f-a8c3-f758acc7ffda  ファースト運輸株式会社   NaN   \n",
      "1  00010a02-693b-4d39-b13e-ad6ec581b920      有限会社ミスギ   NaN   \n",
      "2  0001b4df-5fac-4f5c-853c-ca2d144d7d7c     中外商事株式会社   NaN   \n",
      "3  0001dd60-303f-4ee9-a701-fe47d40f5791     株式会社プレジオ   NaN   \n",
      "4  000226b4-f257-476c-a0fe-308f637754b3      堀紙管株式会社   NaN   \n",
      "5  00028894-f230-4b04-bf44-adf0d9158a70  株式会社ドリームリンク   NaN   \n",
      "6  0002c8f0-ea2b-4ace-811b-9cfaeed19f37     株式会社カーネル   NaN   \n",
      "7  0002d9c3-e75a-4d62-977c-2d96039c4488    カネジ塗料株式会社   NaN   \n",
      "8  000427f5-12bd-4547-ba4f-7c2282e7d9ee     稲垣産業有限会社   NaN   \n",
      "9  000464d1-6060-4cca-ada6-252976acf885     熊谷化学株式会社   NaN   \n",
      "\n",
      "                            url  phone_number establish  number_of_employees  \\\n",
      "0       http://first-exp.co.jp/  03-3686-2521   1953年6月                260.0   \n",
      "1  https://www.mazemazeman.com/  072-624-0080   1979年1月                  NaN   \n",
      "2   http://www.tyuugaishoji.com  03-5980-8386       NaN                  NaN   \n",
      "3          http://pregio-w.com/  06-6966-5031   2008年1月                 21.0   \n",
      "4        http://horishikan.com/  042-487-1151   1937年5月                  NaN   \n",
      "5          http://dreamlink.jp/  06-6942-3228   2015年8月                  NaN   \n",
      "6  http://www.kernel-map.co.jp/  075-361-1841   1992年9月                 34.0   \n",
      "7    http://kaneji-paint.jp/top  03-3654-6126   1961年7月                 14.0   \n",
      "8         http://www.ina-san.jp  0799-28-0833   1985年7月                  6.0   \n",
      "9     http://kumagaikagaku.com/  03-3702-1111   1951年2月                 20.0   \n",
      "\n",
      "                                        location  \\\n",
      "0                             東京都江戸川区北葛西５丁目１７番４号   \n",
      "1                              大阪府茨木市南耳原２丁目１３番２号   \n",
      "2                              東京都豊島区上池袋１丁目３番１０号   \n",
      "3                            大阪府大阪市中央区島町１丁目２番１２号   \n",
      "4                              東京都調布市下石原３丁目６２番地１   \n",
      "5               大阪府大阪市中央区谷町２丁目３番１号第２ターネンビルディング５Ｆ   \n",
      "6  京都府京都市下京区綾小路通烏丸東入竹屋之町２５２番地の１四条烏丸アーバンライフビル１０３号   \n",
      "7                               東京都江戸川区大杉５丁目６番１号   \n",
      "8                            兵庫県洲本市安乎町平安浦５３０番地の２   \n",
      "9                            東京都世田谷区等々力１丁目３０番１４号   \n",
      "\n",
      "                                      characteristic         tag_name  \\\n",
      "0  食品やその他一般貨物を関東一円を中心に陸運事業で配送を行っている会社である。貨物自動車利用運...               陸運   \n",
      "1  容器に入った物体を撹拌させる機械「まぜまぜマン」の開発・製造・販売を行う会社である。使用...            その他機械   \n",
      "2  中国を相手に衣料品や食料品から化粧品、自動車・自動車部品等、各種商品を輸出入し、卸売を行う会...           食品専門商社   \n",
      "3  株式会社ベイシスのグループ企業。マンションの設計デザインから施工までを担っており、建造したマ...          マンション開発   \n",
      "4  表彰状の紙の筒や紡績用の糸をまく紙管を製造する会社である。製造する形状は円柱の筒型や円錐形な...           紙類包装資材   \n",
      "5  人事業務の代行やコンサルティング、および就活塾の運営を行う会社。社員の管理や採用応募受付の代...  組織・人事コンサルティング業界   \n",
      "6  GISと呼ばれる電子地図から地理的な位置または空間の情報を地名・人口などの様々なデータと合わ...              NaN   \n",
      "7  600色以上のカラーバリエーションのある塗料を製造・販売している会社。測定器による検査で合格...               塗料   \n",
      "8  和包丁の柄の生産をメインに行っている。一般素材の木柄の他、ウォルナット材、欅材などの素材を使...             金属製品   \n",
      "9  家庭用や業務用・工業用のLPガスの販売やガスを使う住宅機器の販売や設置工事を請け負う。また、...               ガス   \n",
      "\n",
      "                                headline  \\\n",
      "0                        食品などの陸運を行っている会社   \n",
      "1          さまざまな物体に対応する攪拌機の開発・製造・販売を行う会社   \n",
      "2          主に衣料品・食料品・電気製品などの対中貿易と卸売を行う会社   \n",
      "3   「プレジオ」「グランシス」シリーズなどの賃貸マンション事業を展開する会社   \n",
      "4                容器などさまざまな用途の紙の筒型を製造する会社   \n",
      "5               人事に関する代行業務・コンサルティングを行う会社   \n",
      "6  GIS(地理情報システム)エンジン、パッケージソフトの開発、販売を行う企業   \n",
      "7       自社で調色を行った塗料を販売する他、外装リフォーム全般を行う会社   \n",
      "8                    和包丁の柄の生産、包丁の販売を行う会社   \n",
      "9                家庭用や業務用、工業用のLPガスを取り扱う会社   \n",
      "\n",
      "                                    contact_url  zip_code          sale  \\\n",
      "0       http://first-exp.co.jp/company/contact/  134-0081           NaN   \n",
      "1  https://www.mazemazeman.com/contact/catalog/  567-0004           NaN   \n",
      "2                                           NaN  170-0012           NaN   \n",
      "3                 http://pregio-w.com/mailform/  540-0034  1.240000e+09   \n",
      "4                                           NaN  182-0034           NaN   \n",
      "5                  http://dreamlink.jp/contact/  540-0012           NaN   \n",
      "6          http://www.kernel-map.co.jp/contact/  600-8090           NaN   \n",
      "7              http://kaneji-paint.jp/contactus  132-0022           NaN   \n",
      "8                                           NaN  656-2121           NaN   \n",
      "9                                           NaN  158-0082  8.000000e+08   \n",
      "\n",
      "   sales_growth_rate   corp_number  \n",
      "0                NaN  6.011701e+12  \n",
      "1                NaN  4.120902e+12  \n",
      "2                NaN  1.013301e+12  \n",
      "3                NaN  2.120001e+12  \n",
      "4                NaN  7.012401e+12  \n",
      "5                NaN  3.120001e+12  \n",
      "6                NaN  5.130001e+12  \n",
      "7                NaN  2.011701e+12  \n",
      "8                NaN  4.140002e+12  \n",
      "9               0.25  8.010901e+12  \n"
     ]
    }
   ],
   "source": [
    "# 行数の制限\n",
    "csv = pd.read_csv('/Users/amoro/works_pr/Python/q/20180309_baseconnct_all_data.csv')\n",
    "print(csv.head(10))"
   ]
  }
 ],
 "metadata": {
  "kernelspec": {
   "display_name": "Python 3",
   "language": "python",
   "name": "python3"
  },
  "language_info": {
   "codemirror_mode": {
    "name": "ipython",
    "version": 3
   },
   "file_extension": ".py",
   "mimetype": "text/x-python",
   "name": "python",
   "nbconvert_exporter": "python",
   "pygments_lexer": "ipython3",
   "version": "3.6.0"
  }
 },
 "nbformat": 4,
 "nbformat_minor": 2
}
