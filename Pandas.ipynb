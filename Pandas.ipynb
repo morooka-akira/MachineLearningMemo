{
 "cells": [
  {
   "cell_type": "code",
   "execution_count": 3,
   "metadata": {
    "collapsed": true
   },
   "outputs": [],
   "source": [
    "import pandas as pd\n",
    "import math\n",
    "import numpy as np\n",
    "import matplotlib.pyplot as plt\n",
    "%matplotlib inline"
   ]
  },
  {
   "cell_type": "markdown",
   "metadata": {},
   "source": [
    "列名の表示\n",
    "--------------"
   ]
  },
  {
   "cell_type": "code",
   "execution_count": 4,
   "metadata": {},
   "outputs": [
    {
     "name": "stdout",
     "output_type": "stream",
     "text": [
      "Index(['会社名', '募集の特徴', '雇用形態', '掲載期間', '事業内容・募集背景', '仕事内容', '事業概要', '所在地',\n",
      "       '設立', '代表者', '従業員数', '資本金', '売上高', '平均年齢', '連絡先', '企業URL'],\n",
      "      dtype='object')\n"
     ]
    }
   ],
   "source": [
    "csv = pd.read_csv('./files/company.csv')\n",
    "print(csv.columns)"
   ]
  },
  {
   "cell_type": "markdown",
   "metadata": {},
   "source": [
    "行数の制限\n",
    "---------------"
   ]
  },
  {
   "cell_type": "code",
   "execution_count": 6,
   "metadata": {},
   "outputs": [
    {
     "name": "stdout",
     "output_type": "stream",
     "text": [
      "                                         会社名  \\\n",
      "0                           株式会社情報企画（東証二部上場）   \n",
      "1  日本アイ・ビー・エムテクニカル・ソリューション株式会社（日本IBM 100％出資）   \n",
      "\n",
      "                                              募集の特徴  \\\n",
      "0  研修あり！イチから始めるITエンジニア（文系出身6割、年間休日120日以上、産休・育休実績あり）   \n",
      "1          PC好きが集まるフィールドサービスエンジニア／未経験から活躍できる充実の研修制度   \n",
      "\n",
      "                                      雇用形態  \\\n",
      "0                                      正社員   \n",
      "1  契約社員 ・雇用期間　12カ月・契約更新最長３年（正社員雇用への登用の道あり）   \n",
      "\n",
      "                                                掲載期間  \\\n",
      "0  [掲載予定期間：2018/1/15（月）～2018/2/11（日）] 求人コード 30020...   \n",
      "1  [掲載予定期間：2018/1/11（木）～2018/3/7（水）] 求人コード 300206...   \n",
      "\n",
      "                                           事業内容・募集背景  \\\n",
      "0  設立から31年、金融関連のシステム開発に特化し、多くのお取引先から高い支持を得てきた当社。中...   \n",
      "1  ◆　未経験歓迎・全国で募集　◆昨今、IoT技術の発展やAIの普及がさらに社会に大きな変化をも...   \n",
      "\n",
      "                                                仕事内容  \\\n",
      "0  銀行や信用金庫など、金融機関向けシステムの開発をご担当いただきます。 具体的な仕事内容 【具...   \n",
      "1  PCのハードウェアトラブル全般にわたるフィールドサポート業務をご担当いただきます。 具体的な...   \n",
      "\n",
      "                                                事業概要  \\\n",
      "0  ＜100%自社開発＞主に金融機関向けシステムコンサルティング・企画・開発及びデータ入力代行業...   \n",
      "1                     IBMコンピューター／サーバー／ネットワーク等の保守サービス   \n",
      "\n",
      "                                    所在地          設立                 代表者  従業員数  \\\n",
      "0  〒541-0052 【本社】大阪市中央区安土町2-3-13 大阪国際ビル  1986年10月1日  代表取締役　公認会計士/ 松岡 仁史  127名   \n",
      "1              〒261-8522 千葉県千葉市美浜区中瀬1-1  1993年5月25日       代表取締役社長 大西 豊明   NaN   \n",
      "\n",
      "            資本金                  売上高 平均年齢  \\\n",
      "0  3億2662万5000円  24億1474万円（2017年9月期）  NaN   \n",
      "1       2,100万円                  NaN  NaN   \n",
      "\n",
      "                                                 連絡先  \\\n",
      "0  大阪市中央区安土町2-3-13　大阪国際ビル株式会社情報企画　採用担当Mail：jk-sai...   \n",
      "1  【連絡先】日本アイ・ビー・エム テクニカル・ソリューション株式会社〒261-8522 千葉県...   \n",
      "\n",
      "                                               企業URL  \n",
      "0                      http://www.jyohokikaku.co.jp/  \n",
      "1  https://www-935.ibm.com/services/jp/ja/sgc/tso...  \n"
     ]
    }
   ],
   "source": [
    "csv = pd.read_csv('./files/company.csv')\n",
    "print(csv.head(2))"
   ]
  },
  {
   "cell_type": "markdown",
   "metadata": {},
   "source": [
    "マージ\n",
    "----------"
   ]
  },
  {
   "cell_type": "code",
   "execution_count": 15,
   "metadata": {},
   "outputs": [
    {
     "data": {
      "text/html": [
       "<div>\n",
       "<style>\n",
       "    .dataframe thead tr:only-child th {\n",
       "        text-align: right;\n",
       "    }\n",
       "\n",
       "    .dataframe thead th {\n",
       "        text-align: left;\n",
       "    }\n",
       "\n",
       "    .dataframe tbody tr th {\n",
       "        vertical-align: top;\n",
       "    }\n",
       "</style>\n",
       "<table border=\"1\" class=\"dataframe\">\n",
       "  <thead>\n",
       "    <tr style=\"text-align: right;\">\n",
       "      <th></th>\n",
       "      <th>a</th>\n",
       "      <th>b</th>\n",
       "      <th>c</th>\n",
       "    </tr>\n",
       "  </thead>\n",
       "  <tbody>\n",
       "    <tr>\n",
       "      <th>0</th>\n",
       "      <td>101</td>\n",
       "      <td>20.1</td>\n",
       "      <td>30.1</td>\n",
       "    </tr>\n",
       "  </tbody>\n",
       "</table>\n",
       "</div>"
      ],
      "text/plain": [
       "     a     b     c\n",
       "0  101  20.1  30.1"
      ]
     },
     "execution_count": 15,
     "metadata": {},
     "output_type": "execute_result"
    }
   ],
   "source": [
    "column_a = pd.DataFrame({'a': [101], 'b': [20.1], 'c': [30.1]}\n",
    "column_b =  pd.DataFrame({'a': [101], 'b': [20.1], 'c': [30.1]})\n",
    "#df = pd.DataFrame({'A': np.random.randn(1000), 'B': 'foo', 'C': pd.date_range('20130101', periods=1000, freq='s')})"
   ]
  }
 ],
 "metadata": {
  "kernelspec": {
   "display_name": "Python 3",
   "language": "python",
   "name": "python3"
  },
  "language_info": {
   "codemirror_mode": {
    "name": "ipython",
    "version": 3
   },
   "file_extension": ".py",
   "mimetype": "text/x-python",
   "name": "python",
   "nbconvert_exporter": "python",
   "pygments_lexer": "ipython3",
   "version": "3.6.0"
  }
 },
 "nbformat": 4,
 "nbformat_minor": 2
}
