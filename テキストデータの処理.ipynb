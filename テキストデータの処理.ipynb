{
 "cells": [
  {
   "cell_type": "code",
   "execution_count": 1,
   "metadata": {},
   "outputs": [
    {
     "name": "stdout",
     "output_type": "stream",
     "text": [
      "Requirement already satisfied: mglearn in /Users/amoro/.pyenv/versions/anaconda3-4.3.1/lib/python3.6/site-packages (0.1.6)\n",
      "Requirement already satisfied: cycler in /Users/amoro/.pyenv/versions/anaconda3-4.3.1/lib/python3.6/site-packages (from mglearn) (0.10.0)\n",
      "Requirement already satisfied: pandas in /Users/amoro/.pyenv/versions/anaconda3-4.3.1/lib/python3.6/site-packages (from mglearn) (0.20.3)\n",
      "Requirement already satisfied: matplotlib in /Users/amoro/.pyenv/versions/anaconda3-4.3.1/lib/python3.6/site-packages (from mglearn) (2.0.2)\n",
      "Requirement already satisfied: numpy in /Users/amoro/.pyenv/versions/anaconda3-4.3.1/lib/python3.6/site-packages (from mglearn) (1.14.3)\n",
      "Requirement already satisfied: pillow in /Users/amoro/.pyenv/versions/anaconda3-4.3.1/lib/python3.6/site-packages (from mglearn) (4.0.0)\n",
      "Requirement already satisfied: scikit-learn in /Users/amoro/.pyenv/versions/anaconda3-4.3.1/lib/python3.6/site-packages (from mglearn) (0.19.1)\n",
      "Requirement already satisfied: six in /Users/amoro/.pyenv/versions/anaconda3-4.3.1/lib/python3.6/site-packages (from cycler->mglearn) (1.11.0)\n",
      "Requirement already satisfied: python-dateutil>=2 in /Users/amoro/.pyenv/versions/anaconda3-4.3.1/lib/python3.6/site-packages (from pandas->mglearn) (2.6.0)\n",
      "Requirement already satisfied: pytz>=2011k in /Users/amoro/.pyenv/versions/anaconda3-4.3.1/lib/python3.6/site-packages (from pandas->mglearn) (2016.10)\n",
      "Requirement already satisfied: pyparsing!=2.0.4,!=2.1.2,!=2.1.6,>=1.5.6 in /Users/amoro/.pyenv/versions/anaconda3-4.3.1/lib/python3.6/site-packages (from matplotlib->mglearn) (2.1.4)\n",
      "Requirement already satisfied: olefile in /Users/amoro/.pyenv/versions/anaconda3-4.3.1/lib/python3.6/site-packages (from pillow->mglearn) (0.45.1)\n"
     ]
    }
   ],
   "source": [
    "from IPython.display import set_matplotlib_formats, display\n",
    "import pandas as pd\n",
    "import numpy as np\n",
    "!pip install mglearn\n",
    "import matplotlib.pyplot as plt\n",
    "import mglearn\n",
    "from cycler import cycler\n",
    "%matplotlib inline\n",
    "from sklearn.model_selection import train_test_split"
   ]
  },
  {
   "cell_type": "markdown",
   "metadata": {},
   "source": [
    "文字列として表現されているデータのタイプ\n",
    "---\n",
    "文字列として表現されるすべての特徴量をテキストデータとして扱うのは適切ではない場合がある。\n",
    "文字列データには次の種類がある。\n",
    "- 1.カテゴリデータ\n",
    "- 2.意味的にはカテゴリに分類できる自由に書かれた文字列\n",
    "- 3.構造化された文字列\n",
    "- 4.テキストデータ"
   ]
  },
  {
   "cell_type": "markdown",
   "metadata": {},
   "source": [
    "### カテゴリデータ\n",
    "- 固定されたリストから得られるデータ\n",
    "- 例えば色をドロップダウンメニューから選択させた結果など\n",
    "- カテゴリ変数としてエンコードして使う\n",
    "\n",
    "### 意味的にはカテゴリに分類できる自由に書かれた文字列\n",
    "- カテゴリ変数としてエンコードするのがよい\n",
    "- 回答に頻出する値をカテゴリ値として選ぶか、アプリケーションとして意味のあるような情報を回答から導き出すようにカテゴリを定義する\n",
    "- 文字列の前処理は手作業になり自動化が難しい\n",
    "- 可能であればテキストでの入力は避け、カテゴリ変数として収集できるようにする\n",
    "\n",
    "### 構造化された文字列\n",
    "- 固定したカテゴリに対応しなくても、何らかの構造をもつ文字列\n",
    "- 住所、地名、人名、日付、電話番号などの何らかの識別番号\n",
    "\n",
    "### 自由なテキストデータ\n",
    "- ツイート、チャットログ、ホテルのレビュー、Wikipediaの記事全体など\n",
    "- テキスト解析において、データセットは「コーパス(corpus)」、一つのテキストとして表現される個々のデータポイントは文書(document)と呼ばれる"
   ]
  },
  {
   "cell_type": "markdown",
   "metadata": {},
   "source": [
    "# 映画レビューのセンチメント分析\n",
    "- スタンフォード大学の研究者Andrew Maasが収集したIMDb(Internet Movie Database)Webサイト"
   ]
  },
  {
   "cell_type": "markdown",
   "metadata": {},
   "source": []
  }
 ],
 "metadata": {
  "kernelspec": {
   "display_name": "Python 3",
   "language": "python",
   "name": "python3"
  },
  "language_info": {
   "codemirror_mode": {
    "name": "ipython",
    "version": 3
   },
   "file_extension": ".py",
   "mimetype": "text/x-python",
   "name": "python",
   "nbconvert_exporter": "python",
   "pygments_lexer": "ipython3",
   "version": "3.6.0"
  }
 },
 "nbformat": 4,
 "nbformat_minor": 2
}
