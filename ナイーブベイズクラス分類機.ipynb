{
 "cells": [
  {
   "cell_type": "markdown",
   "metadata": {},
   "source": [
    "-　ナイーブベイズは線形モデルによく似たクラス分類器の一つ\n",
    "- 訓練が線形モデルよりもさらに高速なのが特徴\n",
    "- 訓練測度の代償として、ナイーブベイズモデルの汎化性能はLogisticRegressionやLinearSVCよりも僅かに劣る場合が多い\n",
    "- ナイーブベイズば高速なのは、クラスに対する統計値を個々の特徴量ごとに集めて、パラメタを学習するから\n",
    "\n",
    "###  scit-learnにあるナイーブベイズの分類器\n",
    "- GaussianNB\n",
    "    - 任意の連続値データに適用できる\n",
    "- BernoulliNB\n",
    "    - 2値データを仮定している\n",
    "- MultinomiaNB\n",
    "    - カウントデータを仮定している\n",
    "        - カウントデータとは例えば文中にでてくる単語の出現数などのここの特徴量が何らかの整数カウントを表現しているデータのこと\n",
    "- BernoulliNBやMultinomialNBはほとんどの場合データのクラス分類に用いられる\n",
    "- BernoulliNBクラス分類器は個々のクラスに対して、特徴量ごとに非ゼロである場合をカウントする"
   ]
  },
  {
   "cell_type": "code",
   "execution_count": 1,
   "metadata": {
    "collapsed": true
   },
   "outputs": [],
   "source": [
    "import numpy as np"
   ]
  },
  {
   "cell_type": "code",
   "execution_count": 8,
   "metadata": {},
   "outputs": [
    {
     "name": "stdout",
     "output_type": "stream",
     "text": [
      "0\n",
      "[ True False  True False]\n",
      "[[0 1 0 1]\n",
      " [0 0 0 1]]\n",
      "1\n",
      "[False  True False  True]\n",
      "[[1 0 1 0]\n",
      " [0 1 0 1]]\n",
      "Feature counts:\n",
      "{0: array([0, 1, 0, 2]), 1: array([1, 1, 1, 1])}\n"
     ]
    }
   ],
   "source": [
    "# 4つの2値特徴量を持つ4つのデータポイント\n",
    "# 2つのクラス「0」と「1」がある\n",
    "X = np.array([\n",
    "    [0, 1, 0, 1],\n",
    "    [1, 0, 1, 0],\n",
    "    [0, 0, 0, 1],\n",
    "    [0, 1, 0, 1],\n",
    "])\n",
    "y = np.array([0, 1, 0, 1])\n",
    "\n",
    "counts = {}\n",
    "for label in np.unique(y):\n",
    "    # クラスに対してループ\n",
    "    # それぞれの特徴量ごとに非ゼロの数を(加算で)数える\n",
    "    counts[label] = X[y == label].sum(axis=0)\n",
    "print(\"Feature counts:\\n{}\".format(counts))"
   ]
  },
  {
   "cell_type": "markdown",
   "metadata": {},
   "source": [
    "### 利点、欠点、パラメタ\n",
    "- MultinomiaNBとBernoulliNBにはパラメタが一つだけある\n",
    "    - モデルの複雑さを制御するalpha\n",
    "    - alphaが大きくなるとスムーズになりモデルの複雑さは減少する\n",
    "    - アルゴリズムの性能はalphaの値に対して比較的頑健である\n",
    "        - alphaの値がアルゴリズムの性能に致命的な違いをもたらすことはない\n",
    "        - 多くの場合この値を調整することでいくらか精度を上げることができる\n",
    "- GaussianNBは多くの場合、高次元データに対して用いられるが、他の2つはテキストのような疎なカウントデータに対して用いられる\n",
    "- 一般的にMultinomiaNBのほうがBernoulliNBよりも若干性能がよいが、特に比較的多数の非ゼロ特徴量がある場合にはMultinomiaNBが有効である\n",
    "- ナイーブベイズモデルの利点と欠点の多くは線形モデルと共通する\n",
    "- 訓練も予想も非常に高速で、訓練の過程も理解しやすい\n",
    "- 高次元の疎なデータに対しても上手く機能するしパラメタの設定に対しても比較的頑健である\n",
    "- ナイーブベイズモデルは線形モデルですら時間がかかりすぎるような大規模データセットに対するベースラインモデルとして非常に有用である"
   ]
  }
 ],
 "metadata": {
  "kernelspec": {
   "display_name": "Python 3",
   "language": "python",
   "name": "python3"
  },
  "language_info": {
   "codemirror_mode": {
    "name": "ipython",
    "version": 3
   },
   "file_extension": ".py",
   "mimetype": "text/x-python",
   "name": "python",
   "nbconvert_exporter": "python",
   "pygments_lexer": "ipython3",
   "version": "3.6.0"
  }
 },
 "nbformat": 4,
 "nbformat_minor": 2
}
