{
 "cells": [
  {
   "cell_type": "markdown",
   "metadata": {},
   "source": [
    "# 線形モデル\n",
    "- 実用的に広くつかわれている\n",
    "- 入力特徴量を線形関数(linear function)を用いて予測を行う\n"
   ]
  },
  {
   "cell_type": "markdown",
   "metadata": {},
   "source": [
    "回帰問題で線形モデルによる一般的な予測式は以下の用になる\n",
    "\n",
    "$$ y^ = w[0] ✕ x[0] + w[1] ✕ x[1] + ・・・ + w[p] ✕ x[p] + b $$\n",
    "\n",
    "- x[0]からx[p]はある1データポイントの特徴量を示す(この例では特徴量の数はp+1)\n",
    "- wとbは学習されたモデルのパラメタ"
   ]
  },
  {
   "cell_type": "markdown",
   "metadata": {},
   "source": [
    "特徴量が一つしかない場合はつぎのようになる\n",
    "\n",
    "$$ y^ = w[0] ✕ x[0] + b $$\n",
    "\n",
    "- この式は直線(y=ax+b)を表している\n",
    "- 別の考え方として予測されるレスポンスは入力特徴量の重み付き和になるとも考えることができる(重みはwで表され負になることもある)\n"
   ]
  },
  {
   "cell_type": "code",
   "execution_count": 2,
   "metadata": {
    "collapsed": true
   },
   "outputs": [],
   "source": [
    "from IPython.display import set_matplotlib_formats, display\n",
    "import pandas as pd\n",
    "import numpy as np\n",
    "import matplotlib.pyplot as plt\n",
    "import mglearn\n",
    "from cycler import cycler\n",
    "from sklearn.model_selection import train_test_split\n",
    "%matplotlib inline"
   ]
  },
  {
   "cell_type": "markdown",
   "metadata": {},
   "source": [
    "### 一次元のwaveデータセットでw[0]とbを求める"
   ]
  },
  {
   "cell_type": "code",
   "execution_count": 3,
   "metadata": {},
   "outputs": [
    {
     "name": "stdout",
     "output_type": "stream",
     "text": [
      "w[0]: 0.393906  b: -0.031804\n"
     ]
    },
    {
     "data": {
      "image/png": "[encoded data removed]",
      "text/plain": [
       "<matplotlib.figure.Figure at 0x10c3983c8>"
      ]
     },
     "metadata": {},
     "output_type": "display_data"
    }
   ],
   "source": [
    "mglearn.plots.plot_linear_regression_wave()"
   ]
  },
  {
   "cell_type": "markdown",
   "metadata": {},
   "source": [
    "- 回帰における線形モデルは単一の特徴量に対しては予測が直線になる回帰モデルとして特徴付けられる\n",
    "- 特徴量が2つなら予測は平面に、高次元においては予測は超平面になる\n",
    "\n",
    "------------"
   ]
  },
  {
   "cell_type": "markdown",
   "metadata": {},
   "source": [
    "## 線形回帰(通常最小二乗法: ordinary least squares: OLS)\n",
    "- 最も単純で最も古典的な線形回帰手法\n",
    "- 線形回帰では訓練データにおいて予測と真の回帰ターゲットyとの`平均2乗誤差`が最小になるようにパラメタwとbを求める\n",
    "    - 平均二乗誤差は予測と真の値との差を2乗したものの平均値\n",
    "- 線形回帰にはパラメータがない=モデルの複雑さを制御する方法がない"
   ]
  },
  {
   "cell_type": "code",
   "execution_count": 4,
   "metadata": {},
   "outputs": [
    {
     "name": "stdout",
     "output_type": "stream",
     "text": [
      "lr.coef_: [ 0.39390555]\n",
      "lr.intercept_: -0.031804343026759746\n"
     ]
    }
   ],
   "source": [
    "from sklearn.linear_model import LinearRegression\n",
    "X, y = mglearn.datasets.make_wave(n_samples=60)\n",
    "X_train, X_test, y_train, y_test = train_test_split(X, y , random_state=42)\n",
    "\n",
    "lr = LinearRegression().fit(X_train, y_train)\n",
    "\n",
    "# 傾き(w)は重みもしくは係数(cefficient)と呼ばれ「coef_」属性に格納される\n",
    "print(\"lr.coef_: {}\".format(lr.coef_))\n",
    "# 切片(b)は「intercept_」属性に格納される\n",
    "print(\"lr.intercept_: {}\".format(lr.intercept_))"
   ]
  },
  {
   "cell_type": "markdown",
   "metadata": {},
   "source": [
    "### !point\n",
    "- coef_やintercept_のようにscikit-learnでは訓練データから得られた属性には全て最後にアンダースコアをつける慣習になっている\n",
    "    - これはユーザーが設定したパラメタと明確に区別するため\n",
    "\n",
    "- intercept_属性は常に単独の浮動小数点数だが、coef_属性は入力特徴量ごとに一つの要素をもつNumPy配列となる"
   ]
  },
  {
   "cell_type": "code",
   "execution_count": 5,
   "metadata": {},
   "outputs": [
    {
     "name": "stdout",
     "output_type": "stream",
     "text": [
      "Training set score: 0.67\n",
      "Test set score: 0.66\n"
     ]
    }
   ],
   "source": [
    "print(\"Training set score: {:.2f}\".format(lr.score(X_train, y_train)))\n",
    "print(\"Test set score: {:.2f}\".format(lr.score(X_test, y_test)))"
   ]
  },
  {
   "cell_type": "markdown",
   "metadata": {},
   "source": [
    "- R2が0.66というのは余り良くないが訓練セットとテストセットに対する値が非常に近い\n",
    "- これはおそらく適合不足であって、過剰適合ではないことを意味する\n",
    "- このような一次元データセットではモデルが非常に単純なため過剰適合の危険は少ない"
   ]
  },
  {
   "cell_type": "markdown",
   "metadata": {},
   "source": [
    "### 高次元のデータセットによる検証"
   ]
  },
  {
   "cell_type": "code",
   "execution_count": 6,
   "metadata": {},
   "outputs": [
    {
     "name": "stdout",
     "output_type": "stream",
     "text": [
      "Training set score: 0.95\n",
      "Test set score: 0.61\n"
     ]
    }
   ],
   "source": [
    "X, y = mglearn.datasets.load_extended_boston()\n",
    "\n",
    "X_train, X_test, y_train, y_test = train_test_split(X, y, random_state=0)\n",
    "lr = LinearRegression().fit(X_train, y_train)\n",
    "\n",
    "print(\"Training set score: {:.2f}\".format(lr.score(X_train, y_train)))\n",
    "print(\"Test set score: {:.2f}\".format(lr.score(X_test, y_test)))"
   ]
  },
  {
   "cell_type": "markdown",
   "metadata": {},
   "source": [
    "- このように訓練セットとテストセットで性能が大きく異なるのは過剰適合が起きている明らかな兆候\n",
    "- これを解決するために複雑度を制御できるモデルを探さなくてはいけない\n",
    "\n",
    "------------"
   ]
  },
  {
   "cell_type": "markdown",
   "metadata": {},
   "source": [
    "リッジ回帰\n",
    "--------------------\n",
    "- 予測に用いられる式は、通常最小二乗法のものと同じ\n",
    "- 係数(w)を訓練データに対する予測だけでなく、他の成約に対しても最適化する\n",
    "    - 係数の絶対値の大きさを可能な限り小さくしたい(wの要素をなるべく0に近くしたい)\n",
    "- この成約条件は正則化(refularization)の一例である\n",
    "- ※正則化とは過剰適合を防ぐために明示的にモデルを制約すること\n",
    "    - リッジ回帰で用いられる正則化はL2正則化と呼ばれる"
   ]
  },
  {
   "cell_type": "code",
   "execution_count": 8,
   "metadata": {},
   "outputs": [
    {
     "name": "stdout",
     "output_type": "stream",
     "text": [
      "Training set score: 0.93\n",
      "Test set score: 0.77\n"
     ]
    }
   ],
   "source": [
    "from sklearn.linear_model import Ridge\n",
    "\n",
    "ridge = Ridge(alpha=0.1).fit(X_train, y_train)\n",
    "print(\"Training set score: {:.2f}\".format(ridge.score(X_train, y_train)))\n",
    "print(\"Test set score: {:.2f}\".format(ridge.score(X_test, y_test)))"
   ]
  },
  {
   "cell_type": "markdown",
   "metadata": {},
   "source": [
    "- Ridgeの訓練セットに対するスコアはLinearRegressionの場合よりも低く、テストセットに対するスコアは高い\n",
    "- 線形回帰ではデータに対して過剰適合していたが、Ridgeは成約の強いモデルなので過剰適合の危険性は少ない\n",
    "- Ridgeモデルではモデルの簡潔さ(0に近い係数の数)と訓練セットに対する性能がトレードオフの関係になる\n",
    "    - このどちらかに重きを置くかは、ユーザーがalphaパラメタを用いて指定することができる\n",
    "    - alphaを増やすと係数はより0に近くなり訓練セットに対する性能は低下するが、汎化性能は上がる\n",
    "    "
   ]
  },
  {
   "cell_type": "markdown",
   "metadata": {},
   "source": [
    "### coef_属性からalphaパラメータの影響度を理解する\n",
    "\n",
    "- alphaパラメータのモデルへの影響を定量的に知るには様々なalphaに対するモデルのcoef_属性を確認するのがよい\n",
    "- alphaが大きい場合は小さい場合よりも_coef_の要素の絶対値が小さくなることが期待される"
   ]
  },
  {
   "cell_type": "code",
   "execution_count": 46,
   "metadata": {},
   "outputs": [
    {
     "data": {
      "text/plain": [
       "<matplotlib.legend.Legend at 0x11de865f8>"
      ]
     },
     "execution_count": 46,
     "metadata": {},
     "output_type": "execute_result"
    },
    {
     "data": {
      "image/png": "[encoded data removed]",
      "text/plain": [
       "<matplotlib.figure.Figure at 0x11dd8a7b8>"
      ]
     },
     "metadata": {},
     "output_type": "display_data"
    }
   ],
   "source": [
    "ridge10 = Ridge(alpha=10).fit(X_train, y_train)\n",
    "ridge01 = Ridge(alpha=0.1).fit(X_train, y_train)\n",
    "\n",
    "plt.plot(ridge.coef_, 's', label=\"Ridge alpha=1\")\n",
    "plt.plot(ridge10.coef_, 's', label=\"Ridge alpha=10\")\n",
    "plt.plot(ridge01.coef_, 's', label=\"Ridge alpha=0.1\")\n",
    "\n",
    "plt.plot(lr.coef_, 'o', label='LinearRegression')\n",
    "plt.xlabel(\"Coefficient index\")\n",
    "plt.ylabel(\"Coefficient magnitude\")\n",
    "\n",
    "plt.hlines(0, 0, len(lr.coef_))\n",
    "plt.ylim(-25, 25)\n",
    "plt.legend()"
   ]
  },
  {
   "cell_type": "markdown",
   "metadata": {},
   "source": [
    "- alphaパラメータのモデルへの影響を定量的に知るには様々なalphaに対するモデルのcoef_属性を確認するのがよい\n",
    "- alphaが大きい場合は小さい場合よりも_coef_の要素の絶対値が小さくなることが期待される"
   ]
  },
  {
   "cell_type": "markdown",
   "metadata": {},
   "source": [
    "- 上の図のx軸はcoef_の要素を表している\n",
    "    - x=0は最初の特徴量に対する係数。x=1は2番目の特徴に対する係数...\n",
    "    \n",
    "- y軸は特徴量に対応する係数の数値を表している\n",
    "    - この図ではalpha=10ではほとんどの係数が-3から3の間にあることがわかる\n",
    "    - alpha=1ではもう少し広く\n",
    "    - alpha=0.1では更に広い範囲になっている\n",
    "    - 正則化されない線形回帰の場合(alpha=0と同じ)更に広くなる\n",
    "    - つまりalphaが大きくなるほど、値の絶対値は抑制され範囲が小さくなる"
   ]
  },
  {
   "cell_type": "markdown",
   "metadata": {},
   "source": [
    "### 正則化の影響を理解する\n",
    "- alpha値を固定して利用できる訓練データの量を変化させることで正則化の影響を理解する"
   ]
  },
  {
   "cell_type": "code",
   "execution_count": 22,
   "metadata": {},
   "outputs": [
    {
     "data": {
      "image/png": "[encoded data removed]",
      "text/plain": [
       "<matplotlib.figure.Figure at 0x11d6f6e10>"
      ]
     },
     "metadata": {},
     "output_type": "display_data"
    }
   ],
   "source": [
    "# boston_housingのデータセット\n",
    "mglearn.plots.plot_ridge_n_samples()"
   ]
  },
  {
   "cell_type": "markdown",
   "metadata": {},
   "source": [
    "- リッジ回帰でも線形回帰でも訓練スコアは全てのデータサイズにおいてテストスコアよりも高い\n",
    "- リッジ回帰では正則化が行われているため、訓練スコアは線形回帰のものよりも常に低い\n",
    "-　ただしテストスコアはリッジ回帰の方がよい\n",
    "    - データが少ない時は顕著に差がある。(線形回帰は400以下だとほとんど学習できていない)\n",
    "    - データが多くなるほど両者の差は小さくなり、最後は線形回帰が追いつく\n",
    "- ここからわかることは「十分な訓練データがある場合には、正則化はあまり意味がない」ということ\n",
    "    - 線形回帰ではデータ量が多くなると訓練性能がさがっている。これはデータ量がおおくなるとモデルが過剰適合することが難しくなるという事を示している"
   ]
  },
  {
   "cell_type": "markdown",
   "metadata": {},
   "source": [
    "---------------------------\n",
    "Lasso\n",
    "---------------------------\n",
    "- Ridgeに変わる線形回帰にはLassoがある\n",
    "- Lassoもリッジ回帰と同様に係数が0になるように成約をかける(正則化する)\n",
    "    - リッジはL2正則化だったがLassoはL1正則化\n",
    "- Lassoにおいてはいくつかの係数が完全に0になる\n",
    "    - これはモデルにおいて幾つかの特徴量が完全に無視されるということを指す\n",
    "    - 自動的に特徴量を選択していると考えてもよい\n",
    "    - 幾つかの係数が0になるとモデルを解釈しやすくなり、どの特徴量が重要なのかが明らかになる"
   ]
  },
  {
   "cell_type": "code",
   "execution_count": 24,
   "metadata": {},
   "outputs": [
    {
     "name": "stdout",
     "output_type": "stream",
     "text": [
      "Training set score: 0.29\n",
      "Test set score: 0.21\n",
      "Number of features used: 4.00\n"
     ]
    }
   ],
   "source": [
    "# boston_housingのデータセットに適用する\n",
    "from sklearn.linear_model import Lasso\n",
    "\n",
    "lasso = Lasso().fit(X_train, y_train)\n",
    "print(\"Training set score: {:.2f}\".format(lasso.score(X_train, y_train)))\n",
    "print(\"Test set score: {:.2f}\".format(lasso.score(X_test, y_test)))\n",
    "print(\"Number of features used: {:.2f}\".format(np.sum(lasso.coef_ != 0)))"
   ]
  },
  {
   "cell_type": "markdown",
   "metadata": {},
   "source": [
    "- 訓練セットに対してもテストセットに対しても非常に悪い\n",
    "- これは適合不足であることを示唆している\n",
    "- さらに104ある特徴量のうちわずか4つしかつかっていない\n",
    "\n",
    "---\n",
    "\n",
    "- Ridgeと同じようにLassoにも係数を0に向かわせる強さを制御する正則化パラメータalphaがある\n",
    "    - 上記の例ではデフォルトの1.0となっていた\n",
    "- 適合不足の度合を減らすためには、alphaを減らせばよい\n",
    "- この際に、max_iter(最大繰り返し回数)もデフォルトから増やしてやる必要がある"
   ]
  },
  {
   "cell_type": "code",
   "execution_count": 42,
   "metadata": {},
   "outputs": [
    {
     "name": "stdout",
     "output_type": "stream",
     "text": [
      "Training set score: 0.90\n",
      "Test set score: 0.77\n",
      "Number of features used: 33.00\n"
     ]
    }
   ],
   "source": [
    "lasso001 = Lasso(alpha=0.01, max_iter=100000).fit(X_train, y_train)\n",
    "print(\"Training set score: {:.2f}\".format(lasso001.score(X_train, y_train)))\n",
    "print(\"Test set score: {:.2f}\".format(lasso001.score(X_test, y_test)))\n",
    "print(\"Number of features used: {:.2f}\".format(np.sum(lasso001.coef_ != 0)))"
   ]
  },
  {
   "cell_type": "markdown",
   "metadata": {},
   "source": [
    "- alphaを小さくすると、より複雑なモデルに適合するようになり、訓練データに対してもテストデータに対しても良い結果が得られている\n",
    "- 性能はRidgeよりも少しだけ良いくらいだが、104の特徴量のうちわずか33しかつかっていない。これによりモデルは潜在的に理解しやすくなっている"
   ]
  },
  {
   "cell_type": "markdown",
   "metadata": {},
   "source": [
    "### alphaを小さくしすぎた場合"
   ]
  },
  {
   "cell_type": "code",
   "execution_count": 43,
   "metadata": {},
   "outputs": [
    {
     "name": "stdout",
     "output_type": "stream",
     "text": [
      "Training set score: 0.95\n",
      "Test set score: 0.64\n",
      "Number of features used: 94.00\n"
     ]
    }
   ],
   "source": [
    "lasso00001 = Lasso(alpha=0.0001, max_iter=100000).fit(X_train, y_train)\n",
    "print(\"Training set score: {:.2f}\".format(lasso00001.score(X_train, y_train)))\n",
    "print(\"Test set score: {:.2f}\".format(lasso00001.score(X_test, y_test)))\n",
    "print(\"Number of features used: {:.2f}\".format(np.sum(lasso00001.coef_ != 0)))"
   ]
  },
  {
   "cell_type": "markdown",
   "metadata": {},
   "source": [
    "- alphaを小さくしすぎるとリッジの場合と同様に正則可の効果が薄れ過剰適合が発生し、性能はLinearRegressionと似たようなものになる"
   ]
  },
  {
   "cell_type": "markdown",
   "metadata": {},
   "source": [
    "### モデルに対して係数をプロット"
   ]
  },
  {
   "cell_type": "markdown",
   "metadata": {},
   "source": []
  },
  {
   "cell_type": "code",
   "execution_count": 51,
   "metadata": {},
   "outputs": [
    {
     "data": {
      "text/plain": [
       "<matplotlib.text.Text at 0x11d616e48>"
      ]
     },
     "execution_count": 51,
     "metadata": {},
     "output_type": "execute_result"
    },
    {
     "data": {
      "image/png": "[encoded data removed]",
      "text/plain": [
       "<matplotlib.figure.Figure at 0x11d9ec748>"
      ]
     },
     "metadata": {},
     "output_type": "display_data"
    }
   ],
   "source": [
    "plt.plot(lasso.coef_, 's', label=\"Lasso alpha=1\")\n",
    "plt.plot(lasso001.coef_, '^', label=\"Lasso alpha=0.01\")\n",
    "plt.plot(lasso00001.coef_, 'v', label=\"Lasso alpha=0.0001\")\n",
    "\n",
    "plt.plot(ridge01.coef_, 'o', label=\"Ridge alpha=0.1\")\n",
    "plt.legend(ncol=2, loc=(0, 1.05))\n",
    "plt.ylim(-25, 25)\n",
    "plt.xlabel(\"Coefficient index\")\n",
    "plt.ylabel(\"Coefficient magnitude\")"
   ]
  },
  {
   "cell_type": "markdown",
   "metadata": {},
   "source": [
    "- alpha=1の場合はほとんどの係数が0\n",
    "- alpha=0.1でもほとんどの特徴量に対する係数は0\n",
    "- alpha=0.0001で正則化はかなり緩み多くの係数がゼロではなくなる\n",
    "\n",
    "### まとめ\n",
    "- 実際に使う場合はリッジをまず試すのがよい\n",
    "- しかし、特徴量が沢山あってそのうち重要なものはわずかしかないことが予測されるのであればLassoの方が向いている\n",
    "- 同様に解釈しやすいモデルが欲しいなら重要な特徴量のサブセットを選んでくれるLassoの方が理解しやすいモデルが得られる\n",
    "- scikit-learnにはLassoとRidgeのペナルティを組み合わせたElasticNetがある。実用上はこの組み合わせが最良の結果をもたらすが、L1正則化パラメタとL2正則化パラメタの２つを調整するコストがかかる"
   ]
  },
  {
   "cell_type": "markdown",
   "metadata": {},
   "source": [
    "### nextaction\n",
    "- Lassoを軽く復習"
   ]
  }
 ],
 "metadata": {
  "kernelspec": {
   "display_name": "Python 3",
   "language": "python",
   "name": "python3"
  },
  "language_info": {
   "codemirror_mode": {
    "name": "ipython",
    "version": 3
   },
   "file_extension": ".py",
   "mimetype": "text/x-python",
   "name": "python",
   "nbconvert_exporter": "python",
   "pygments_lexer": "ipython3",
   "version": "3.6.0"
  }
 },
 "nbformat": 4,
 "nbformat_minor": 2
}
